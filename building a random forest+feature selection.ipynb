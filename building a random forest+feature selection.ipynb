{
 "cells": [
  {
   "cell_type": "code",
   "execution_count": 149,
   "metadata": {},
   "outputs": [],
   "source": [
    "# Importing the libraries\n",
    "import numpy as np\n",
    "import matplotlib.pyplot as plt\n",
    "import pandas as pd\n",
    "import matplotlib.pyplot as plt\n",
    "plt.style.use('ggplot')\n",
    "\n",
    "from math import sin, cos, sqrt, atan2, radians\n",
    "import numpy as np\n",
    "np.seterr(divide='ignore', invalid='ignore')\n",
    "import pandas as pd\n",
    "import random\n",
    "from sklearn.model_selection import train_test_split\n",
    "from sklearn.linear_model import LogisticRegression\n",
    "from sklearn.metrics import (auc, classification_report, roc_auc_score, accuracy_score,\n",
    "                             f1_score, log_loss, roc_curve, confusion_matrix, precision_score, recall_score)\n",
    "import statsmodels.formula.api as smf"
   ]
  },
  {
   "cell_type": "code",
   "execution_count": 150,
   "metadata": {},
   "outputs": [],
   "source": [
    "#opening our data\n",
    "mm_data = pd.read_csv('allseasons.csv').query(\"season<2020\").reset_index(drop=True)"
   ]
  },
  {
   "cell_type": "code",
   "execution_count": 151,
   "metadata": {},
   "outputs": [],
   "source": [
    "#data = data.drop(columns=['WLoc','team1_position','team2_position','team1_region','team2_region','slot','host','team1_teamname','team2_teamname','game_id'])"
   ]
  },
  {
   "cell_type": "markdown",
   "metadata": {},
   "source": [
    "## log odds"
   ]
  },
  {
   "cell_type": "code",
   "execution_count": 152,
   "metadata": {},
   "outputs": [],
   "source": [
    "##expected win percentage vs avg team\n",
    "mm_data['exp_win1'] = (mm_data['team1_adjoe']**11.5)/ ((mm_data['team1_adjde']**11.5)+(mm_data['team1_adjoe']**11.5))\n",
    "mm_data['exp_win2'] = (mm_data['team2_adjoe']**11.5)/ ((mm_data['team2_adjde']**11.5)+(mm_data['team2_adjoe']**11.5))"
   ]
  },
  {
   "cell_type": "code",
   "execution_count": 153,
   "metadata": {},
   "outputs": [],
   "source": [
    "mm_data['team1_log5'] = (mm_data['exp_win1'] - (mm_data['exp_win1']*mm_data['exp_win2']))/ (mm_data['exp_win1']+mm_data['exp_win2']-(2*mm_data['exp_win1']*mm_data['exp_win2']))"
   ]
  },
  {
   "cell_type": "markdown",
   "metadata": {},
   "source": [
    "## diff dist"
   ]
  },
  {
   "cell_type": "code",
   "execution_count": 154,
   "metadata": {},
   "outputs": [],
   "source": [
    "def distance(lat1, lon1, lat2, lon2):\n",
    "\n",
    "    # approximate radius of earth in km\n",
    "    R = 6373.0\n",
    "\n",
    "    lat1 = radians(lat1)\n",
    "    lon1 = radians(lon1)\n",
    "    lat2 = radians(lat2)\n",
    "    lon2 = radians(lon2)\n",
    "\n",
    "    dlon = lon2 - lon1\n",
    "    dlat = lat2 - lat1\n",
    "\n",
    "    a = sin(dlat / 2)**2 + cos(lat1) * cos(lat2) * sin(dlon / 2)**2\n",
    "    c = 2 * atan2(sqrt(a), sqrt(1 - a))\n",
    "\n",
    "    distance = R * c\n",
    "    \n",
    "    return distance"
   ]
  },
  {
   "cell_type": "code",
   "execution_count": 155,
   "metadata": {},
   "outputs": [],
   "source": [
    "mm_data['dist1'] = mm_data.apply(lambda row: distance(row['host_lat'], row['host_long'], row['team1_lat'], row['team1_long']), axis=1)\n",
    "mm_data['dist2'] = mm_data.apply(lambda row: distance(row['host_lat'], row['host_long'], row['team2_lat'], row['team2_long']), axis=1)"
   ]
  },
  {
   "cell_type": "code",
   "execution_count": 156,
   "metadata": {},
   "outputs": [],
   "source": [
    "mm_data['diff_dist'] = mm_data['dist1'] - mm_data['dist2']"
   ]
  },
  {
   "cell_type": "markdown",
   "metadata": {},
   "source": [
    "## Seed dif"
   ]
  },
  {
   "cell_type": "code",
   "execution_count": 157,
   "metadata": {},
   "outputs": [],
   "source": [
    "mm_data['seed_diff'] = mm_data['team1_seed'] - mm_data['team2_seed']\n"
   ]
  },
  {
   "cell_type": "markdown",
   "metadata": {},
   "source": [
    "### SRS diff"
   ]
  },
  {
   "cell_type": "code",
   "execution_count": 158,
   "metadata": {},
   "outputs": [],
   "source": [
    "mm_data['srs_diff'] = mm_data['team1_SRS'] - mm_data['team2_SRS']"
   ]
  },
  {
   "cell_type": "markdown",
   "metadata": {},
   "source": [
    "### Net rating"
   ]
  },
  {
   "cell_type": "code",
   "execution_count": 159,
   "metadata": {},
   "outputs": [],
   "source": [
    "mm_data['net_rating_diff'] = (mm_data['team1_adjoe'] - mm_data['team1_adjde']) - (mm_data['team2_adjoe'] - mm_data['team2_adjde'])"
   ]
  },
  {
   "cell_type": "markdown",
   "metadata": {},
   "source": [
    "## tempo"
   ]
  },
  {
   "cell_type": "code",
   "execution_count": 160,
   "metadata": {},
   "outputs": [],
   "source": [
    "mm_data['diff_tempo'] = mm_data['team1_adjtempo'] - mm_data['team2_adjtempo']"
   ]
  },
  {
   "cell_type": "markdown",
   "metadata": {},
   "source": [
    "## offensive eff\n"
   ]
  },
  {
   "cell_type": "code",
   "execution_count": 161,
   "metadata": {},
   "outputs": [],
   "source": [
    "mm_data['diff_adjoe'] = mm_data['team1_adjoe'] - mm_data['team2_adjoe']"
   ]
  },
  {
   "cell_type": "markdown",
   "metadata": {},
   "source": [
    "## win temp"
   ]
  },
  {
   "cell_type": "code",
   "execution_count": 162,
   "metadata": {},
   "outputs": [],
   "source": [
    "mm_data['win_tempo_diff'] = (((mm_data['team1_adjoe'] - 100) -(100 - mm_data['team2_adjde'])+100)/100*((mm_data['team1_adjtempo'] + mm_data['team2_adjtempo'])/2)) - (((mm_data['team2_adjoe'] - 100) - (100 - mm_data['team1_adjde'])+100)/100*((mm_data['team1_adjtempo']+mm_data['team2_adjtempo'])/2))"
   ]
  },
  {
   "cell_type": "markdown",
   "metadata": {},
   "source": [
    "### True Rebounding %"
   ]
  },
  {
   "cell_type": "code",
   "execution_count": 163,
   "metadata": {},
   "outputs": [],
   "source": [
    "mm_data['TRB_diff'] = mm_data['team1_TRB%'] - mm_data['team2_TRB%']"
   ]
  },
  {
   "cell_type": "markdown",
   "metadata": {},
   "source": [
    "### split data"
   ]
  },
  {
   "cell_type": "code",
   "execution_count": 164,
   "metadata": {},
   "outputs": [],
   "source": [
    "mm_data.dropna(subset=['team1_log5'], inplace=True)"
   ]
  },
  {
   "cell_type": "code",
   "execution_count": 165,
   "metadata": {},
   "outputs": [],
   "source": [
    "mm_data['team1_win'] = (mm_data['team1_score']>mm_data['team2_score']).astype(int)"
   ]
  },
  {
   "cell_type": "code",
   "execution_count": 166,
   "metadata": {},
   "outputs": [],
   "source": [
    "training_columns = ['game_id','team1_win','team1_adjoe','team2_adjoe','team1_adjtempo','team2_adjtempo',\n",
    "                                    'team2_adjde','team1_adjde','team1_fg2pct',\n",
    "                    'team1_fg3pct','team1_ftpct','team2_fg2pct','team2_fg3pct','team2_ftpct','team1_TS%','team2_TS%',\n",
    "                   'team1_blockpct','team2_blockpct','win_tempo_diff',\n",
    "                   'team1_log5','diff_dist','seed_diff','net_rating_diff','srs_diff','TRB_diff']\n",
    "mm_data_1 = mm_data.sample(frac=.5, random_state=15)[training_columns]\n",
    "mm_data_2 = mm_data[~mm_data.index.isin(mm_data_1.index)][training_columns].reset_index(drop=True)\n",
    "mm_data_1 = mm_data_1.reset_index(drop=True)"
   ]
  },
  {
   "cell_type": "code",
   "execution_count": 167,
   "metadata": {},
   "outputs": [
    {
     "data": {
      "text/html": [
       "<div>\n",
       "<style scoped>\n",
       "    .dataframe tbody tr th:only-of-type {\n",
       "        vertical-align: middle;\n",
       "    }\n",
       "\n",
       "    .dataframe tbody tr th {\n",
       "        vertical-align: top;\n",
       "    }\n",
       "\n",
       "    .dataframe thead th {\n",
       "        text-align: right;\n",
       "    }\n",
       "</style>\n",
       "<table border=\"1\" class=\"dataframe\">\n",
       "  <thead>\n",
       "    <tr style=\"text-align: right;\">\n",
       "      <th></th>\n",
       "      <th>game_id</th>\n",
       "      <th>team1_win</th>\n",
       "      <th>team1_adjoe</th>\n",
       "      <th>team2_adjoe</th>\n",
       "      <th>team1_adjtempo</th>\n",
       "      <th>team2_adjtempo</th>\n",
       "      <th>team2_adjde</th>\n",
       "      <th>team1_adjde</th>\n",
       "      <th>team1_fg2pct</th>\n",
       "      <th>team1_fg3pct</th>\n",
       "      <th>...</th>\n",
       "      <th>team2_TS%</th>\n",
       "      <th>team1_blockpct</th>\n",
       "      <th>team2_blockpct</th>\n",
       "      <th>win_tempo_diff</th>\n",
       "      <th>team1_log5</th>\n",
       "      <th>diff_dist</th>\n",
       "      <th>seed_diff</th>\n",
       "      <th>net_rating_diff</th>\n",
       "      <th>srs_diff</th>\n",
       "      <th>TRB_diff</th>\n",
       "    </tr>\n",
       "  </thead>\n",
       "  <tbody>\n",
       "    <tr>\n",
       "      <th>0</th>\n",
       "      <td>2019-1125-1396</td>\n",
       "      <td>1</td>\n",
       "      <td>114.952</td>\n",
       "      <td>108.9910</td>\n",
       "      <td>71.1915</td>\n",
       "      <td>68.8256</td>\n",
       "      <td>99.5630</td>\n",
       "      <td>101.8860</td>\n",
       "      <td>59.497207</td>\n",
       "      <td>37.112172</td>\n",
       "      <td>...</td>\n",
       "      <td>53.4</td>\n",
       "      <td>9.127302</td>\n",
       "      <td>6.315789</td>\n",
       "      <td>2.546911</td>\n",
       "      <td>0.585922</td>\n",
       "      <td>-307.876634</td>\n",
       "      <td>0</td>\n",
       "      <td>3.6380</td>\n",
       "      <td>0.95</td>\n",
       "      <td>4.0</td>\n",
       "    </tr>\n",
       "    <tr>\n",
       "      <th>1</th>\n",
       "      <td>2019-1295-1300</td>\n",
       "      <td>1</td>\n",
       "      <td>106.675</td>\n",
       "      <td>96.7551</td>\n",
       "      <td>64.8533</td>\n",
       "      <td>65.2686</td>\n",
       "      <td>108.6610</td>\n",
       "      <td>109.8730</td>\n",
       "      <td>52.445961</td>\n",
       "      <td>36.842105</td>\n",
       "      <td>...</td>\n",
       "      <td>54.5</td>\n",
       "      <td>6.643658</td>\n",
       "      <td>6.912029</td>\n",
       "      <td>5.665442</td>\n",
       "      <td>0.730051</td>\n",
       "      <td>663.316546</td>\n",
       "      <td>0</td>\n",
       "      <td>8.7079</td>\n",
       "      <td>7.52</td>\n",
       "      <td>-6.1</td>\n",
       "    </tr>\n",
       "    <tr>\n",
       "      <th>2</th>\n",
       "      <td>2019-1278-1257</td>\n",
       "      <td>1</td>\n",
       "      <td>110.803</td>\n",
       "      <td>113.5030</td>\n",
       "      <td>67.5056</td>\n",
       "      <td>67.1950</td>\n",
       "      <td>92.4983</td>\n",
       "      <td>96.3335</td>\n",
       "      <td>48.391813</td>\n",
       "      <td>32.129964</td>\n",
       "      <td>...</td>\n",
       "      <td>55.3</td>\n",
       "      <td>10.256410</td>\n",
       "      <td>8.048780</td>\n",
       "      <td>-4.401477</td>\n",
       "      <td>0.322116</td>\n",
       "      <td>-391.001293</td>\n",
       "      <td>3</td>\n",
       "      <td>-6.5352</td>\n",
       "      <td>-4.76</td>\n",
       "      <td>-1.2</td>\n",
       "    </tr>\n",
       "    <tr>\n",
       "      <th>3</th>\n",
       "      <td>2019-1261-1463</td>\n",
       "      <td>1</td>\n",
       "      <td>118.620</td>\n",
       "      <td>110.5520</td>\n",
       "      <td>69.9424</td>\n",
       "      <td>70.8110</td>\n",
       "      <td>102.2790</td>\n",
       "      <td>97.6208</td>\n",
       "      <td>53.430995</td>\n",
       "      <td>32.300885</td>\n",
       "      <td>...</td>\n",
       "      <td>58.4</td>\n",
       "      <td>12.020906</td>\n",
       "      <td>10.933082</td>\n",
       "      <td>8.956280</td>\n",
       "      <td>0.793493</td>\n",
       "      <td>-538.588141</td>\n",
       "      <td>-11</td>\n",
       "      <td>12.7262</td>\n",
       "      <td>10.98</td>\n",
       "      <td>0.1</td>\n",
       "    </tr>\n",
       "    <tr>\n",
       "      <th>4</th>\n",
       "      <td>2019-1120-1308</td>\n",
       "      <td>1</td>\n",
       "      <td>119.283</td>\n",
       "      <td>112.7330</td>\n",
       "      <td>67.5646</td>\n",
       "      <td>65.6538</td>\n",
       "      <td>99.1319</td>\n",
       "      <td>97.1706</td>\n",
       "      <td>51.383399</td>\n",
       "      <td>38.100102</td>\n",
       "      <td>...</td>\n",
       "      <td>56.2</td>\n",
       "      <td>16.099071</td>\n",
       "      <td>7.523810</td>\n",
       "      <td>5.669309</td>\n",
       "      <td>0.706674</td>\n",
       "      <td>1463.624314</td>\n",
       "      <td>-7</td>\n",
       "      <td>8.5113</td>\n",
       "      <td>10.79</td>\n",
       "      <td>-8.0</td>\n",
       "    </tr>\n",
       "    <tr>\n",
       "      <th>...</th>\n",
       "      <td>...</td>\n",
       "      <td>...</td>\n",
       "      <td>...</td>\n",
       "      <td>...</td>\n",
       "      <td>...</td>\n",
       "      <td>...</td>\n",
       "      <td>...</td>\n",
       "      <td>...</td>\n",
       "      <td>...</td>\n",
       "      <td>...</td>\n",
       "      <td>...</td>\n",
       "      <td>...</td>\n",
       "      <td>...</td>\n",
       "      <td>...</td>\n",
       "      <td>...</td>\n",
       "      <td>...</td>\n",
       "      <td>...</td>\n",
       "      <td>...</td>\n",
       "      <td>...</td>\n",
       "      <td>...</td>\n",
       "      <td>...</td>\n",
       "    </tr>\n",
       "    <tr>\n",
       "      <th>584</th>\n",
       "      <td>2018-1181-1393</td>\n",
       "      <td>1</td>\n",
       "      <td>118.700</td>\n",
       "      <td>103.0000</td>\n",
       "      <td>70.0000</td>\n",
       "      <td>63.4000</td>\n",
       "      <td>98.3000</td>\n",
       "      <td>97.3000</td>\n",
       "      <td>55.648218</td>\n",
       "      <td>37.793103</td>\n",
       "      <td>...</td>\n",
       "      <td>51.8</td>\n",
       "      <td>13.189270</td>\n",
       "      <td>17.933723</td>\n",
       "      <td>11.138900</td>\n",
       "      <td>0.851839</td>\n",
       "      <td>-56.740049</td>\n",
       "      <td>-9</td>\n",
       "      <td>16.7000</td>\n",
       "      <td>11.54</td>\n",
       "      <td>2.9</td>\n",
       "    </tr>\n",
       "    <tr>\n",
       "      <th>585</th>\n",
       "      <td>2018-1437-1403</td>\n",
       "      <td>1</td>\n",
       "      <td>122.800</td>\n",
       "      <td>109.2000</td>\n",
       "      <td>68.3000</td>\n",
       "      <td>66.6000</td>\n",
       "      <td>94.2000</td>\n",
       "      <td>99.9000</td>\n",
       "      <td>59.713518</td>\n",
       "      <td>39.794872</td>\n",
       "      <td>...</td>\n",
       "      <td>55.5</td>\n",
       "      <td>10.219531</td>\n",
       "      <td>12.923923</td>\n",
       "      <td>5.328550</td>\n",
       "      <td>0.662444</td>\n",
       "      <td>-2412.607153</td>\n",
       "      <td>-2</td>\n",
       "      <td>7.9000</td>\n",
       "      <td>7.26</td>\n",
       "      <td>-0.2</td>\n",
       "    </tr>\n",
       "    <tr>\n",
       "      <th>586</th>\n",
       "      <td>2018-1260-1243</td>\n",
       "      <td>1</td>\n",
       "      <td>108.700</td>\n",
       "      <td>108.3000</td>\n",
       "      <td>65.3000</td>\n",
       "      <td>65.5000</td>\n",
       "      <td>101.6000</td>\n",
       "      <td>93.9000</td>\n",
       "      <td>56.534091</td>\n",
       "      <td>40.034072</td>\n",
       "      <td>...</td>\n",
       "      <td>56.0</td>\n",
       "      <td>6.773619</td>\n",
       "      <td>9.243697</td>\n",
       "      <td>5.297400</td>\n",
       "      <td>0.720863</td>\n",
       "      <td>-284.535852</td>\n",
       "      <td>2</td>\n",
       "      <td>8.1000</td>\n",
       "      <td>-2.48</td>\n",
       "      <td>3.9</td>\n",
       "    </tr>\n",
       "    <tr>\n",
       "      <th>587</th>\n",
       "      <td>2018-1276-1199</td>\n",
       "      <td>1</td>\n",
       "      <td>111.200</td>\n",
       "      <td>110.8000</td>\n",
       "      <td>64.4000</td>\n",
       "      <td>71.6000</td>\n",
       "      <td>101.4000</td>\n",
       "      <td>96.5000</td>\n",
       "      <td>54.339964</td>\n",
       "      <td>36.309524</td>\n",
       "      <td>...</td>\n",
       "      <td>56.2</td>\n",
       "      <td>8.228840</td>\n",
       "      <td>13.333333</td>\n",
       "      <td>3.604000</td>\n",
       "      <td>0.648177</td>\n",
       "      <td>-75.859795</td>\n",
       "      <td>-6</td>\n",
       "      <td>5.3000</td>\n",
       "      <td>3.25</td>\n",
       "      <td>-1.5</td>\n",
       "    </tr>\n",
       "    <tr>\n",
       "      <th>588</th>\n",
       "      <td>2018-1276-1260</td>\n",
       "      <td>1</td>\n",
       "      <td>111.200</td>\n",
       "      <td>108.7000</td>\n",
       "      <td>64.4000</td>\n",
       "      <td>65.3000</td>\n",
       "      <td>93.9000</td>\n",
       "      <td>96.5000</td>\n",
       "      <td>54.339964</td>\n",
       "      <td>36.309524</td>\n",
       "      <td>...</td>\n",
       "      <td>60.2</td>\n",
       "      <td>8.228840</td>\n",
       "      <td>6.773619</td>\n",
       "      <td>-0.064850</td>\n",
       "      <td>0.486853</td>\n",
       "      <td>242.765505</td>\n",
       "      <td>-8</td>\n",
       "      <td>-0.1000</td>\n",
       "      <td>8.66</td>\n",
       "      <td>-1.0</td>\n",
       "    </tr>\n",
       "  </tbody>\n",
       "</table>\n",
       "<p>589 rows × 25 columns</p>\n",
       "</div>"
      ],
      "text/plain": [
       "            game_id  team1_win  team1_adjoe  team2_adjoe  team1_adjtempo  \\\n",
       "0    2019-1125-1396          1      114.952     108.9910         71.1915   \n",
       "1    2019-1295-1300          1      106.675      96.7551         64.8533   \n",
       "2    2019-1278-1257          1      110.803     113.5030         67.5056   \n",
       "3    2019-1261-1463          1      118.620     110.5520         69.9424   \n",
       "4    2019-1120-1308          1      119.283     112.7330         67.5646   \n",
       "..              ...        ...          ...          ...             ...   \n",
       "584  2018-1181-1393          1      118.700     103.0000         70.0000   \n",
       "585  2018-1437-1403          1      122.800     109.2000         68.3000   \n",
       "586  2018-1260-1243          1      108.700     108.3000         65.3000   \n",
       "587  2018-1276-1199          1      111.200     110.8000         64.4000   \n",
       "588  2018-1276-1260          1      111.200     108.7000         64.4000   \n",
       "\n",
       "     team2_adjtempo  team2_adjde  team1_adjde  team1_fg2pct  team1_fg3pct  \\\n",
       "0           68.8256      99.5630     101.8860     59.497207     37.112172   \n",
       "1           65.2686     108.6610     109.8730     52.445961     36.842105   \n",
       "2           67.1950      92.4983      96.3335     48.391813     32.129964   \n",
       "3           70.8110     102.2790      97.6208     53.430995     32.300885   \n",
       "4           65.6538      99.1319      97.1706     51.383399     38.100102   \n",
       "..              ...          ...          ...           ...           ...   \n",
       "584         63.4000      98.3000      97.3000     55.648218     37.793103   \n",
       "585         66.6000      94.2000      99.9000     59.713518     39.794872   \n",
       "586         65.5000     101.6000      93.9000     56.534091     40.034072   \n",
       "587         71.6000     101.4000      96.5000     54.339964     36.309524   \n",
       "588         65.3000      93.9000      96.5000     54.339964     36.309524   \n",
       "\n",
       "     ...  team2_TS%  team1_blockpct  team2_blockpct  win_tempo_diff  \\\n",
       "0    ...       53.4        9.127302        6.315789        2.546911   \n",
       "1    ...       54.5        6.643658        6.912029        5.665442   \n",
       "2    ...       55.3       10.256410        8.048780       -4.401477   \n",
       "3    ...       58.4       12.020906       10.933082        8.956280   \n",
       "4    ...       56.2       16.099071        7.523810        5.669309   \n",
       "..   ...        ...             ...             ...             ...   \n",
       "584  ...       51.8       13.189270       17.933723       11.138900   \n",
       "585  ...       55.5       10.219531       12.923923        5.328550   \n",
       "586  ...       56.0        6.773619        9.243697        5.297400   \n",
       "587  ...       56.2        8.228840       13.333333        3.604000   \n",
       "588  ...       60.2        8.228840        6.773619       -0.064850   \n",
       "\n",
       "     team1_log5    diff_dist  seed_diff  net_rating_diff  srs_diff  TRB_diff  \n",
       "0      0.585922  -307.876634          0           3.6380      0.95       4.0  \n",
       "1      0.730051   663.316546          0           8.7079      7.52      -6.1  \n",
       "2      0.322116  -391.001293          3          -6.5352     -4.76      -1.2  \n",
       "3      0.793493  -538.588141        -11          12.7262     10.98       0.1  \n",
       "4      0.706674  1463.624314         -7           8.5113     10.79      -8.0  \n",
       "..          ...          ...        ...              ...       ...       ...  \n",
       "584    0.851839   -56.740049         -9          16.7000     11.54       2.9  \n",
       "585    0.662444 -2412.607153         -2           7.9000      7.26      -0.2  \n",
       "586    0.720863  -284.535852          2           8.1000     -2.48       3.9  \n",
       "587    0.648177   -75.859795         -6           5.3000      3.25      -1.5  \n",
       "588    0.486853   242.765505         -8          -0.1000      8.66      -1.0  \n",
       "\n",
       "[589 rows x 25 columns]"
      ]
     },
     "execution_count": 167,
     "metadata": {},
     "output_type": "execute_result"
    }
   ],
   "source": [
    "mm_data_2"
   ]
  },
  {
   "cell_type": "code",
   "execution_count": 168,
   "metadata": {},
   "outputs": [],
   "source": [
    "mm_data_2['team1_win'] = 0\n",
    "mm_data_2['diff_dist'] = mm_data_2['diff_dist']*-1\n",
    "mm_data_2['team1_log5'] = 1-mm_data_2['team1_log5']\n",
    "mm_data_2['game_id'] = (mm_data_2['game_id'].str.split('-', expand=True)[0] \n",
    "                           + '-' + mm_data_2['game_id'].str.split('-', expand=True)[2] \n",
    "                           + '-' + mm_data_2['game_id'].str.split('-', expand=True)[1]\n",
    "                           ) \n",
    "mm_data_2['seed_diff'] = mm_data_2['seed_diff']*-1\n",
    "mm_data_2.columns =['game_id','team1_win','team1_adjoe','team2_adjoe','team1_adjtempo','team2_adjtempo',\n",
    "                                    'team2_adjde','team1_adjde','team1_fg2pct',\n",
    "                    'team1_fg3pct','team1_ftpct','team2_fg2pct','team2_fg3pct','team2_ftpct','team1_TS%','team2_TS%',\n",
    "                   'team1_blockpct','team2_blockpct','win_tempo_diff',\n",
    "                   'team1_log5','diff_dist','seed_diff','net_rating_diff','srs_diff','TRB_diff']"
   ]
  },
  {
   "cell_type": "code",
   "execution_count": 169,
   "metadata": {},
   "outputs": [],
   "source": [
    "mm_train = pd.concat([mm_data_2, mm_data_1]).reset_index(drop=True)"
   ]
  },
  {
   "cell_type": "code",
   "execution_count": 170,
   "metadata": {},
   "outputs": [],
   "source": [
    "#mm_train['team1_SRS'] = mm_train['team1_SRS'].fillna(0)\n",
    "#mm_train['team2_SRS'] = mm_train['team2_SRS'].fillna(0)\n",
    "mm_train['srs_diff'] = mm_train['srs_diff'].fillna(0)\n",
    "mm_train['team1_TS%'] = mm_train['team1_TS%'].fillna(0)\n",
    "mm_train['team2_TS%'] = mm_train['team2_TS%'].fillna(0)\n",
    "mm_train['TRB_diff'] = mm_train['TRB_diff'].fillna(0)"
   ]
  },
  {
   "cell_type": "code",
   "execution_count": 147,
   "metadata": {},
   "outputs": [],
   "source": [
    "#mm_train['team1_win']=mm_train['team1_win'].replace(1,2)\n",
    "mm_train['team1_win']=mm_train['team1_win'].replace(0,2)"
   ]
  },
  {
   "cell_type": "code",
   "execution_count": 171,
   "metadata": {},
   "outputs": [],
   "source": [
    "data = mm_train\n",
    "data = data.drop(columns=['game_id'])"
   ]
  },
  {
   "cell_type": "code",
   "execution_count": 172,
   "metadata": {},
   "outputs": [
    {
     "data": {
      "text/plain": [
       "team1_win\n",
       "0    0.360954\n",
       "1    0.605706\n",
       "Name: team1_log5, dtype: float64"
      ]
     },
     "execution_count": 172,
     "metadata": {},
     "output_type": "execute_result"
    }
   ],
   "source": [
    "data.groupby('team1_win')['team1_log5'].mean()"
   ]
  },
  {
   "cell_type": "code",
   "execution_count": 173,
   "metadata": {
    "scrolled": true
   },
   "outputs": [
    {
     "data": {
      "text/html": [
       "<div>\n",
       "<style scoped>\n",
       "    .dataframe tbody tr th:only-of-type {\n",
       "        vertical-align: middle;\n",
       "    }\n",
       "\n",
       "    .dataframe tbody tr th {\n",
       "        vertical-align: top;\n",
       "    }\n",
       "\n",
       "    .dataframe thead th {\n",
       "        text-align: right;\n",
       "    }\n",
       "</style>\n",
       "<table border=\"1\" class=\"dataframe\">\n",
       "  <thead>\n",
       "    <tr style=\"text-align: right;\">\n",
       "      <th></th>\n",
       "      <th>team1_win</th>\n",
       "      <th>team1_adjoe</th>\n",
       "      <th>team2_adjoe</th>\n",
       "      <th>team1_adjtempo</th>\n",
       "      <th>team2_adjtempo</th>\n",
       "      <th>team2_adjde</th>\n",
       "      <th>team1_adjde</th>\n",
       "      <th>team1_fg2pct</th>\n",
       "      <th>team1_fg3pct</th>\n",
       "      <th>team1_ftpct</th>\n",
       "      <th>...</th>\n",
       "      <th>team2_TS%</th>\n",
       "      <th>team1_blockpct</th>\n",
       "      <th>team2_blockpct</th>\n",
       "      <th>win_tempo_diff</th>\n",
       "      <th>team1_log5</th>\n",
       "      <th>diff_dist</th>\n",
       "      <th>seed_diff</th>\n",
       "      <th>net_rating_diff</th>\n",
       "      <th>srs_diff</th>\n",
       "      <th>TRB_diff</th>\n",
       "    </tr>\n",
       "  </thead>\n",
       "  <tbody>\n",
       "    <tr>\n",
       "      <th>0</th>\n",
       "      <td>0</td>\n",
       "      <td>114.9520</td>\n",
       "      <td>108.9910</td>\n",
       "      <td>71.1915</td>\n",
       "      <td>68.8256</td>\n",
       "      <td>99.5630</td>\n",
       "      <td>101.8860</td>\n",
       "      <td>59.497207</td>\n",
       "      <td>37.112172</td>\n",
       "      <td>73.556797</td>\n",
       "      <td>...</td>\n",
       "      <td>53.4</td>\n",
       "      <td>9.127302</td>\n",
       "      <td>6.315789</td>\n",
       "      <td>2.546911</td>\n",
       "      <td>0.414078</td>\n",
       "      <td>307.876634</td>\n",
       "      <td>0</td>\n",
       "      <td>3.6380</td>\n",
       "      <td>0.95</td>\n",
       "      <td>4.0</td>\n",
       "    </tr>\n",
       "    <tr>\n",
       "      <th>1</th>\n",
       "      <td>0</td>\n",
       "      <td>106.6750</td>\n",
       "      <td>96.7551</td>\n",
       "      <td>64.8533</td>\n",
       "      <td>65.2686</td>\n",
       "      <td>108.6610</td>\n",
       "      <td>109.8730</td>\n",
       "      <td>52.445961</td>\n",
       "      <td>36.842105</td>\n",
       "      <td>76.470588</td>\n",
       "      <td>...</td>\n",
       "      <td>54.5</td>\n",
       "      <td>6.643658</td>\n",
       "      <td>6.912029</td>\n",
       "      <td>5.665442</td>\n",
       "      <td>0.269949</td>\n",
       "      <td>-663.316546</td>\n",
       "      <td>0</td>\n",
       "      <td>8.7079</td>\n",
       "      <td>7.52</td>\n",
       "      <td>-6.1</td>\n",
       "    </tr>\n",
       "    <tr>\n",
       "      <th>2</th>\n",
       "      <td>0</td>\n",
       "      <td>110.8030</td>\n",
       "      <td>113.5030</td>\n",
       "      <td>67.5056</td>\n",
       "      <td>67.1950</td>\n",
       "      <td>92.4983</td>\n",
       "      <td>96.3335</td>\n",
       "      <td>48.391813</td>\n",
       "      <td>32.129964</td>\n",
       "      <td>67.945545</td>\n",
       "      <td>...</td>\n",
       "      <td>55.3</td>\n",
       "      <td>10.256410</td>\n",
       "      <td>8.048780</td>\n",
       "      <td>-4.401477</td>\n",
       "      <td>0.677884</td>\n",
       "      <td>391.001293</td>\n",
       "      <td>-3</td>\n",
       "      <td>-6.5352</td>\n",
       "      <td>-4.76</td>\n",
       "      <td>-1.2</td>\n",
       "    </tr>\n",
       "    <tr>\n",
       "      <th>3</th>\n",
       "      <td>0</td>\n",
       "      <td>118.6200</td>\n",
       "      <td>110.5520</td>\n",
       "      <td>69.9424</td>\n",
       "      <td>70.8110</td>\n",
       "      <td>102.2790</td>\n",
       "      <td>97.6208</td>\n",
       "      <td>53.430995</td>\n",
       "      <td>32.300885</td>\n",
       "      <td>75.403226</td>\n",
       "      <td>...</td>\n",
       "      <td>58.4</td>\n",
       "      <td>12.020906</td>\n",
       "      <td>10.933082</td>\n",
       "      <td>8.956280</td>\n",
       "      <td>0.206507</td>\n",
       "      <td>538.588141</td>\n",
       "      <td>11</td>\n",
       "      <td>12.7262</td>\n",
       "      <td>10.98</td>\n",
       "      <td>0.1</td>\n",
       "    </tr>\n",
       "    <tr>\n",
       "      <th>4</th>\n",
       "      <td>0</td>\n",
       "      <td>119.2830</td>\n",
       "      <td>112.7330</td>\n",
       "      <td>67.5646</td>\n",
       "      <td>65.6538</td>\n",
       "      <td>99.1319</td>\n",
       "      <td>97.1706</td>\n",
       "      <td>51.383399</td>\n",
       "      <td>38.100102</td>\n",
       "      <td>71.266234</td>\n",
       "      <td>...</td>\n",
       "      <td>56.2</td>\n",
       "      <td>16.099071</td>\n",
       "      <td>7.523810</td>\n",
       "      <td>5.669309</td>\n",
       "      <td>0.293326</td>\n",
       "      <td>-1463.624314</td>\n",
       "      <td>7</td>\n",
       "      <td>8.5113</td>\n",
       "      <td>10.79</td>\n",
       "      <td>-8.0</td>\n",
       "    </tr>\n",
       "    <tr>\n",
       "      <th>...</th>\n",
       "      <td>...</td>\n",
       "      <td>...</td>\n",
       "      <td>...</td>\n",
       "      <td>...</td>\n",
       "      <td>...</td>\n",
       "      <td>...</td>\n",
       "      <td>...</td>\n",
       "      <td>...</td>\n",
       "      <td>...</td>\n",
       "      <td>...</td>\n",
       "      <td>...</td>\n",
       "      <td>...</td>\n",
       "      <td>...</td>\n",
       "      <td>...</td>\n",
       "      <td>...</td>\n",
       "      <td>...</td>\n",
       "      <td>...</td>\n",
       "      <td>...</td>\n",
       "      <td>...</td>\n",
       "      <td>...</td>\n",
       "      <td>...</td>\n",
       "    </tr>\n",
       "    <tr>\n",
       "      <th>1174</th>\n",
       "      <td>1</td>\n",
       "      <td>114.0809</td>\n",
       "      <td>114.2741</td>\n",
       "      <td>66.2369</td>\n",
       "      <td>66.9406</td>\n",
       "      <td>89.9466</td>\n",
       "      <td>98.0954</td>\n",
       "      <td>51.023500</td>\n",
       "      <td>39.731500</td>\n",
       "      <td>74.638500</td>\n",
       "      <td>...</td>\n",
       "      <td>53.4</td>\n",
       "      <td>6.460100</td>\n",
       "      <td>11.738300</td>\n",
       "      <td>-5.554834</td>\n",
       "      <td>0.265653</td>\n",
       "      <td>774.656517</td>\n",
       "      <td>1</td>\n",
       "      <td>-8.3420</td>\n",
       "      <td>-4.28</td>\n",
       "      <td>-1.2</td>\n",
       "    </tr>\n",
       "    <tr>\n",
       "      <th>1175</th>\n",
       "      <td>1</td>\n",
       "      <td>117.9750</td>\n",
       "      <td>104.6730</td>\n",
       "      <td>66.3703</td>\n",
       "      <td>72.5707</td>\n",
       "      <td>101.9460</td>\n",
       "      <td>95.1305</td>\n",
       "      <td>53.414000</td>\n",
       "      <td>36.560900</td>\n",
       "      <td>75.071200</td>\n",
       "      <td>...</td>\n",
       "      <td>54.0</td>\n",
       "      <td>8.985300</td>\n",
       "      <td>9.026700</td>\n",
       "      <td>13.975728</td>\n",
       "      <td>0.897660</td>\n",
       "      <td>1347.865301</td>\n",
       "      <td>-11</td>\n",
       "      <td>20.1175</td>\n",
       "      <td>17.18</td>\n",
       "      <td>0.0</td>\n",
       "    </tr>\n",
       "    <tr>\n",
       "      <th>1176</th>\n",
       "      <td>1</td>\n",
       "      <td>110.0334</td>\n",
       "      <td>103.1107</td>\n",
       "      <td>64.4347</td>\n",
       "      <td>62.8191</td>\n",
       "      <td>88.9640</td>\n",
       "      <td>95.5252</td>\n",
       "      <td>49.856700</td>\n",
       "      <td>36.363600</td>\n",
       "      <td>66.156000</td>\n",
       "      <td>...</td>\n",
       "      <td>52.1</td>\n",
       "      <td>13.104700</td>\n",
       "      <td>8.753300</td>\n",
       "      <td>0.230011</td>\n",
       "      <td>0.482247</td>\n",
       "      <td>-243.369216</td>\n",
       "      <td>-7</td>\n",
       "      <td>0.3615</td>\n",
       "      <td>0.17</td>\n",
       "      <td>-4.4</td>\n",
       "    </tr>\n",
       "    <tr>\n",
       "      <th>1177</th>\n",
       "      <td>1</td>\n",
       "      <td>112.8260</td>\n",
       "      <td>125.2580</td>\n",
       "      <td>66.6081</td>\n",
       "      <td>69.8432</td>\n",
       "      <td>92.3982</td>\n",
       "      <td>86.0594</td>\n",
       "      <td>52.884615</td>\n",
       "      <td>36.767036</td>\n",
       "      <td>72.773109</td>\n",
       "      <td>...</td>\n",
       "      <td>62.0</td>\n",
       "      <td>15.317073</td>\n",
       "      <td>13.574661</td>\n",
       "      <td>-4.157125</td>\n",
       "      <td>0.404975</td>\n",
       "      <td>-58.644552</td>\n",
       "      <td>2</td>\n",
       "      <td>-6.0932</td>\n",
       "      <td>-5.00</td>\n",
       "      <td>-3.9</td>\n",
       "    </tr>\n",
       "    <tr>\n",
       "      <th>1178</th>\n",
       "      <td>1</td>\n",
       "      <td>114.0138</td>\n",
       "      <td>110.2039</td>\n",
       "      <td>66.0062</td>\n",
       "      <td>65.5645</td>\n",
       "      <td>90.5274</td>\n",
       "      <td>100.6247</td>\n",
       "      <td>48.237900</td>\n",
       "      <td>40.065700</td>\n",
       "      <td>72.772900</td>\n",
       "      <td>...</td>\n",
       "      <td>55.7</td>\n",
       "      <td>8.660100</td>\n",
       "      <td>11.451500</td>\n",
       "      <td>-4.136188</td>\n",
       "      <td>0.304657</td>\n",
       "      <td>-160.357819</td>\n",
       "      <td>5</td>\n",
       "      <td>-6.2874</td>\n",
       "      <td>-9.35</td>\n",
       "      <td>-2.8</td>\n",
       "    </tr>\n",
       "  </tbody>\n",
       "</table>\n",
       "<p>1179 rows × 24 columns</p>\n",
       "</div>"
      ],
      "text/plain": [
       "      team1_win  team1_adjoe  team2_adjoe  team1_adjtempo  team2_adjtempo  \\\n",
       "0             0     114.9520     108.9910         71.1915         68.8256   \n",
       "1             0     106.6750      96.7551         64.8533         65.2686   \n",
       "2             0     110.8030     113.5030         67.5056         67.1950   \n",
       "3             0     118.6200     110.5520         69.9424         70.8110   \n",
       "4             0     119.2830     112.7330         67.5646         65.6538   \n",
       "...         ...          ...          ...             ...             ...   \n",
       "1174          1     114.0809     114.2741         66.2369         66.9406   \n",
       "1175          1     117.9750     104.6730         66.3703         72.5707   \n",
       "1176          1     110.0334     103.1107         64.4347         62.8191   \n",
       "1177          1     112.8260     125.2580         66.6081         69.8432   \n",
       "1178          1     114.0138     110.2039         66.0062         65.5645   \n",
       "\n",
       "      team2_adjde  team1_adjde  team1_fg2pct  team1_fg3pct  team1_ftpct  ...  \\\n",
       "0         99.5630     101.8860     59.497207     37.112172    73.556797  ...   \n",
       "1        108.6610     109.8730     52.445961     36.842105    76.470588  ...   \n",
       "2         92.4983      96.3335     48.391813     32.129964    67.945545  ...   \n",
       "3        102.2790      97.6208     53.430995     32.300885    75.403226  ...   \n",
       "4         99.1319      97.1706     51.383399     38.100102    71.266234  ...   \n",
       "...           ...          ...           ...           ...          ...  ...   \n",
       "1174      89.9466      98.0954     51.023500     39.731500    74.638500  ...   \n",
       "1175     101.9460      95.1305     53.414000     36.560900    75.071200  ...   \n",
       "1176      88.9640      95.5252     49.856700     36.363600    66.156000  ...   \n",
       "1177      92.3982      86.0594     52.884615     36.767036    72.773109  ...   \n",
       "1178      90.5274     100.6247     48.237900     40.065700    72.772900  ...   \n",
       "\n",
       "      team2_TS%  team1_blockpct  team2_blockpct  win_tempo_diff  team1_log5  \\\n",
       "0          53.4        9.127302        6.315789        2.546911    0.414078   \n",
       "1          54.5        6.643658        6.912029        5.665442    0.269949   \n",
       "2          55.3       10.256410        8.048780       -4.401477    0.677884   \n",
       "3          58.4       12.020906       10.933082        8.956280    0.206507   \n",
       "4          56.2       16.099071        7.523810        5.669309    0.293326   \n",
       "...         ...             ...             ...             ...         ...   \n",
       "1174       53.4        6.460100       11.738300       -5.554834    0.265653   \n",
       "1175       54.0        8.985300        9.026700       13.975728    0.897660   \n",
       "1176       52.1       13.104700        8.753300        0.230011    0.482247   \n",
       "1177       62.0       15.317073       13.574661       -4.157125    0.404975   \n",
       "1178       55.7        8.660100       11.451500       -4.136188    0.304657   \n",
       "\n",
       "        diff_dist  seed_diff  net_rating_diff  srs_diff  TRB_diff  \n",
       "0      307.876634          0           3.6380      0.95       4.0  \n",
       "1     -663.316546          0           8.7079      7.52      -6.1  \n",
       "2      391.001293         -3          -6.5352     -4.76      -1.2  \n",
       "3      538.588141         11          12.7262     10.98       0.1  \n",
       "4    -1463.624314          7           8.5113     10.79      -8.0  \n",
       "...           ...        ...              ...       ...       ...  \n",
       "1174   774.656517          1          -8.3420     -4.28      -1.2  \n",
       "1175  1347.865301        -11          20.1175     17.18       0.0  \n",
       "1176  -243.369216         -7           0.3615      0.17      -4.4  \n",
       "1177   -58.644552          2          -6.0932     -5.00      -3.9  \n",
       "1178  -160.357819          5          -6.2874     -9.35      -2.8  \n",
       "\n",
       "[1179 rows x 24 columns]"
      ]
     },
     "execution_count": 173,
     "metadata": {},
     "output_type": "execute_result"
    }
   ],
   "source": [
    "data"
   ]
  },
  {
   "cell_type": "markdown",
   "metadata": {},
   "source": [
    "### random forest classifier"
   ]
  },
  {
   "cell_type": "code",
   "execution_count": 205,
   "metadata": {
    "scrolled": true
   },
   "outputs": [],
   "source": [
    "## reset data to maybe change variables\n",
    "data = mm_train\n",
    "data = data.drop(columns=['game_id'])"
   ]
  },
  {
   "cell_type": "code",
   "execution_count": 175,
   "metadata": {},
   "outputs": [],
   "source": [
    "#use this line to change the variables of the random forest model\n",
    "\n",
    "data = data[['team1_win','team1_adjoe', 'team2_adjoe', 'team2_adjde', 'team1_adjde',\n",
    "       'win_tempo_diff', 'team1_log5', 'diff_dist', 'seed_diff',\n",
    "       'net_rating_diff', 'srs_diff']]\n"
   ]
  },
  {
   "cell_type": "code",
   "execution_count": 206,
   "metadata": {},
   "outputs": [],
   "source": [
    "#sets team1win as first columns, which makes it easier to set into array\n",
    "data = data[ ['team1_win'] + [ col for col in data.columns if col != 'team1_win' ] ]"
   ]
  },
  {
   "cell_type": "code",
   "execution_count": 207,
   "metadata": {},
   "outputs": [
    {
     "data": {
      "text/html": [
       "<div>\n",
       "<style scoped>\n",
       "    .dataframe tbody tr th:only-of-type {\n",
       "        vertical-align: middle;\n",
       "    }\n",
       "\n",
       "    .dataframe tbody tr th {\n",
       "        vertical-align: top;\n",
       "    }\n",
       "\n",
       "    .dataframe thead th {\n",
       "        text-align: right;\n",
       "    }\n",
       "</style>\n",
       "<table border=\"1\" class=\"dataframe\">\n",
       "  <thead>\n",
       "    <tr style=\"text-align: right;\">\n",
       "      <th></th>\n",
       "      <th>team1_win</th>\n",
       "      <th>team1_adjoe</th>\n",
       "      <th>team2_adjoe</th>\n",
       "      <th>team1_adjtempo</th>\n",
       "      <th>team2_adjtempo</th>\n",
       "      <th>team2_adjde</th>\n",
       "      <th>team1_adjde</th>\n",
       "      <th>team1_fg2pct</th>\n",
       "      <th>team1_fg3pct</th>\n",
       "      <th>team1_ftpct</th>\n",
       "      <th>...</th>\n",
       "      <th>team2_TS%</th>\n",
       "      <th>team1_blockpct</th>\n",
       "      <th>team2_blockpct</th>\n",
       "      <th>win_tempo_diff</th>\n",
       "      <th>team1_log5</th>\n",
       "      <th>diff_dist</th>\n",
       "      <th>seed_diff</th>\n",
       "      <th>net_rating_diff</th>\n",
       "      <th>srs_diff</th>\n",
       "      <th>TRB_diff</th>\n",
       "    </tr>\n",
       "  </thead>\n",
       "  <tbody>\n",
       "    <tr>\n",
       "      <th>0</th>\n",
       "      <td>0</td>\n",
       "      <td>114.9520</td>\n",
       "      <td>108.9910</td>\n",
       "      <td>71.1915</td>\n",
       "      <td>68.8256</td>\n",
       "      <td>99.5630</td>\n",
       "      <td>101.8860</td>\n",
       "      <td>59.497207</td>\n",
       "      <td>37.112172</td>\n",
       "      <td>73.556797</td>\n",
       "      <td>...</td>\n",
       "      <td>53.4</td>\n",
       "      <td>9.127302</td>\n",
       "      <td>6.315789</td>\n",
       "      <td>2.546911</td>\n",
       "      <td>0.414078</td>\n",
       "      <td>307.876634</td>\n",
       "      <td>0</td>\n",
       "      <td>3.6380</td>\n",
       "      <td>0.95</td>\n",
       "      <td>4.0</td>\n",
       "    </tr>\n",
       "    <tr>\n",
       "      <th>1</th>\n",
       "      <td>0</td>\n",
       "      <td>106.6750</td>\n",
       "      <td>96.7551</td>\n",
       "      <td>64.8533</td>\n",
       "      <td>65.2686</td>\n",
       "      <td>108.6610</td>\n",
       "      <td>109.8730</td>\n",
       "      <td>52.445961</td>\n",
       "      <td>36.842105</td>\n",
       "      <td>76.470588</td>\n",
       "      <td>...</td>\n",
       "      <td>54.5</td>\n",
       "      <td>6.643658</td>\n",
       "      <td>6.912029</td>\n",
       "      <td>5.665442</td>\n",
       "      <td>0.269949</td>\n",
       "      <td>-663.316546</td>\n",
       "      <td>0</td>\n",
       "      <td>8.7079</td>\n",
       "      <td>7.52</td>\n",
       "      <td>-6.1</td>\n",
       "    </tr>\n",
       "    <tr>\n",
       "      <th>2</th>\n",
       "      <td>0</td>\n",
       "      <td>110.8030</td>\n",
       "      <td>113.5030</td>\n",
       "      <td>67.5056</td>\n",
       "      <td>67.1950</td>\n",
       "      <td>92.4983</td>\n",
       "      <td>96.3335</td>\n",
       "      <td>48.391813</td>\n",
       "      <td>32.129964</td>\n",
       "      <td>67.945545</td>\n",
       "      <td>...</td>\n",
       "      <td>55.3</td>\n",
       "      <td>10.256410</td>\n",
       "      <td>8.048780</td>\n",
       "      <td>-4.401477</td>\n",
       "      <td>0.677884</td>\n",
       "      <td>391.001293</td>\n",
       "      <td>-3</td>\n",
       "      <td>-6.5352</td>\n",
       "      <td>-4.76</td>\n",
       "      <td>-1.2</td>\n",
       "    </tr>\n",
       "    <tr>\n",
       "      <th>3</th>\n",
       "      <td>0</td>\n",
       "      <td>118.6200</td>\n",
       "      <td>110.5520</td>\n",
       "      <td>69.9424</td>\n",
       "      <td>70.8110</td>\n",
       "      <td>102.2790</td>\n",
       "      <td>97.6208</td>\n",
       "      <td>53.430995</td>\n",
       "      <td>32.300885</td>\n",
       "      <td>75.403226</td>\n",
       "      <td>...</td>\n",
       "      <td>58.4</td>\n",
       "      <td>12.020906</td>\n",
       "      <td>10.933082</td>\n",
       "      <td>8.956280</td>\n",
       "      <td>0.206507</td>\n",
       "      <td>538.588141</td>\n",
       "      <td>11</td>\n",
       "      <td>12.7262</td>\n",
       "      <td>10.98</td>\n",
       "      <td>0.1</td>\n",
       "    </tr>\n",
       "    <tr>\n",
       "      <th>4</th>\n",
       "      <td>0</td>\n",
       "      <td>119.2830</td>\n",
       "      <td>112.7330</td>\n",
       "      <td>67.5646</td>\n",
       "      <td>65.6538</td>\n",
       "      <td>99.1319</td>\n",
       "      <td>97.1706</td>\n",
       "      <td>51.383399</td>\n",
       "      <td>38.100102</td>\n",
       "      <td>71.266234</td>\n",
       "      <td>...</td>\n",
       "      <td>56.2</td>\n",
       "      <td>16.099071</td>\n",
       "      <td>7.523810</td>\n",
       "      <td>5.669309</td>\n",
       "      <td>0.293326</td>\n",
       "      <td>-1463.624314</td>\n",
       "      <td>7</td>\n",
       "      <td>8.5113</td>\n",
       "      <td>10.79</td>\n",
       "      <td>-8.0</td>\n",
       "    </tr>\n",
       "    <tr>\n",
       "      <th>...</th>\n",
       "      <td>...</td>\n",
       "      <td>...</td>\n",
       "      <td>...</td>\n",
       "      <td>...</td>\n",
       "      <td>...</td>\n",
       "      <td>...</td>\n",
       "      <td>...</td>\n",
       "      <td>...</td>\n",
       "      <td>...</td>\n",
       "      <td>...</td>\n",
       "      <td>...</td>\n",
       "      <td>...</td>\n",
       "      <td>...</td>\n",
       "      <td>...</td>\n",
       "      <td>...</td>\n",
       "      <td>...</td>\n",
       "      <td>...</td>\n",
       "      <td>...</td>\n",
       "      <td>...</td>\n",
       "      <td>...</td>\n",
       "      <td>...</td>\n",
       "    </tr>\n",
       "    <tr>\n",
       "      <th>1174</th>\n",
       "      <td>1</td>\n",
       "      <td>114.0809</td>\n",
       "      <td>114.2741</td>\n",
       "      <td>66.2369</td>\n",
       "      <td>66.9406</td>\n",
       "      <td>89.9466</td>\n",
       "      <td>98.0954</td>\n",
       "      <td>51.023500</td>\n",
       "      <td>39.731500</td>\n",
       "      <td>74.638500</td>\n",
       "      <td>...</td>\n",
       "      <td>53.4</td>\n",
       "      <td>6.460100</td>\n",
       "      <td>11.738300</td>\n",
       "      <td>-5.554834</td>\n",
       "      <td>0.265653</td>\n",
       "      <td>774.656517</td>\n",
       "      <td>1</td>\n",
       "      <td>-8.3420</td>\n",
       "      <td>-4.28</td>\n",
       "      <td>-1.2</td>\n",
       "    </tr>\n",
       "    <tr>\n",
       "      <th>1175</th>\n",
       "      <td>1</td>\n",
       "      <td>117.9750</td>\n",
       "      <td>104.6730</td>\n",
       "      <td>66.3703</td>\n",
       "      <td>72.5707</td>\n",
       "      <td>101.9460</td>\n",
       "      <td>95.1305</td>\n",
       "      <td>53.414000</td>\n",
       "      <td>36.560900</td>\n",
       "      <td>75.071200</td>\n",
       "      <td>...</td>\n",
       "      <td>54.0</td>\n",
       "      <td>8.985300</td>\n",
       "      <td>9.026700</td>\n",
       "      <td>13.975728</td>\n",
       "      <td>0.897660</td>\n",
       "      <td>1347.865301</td>\n",
       "      <td>-11</td>\n",
       "      <td>20.1175</td>\n",
       "      <td>17.18</td>\n",
       "      <td>0.0</td>\n",
       "    </tr>\n",
       "    <tr>\n",
       "      <th>1176</th>\n",
       "      <td>1</td>\n",
       "      <td>110.0334</td>\n",
       "      <td>103.1107</td>\n",
       "      <td>64.4347</td>\n",
       "      <td>62.8191</td>\n",
       "      <td>88.9640</td>\n",
       "      <td>95.5252</td>\n",
       "      <td>49.856700</td>\n",
       "      <td>36.363600</td>\n",
       "      <td>66.156000</td>\n",
       "      <td>...</td>\n",
       "      <td>52.1</td>\n",
       "      <td>13.104700</td>\n",
       "      <td>8.753300</td>\n",
       "      <td>0.230011</td>\n",
       "      <td>0.482247</td>\n",
       "      <td>-243.369216</td>\n",
       "      <td>-7</td>\n",
       "      <td>0.3615</td>\n",
       "      <td>0.17</td>\n",
       "      <td>-4.4</td>\n",
       "    </tr>\n",
       "    <tr>\n",
       "      <th>1177</th>\n",
       "      <td>1</td>\n",
       "      <td>112.8260</td>\n",
       "      <td>125.2580</td>\n",
       "      <td>66.6081</td>\n",
       "      <td>69.8432</td>\n",
       "      <td>92.3982</td>\n",
       "      <td>86.0594</td>\n",
       "      <td>52.884615</td>\n",
       "      <td>36.767036</td>\n",
       "      <td>72.773109</td>\n",
       "      <td>...</td>\n",
       "      <td>62.0</td>\n",
       "      <td>15.317073</td>\n",
       "      <td>13.574661</td>\n",
       "      <td>-4.157125</td>\n",
       "      <td>0.404975</td>\n",
       "      <td>-58.644552</td>\n",
       "      <td>2</td>\n",
       "      <td>-6.0932</td>\n",
       "      <td>-5.00</td>\n",
       "      <td>-3.9</td>\n",
       "    </tr>\n",
       "    <tr>\n",
       "      <th>1178</th>\n",
       "      <td>1</td>\n",
       "      <td>114.0138</td>\n",
       "      <td>110.2039</td>\n",
       "      <td>66.0062</td>\n",
       "      <td>65.5645</td>\n",
       "      <td>90.5274</td>\n",
       "      <td>100.6247</td>\n",
       "      <td>48.237900</td>\n",
       "      <td>40.065700</td>\n",
       "      <td>72.772900</td>\n",
       "      <td>...</td>\n",
       "      <td>55.7</td>\n",
       "      <td>8.660100</td>\n",
       "      <td>11.451500</td>\n",
       "      <td>-4.136188</td>\n",
       "      <td>0.304657</td>\n",
       "      <td>-160.357819</td>\n",
       "      <td>5</td>\n",
       "      <td>-6.2874</td>\n",
       "      <td>-9.35</td>\n",
       "      <td>-2.8</td>\n",
       "    </tr>\n",
       "  </tbody>\n",
       "</table>\n",
       "<p>1179 rows × 24 columns</p>\n",
       "</div>"
      ],
      "text/plain": [
       "      team1_win  team1_adjoe  team2_adjoe  team1_adjtempo  team2_adjtempo  \\\n",
       "0             0     114.9520     108.9910         71.1915         68.8256   \n",
       "1             0     106.6750      96.7551         64.8533         65.2686   \n",
       "2             0     110.8030     113.5030         67.5056         67.1950   \n",
       "3             0     118.6200     110.5520         69.9424         70.8110   \n",
       "4             0     119.2830     112.7330         67.5646         65.6538   \n",
       "...         ...          ...          ...             ...             ...   \n",
       "1174          1     114.0809     114.2741         66.2369         66.9406   \n",
       "1175          1     117.9750     104.6730         66.3703         72.5707   \n",
       "1176          1     110.0334     103.1107         64.4347         62.8191   \n",
       "1177          1     112.8260     125.2580         66.6081         69.8432   \n",
       "1178          1     114.0138     110.2039         66.0062         65.5645   \n",
       "\n",
       "      team2_adjde  team1_adjde  team1_fg2pct  team1_fg3pct  team1_ftpct  ...  \\\n",
       "0         99.5630     101.8860     59.497207     37.112172    73.556797  ...   \n",
       "1        108.6610     109.8730     52.445961     36.842105    76.470588  ...   \n",
       "2         92.4983      96.3335     48.391813     32.129964    67.945545  ...   \n",
       "3        102.2790      97.6208     53.430995     32.300885    75.403226  ...   \n",
       "4         99.1319      97.1706     51.383399     38.100102    71.266234  ...   \n",
       "...           ...          ...           ...           ...          ...  ...   \n",
       "1174      89.9466      98.0954     51.023500     39.731500    74.638500  ...   \n",
       "1175     101.9460      95.1305     53.414000     36.560900    75.071200  ...   \n",
       "1176      88.9640      95.5252     49.856700     36.363600    66.156000  ...   \n",
       "1177      92.3982      86.0594     52.884615     36.767036    72.773109  ...   \n",
       "1178      90.5274     100.6247     48.237900     40.065700    72.772900  ...   \n",
       "\n",
       "      team2_TS%  team1_blockpct  team2_blockpct  win_tempo_diff  team1_log5  \\\n",
       "0          53.4        9.127302        6.315789        2.546911    0.414078   \n",
       "1          54.5        6.643658        6.912029        5.665442    0.269949   \n",
       "2          55.3       10.256410        8.048780       -4.401477    0.677884   \n",
       "3          58.4       12.020906       10.933082        8.956280    0.206507   \n",
       "4          56.2       16.099071        7.523810        5.669309    0.293326   \n",
       "...         ...             ...             ...             ...         ...   \n",
       "1174       53.4        6.460100       11.738300       -5.554834    0.265653   \n",
       "1175       54.0        8.985300        9.026700       13.975728    0.897660   \n",
       "1176       52.1       13.104700        8.753300        0.230011    0.482247   \n",
       "1177       62.0       15.317073       13.574661       -4.157125    0.404975   \n",
       "1178       55.7        8.660100       11.451500       -4.136188    0.304657   \n",
       "\n",
       "        diff_dist  seed_diff  net_rating_diff  srs_diff  TRB_diff  \n",
       "0      307.876634          0           3.6380      0.95       4.0  \n",
       "1     -663.316546          0           8.7079      7.52      -6.1  \n",
       "2      391.001293         -3          -6.5352     -4.76      -1.2  \n",
       "3      538.588141         11          12.7262     10.98       0.1  \n",
       "4    -1463.624314          7           8.5113     10.79      -8.0  \n",
       "...           ...        ...              ...       ...       ...  \n",
       "1174   774.656517          1          -8.3420     -4.28      -1.2  \n",
       "1175  1347.865301        -11          20.1175     17.18       0.0  \n",
       "1176  -243.369216         -7           0.3615      0.17      -4.4  \n",
       "1177   -58.644552          2          -6.0932     -5.00      -3.9  \n",
       "1178  -160.357819          5          -6.2874     -9.35      -2.8  \n",
       "\n",
       "[1179 rows x 24 columns]"
      ]
     },
     "execution_count": 207,
     "metadata": {},
     "output_type": "execute_result"
    }
   ],
   "source": [
    "data"
   ]
  },
  {
   "cell_type": "code",
   "execution_count": 208,
   "metadata": {},
   "outputs": [],
   "source": [
    "#Choose which variable you would like to remove for this data set\n",
    "#data = data.drop(columns=['srs_diff'])\n",
    "#data = data.drop(columns=['net_rating_diff'])\n",
    "#data = data.drop(columns=['diff_dist'])\n",
    "#data = data.drop(columns=['team1_log5'])"
   ]
  },
  {
   "cell_type": "code",
   "execution_count": 357,
   "metadata": {},
   "outputs": [],
   "source": [
    "X = data\n",
    "y = data['team1_win']\n",
    "X = X.drop(columns=['team1_win'])"
   ]
  },
  {
   "cell_type": "code",
   "execution_count": 358,
   "metadata": {},
   "outputs": [],
   "source": [
    "# to gather a list of important variables once random forest model is built\n",
    "data_list = list(X.columns)\n",
    "#data_list = data_list.remove('team1_win')"
   ]
  },
  {
   "cell_type": "code",
   "execution_count": 359,
   "metadata": {},
   "outputs": [],
   "source": [
    "#turns data into array, this can be skipped\n",
    "X = data.iloc[:, 1:].values\n",
    "y = data.iloc[:, 0].values"
   ]
  },
  {
   "cell_type": "code",
   "execution_count": 360,
   "metadata": {},
   "outputs": [],
   "source": [
    "from sklearn.model_selection import train_test_split\n",
    "\n",
    "X_train, X_test, y_train, y_test = train_test_split(X, y, test_size=0.25, random_state=42)"
   ]
  },
  {
   "cell_type": "code",
   "execution_count": 361,
   "metadata": {},
   "outputs": [
    {
     "data": {
      "text/plain": [
       "array([[ 1.162551e+02,  1.096136e+02,  7.541800e+01, ...,  5.021500e+00,\n",
       "         4.270000e+00,  1.200000e+00],\n",
       "       [ 1.123967e+02,  1.131231e+02,  6.468270e+01, ..., -4.500000e-02,\n",
       "         1.620000e+00, -8.000000e-01],\n",
       "       [ 1.075194e+02,  1.160830e+02,  6.786620e+01, ..., -1.452100e+00,\n",
       "        -1.590000e+00, -3.200000e+00],\n",
       "       ...,\n",
       "       [ 1.105509e+02,  1.063486e+02,  6.602290e+01, ...,  1.000990e+01,\n",
       "         1.010000e+01,  3.400000e+00],\n",
       "       [ 1.202030e+02,  1.083640e+02,  7.117700e+01, ...,  1.442840e+01,\n",
       "         1.150000e+01,  6.500000e+00],\n",
       "       [ 1.161109e+02,  1.094072e+02,  6.555950e+01, ...,  1.326080e+01,\n",
       "         1.237000e+01,  4.300000e+00]])"
      ]
     },
     "execution_count": 361,
     "metadata": {},
     "output_type": "execute_result"
    }
   ],
   "source": [
    "X_train"
   ]
  },
  {
   "cell_type": "code",
   "execution_count": 362,
   "metadata": {},
   "outputs": [],
   "source": [
    "from sklearn import preprocessing\n",
    "\n",
    "X_train = preprocessing.normalize(X_train)\n",
    "X_test = preprocessing.normalize(X_test)"
   ]
  },
  {
   "cell_type": "code",
   "execution_count": 363,
   "metadata": {},
   "outputs": [],
   "source": [
    "from sklearn.preprocessing import StandardScaler\n",
    "\n",
    "sc = StandardScaler()\n",
    "X_train = sc.fit_transform(X_train)\n",
    "X_test = sc.transform(X_test)"
   ]
  },
  {
   "cell_type": "code",
   "execution_count": 364,
   "metadata": {},
   "outputs": [
    {
     "data": {
      "text/plain": [
       "array([[-1.16457061, -1.20565825, -1.17644892, ..., -0.24340285,\n",
       "        -0.27669662, -0.07311924],\n",
       "       [-0.0196968 ,  0.17789982,  0.24480964, ..., -1.03275455,\n",
       "        -0.93214697, -0.00719167],\n",
       "       [-0.54464495, -0.54838522, -0.63774343, ..., -0.13957456,\n",
       "        -0.1668316 ,  0.18063034],\n",
       "       ...,\n",
       "       [-0.71410515, -0.84456512, -0.8987197 , ...,  0.63531024,\n",
       "         0.51732113, -0.32405477],\n",
       "       [ 0.74616193,  0.65852677,  0.52454122, ...,  0.9633568 ,\n",
       "         1.23733925,  0.88103466],\n",
       "       [ 0.96409064,  1.03115229,  1.20191508, ..., -0.45530569,\n",
       "        -0.630443  , -1.42452136]])"
      ]
     },
     "execution_count": 364,
     "metadata": {},
     "output_type": "execute_result"
    }
   ],
   "source": [
    "X_test"
   ]
  },
  {
   "cell_type": "code",
   "execution_count": 365,
   "metadata": {},
   "outputs": [],
   "source": [
    "from sklearn.ensemble import RandomForestClassifier\n",
    "\n",
    "rf = RandomForestClassifier(n_estimators=100, random_state=42,max_features = .08695652)\n",
    "rf.fit(X_train, y_train)\n",
    "y_pred = rf.predict(X_test)\n",
    "predictions = rf.predict_proba(X_test)"
   ]
  },
  {
   "cell_type": "code",
   "execution_count": 366,
   "metadata": {},
   "outputs": [
    {
     "name": "stdout",
     "output_type": "stream",
     "text": [
      "[[113  40]\n",
      " [ 10 132]]\n",
      "              precision    recall  f1-score   support\n",
      "\n",
      "           0       0.92      0.74      0.82       153\n",
      "           1       0.77      0.93      0.84       142\n",
      "\n",
      "    accuracy                           0.83       295\n",
      "   macro avg       0.84      0.83      0.83       295\n",
      "weighted avg       0.85      0.83      0.83       295\n",
      "\n",
      "0.8305084745762712\n"
     ]
    }
   ],
   "source": [
    "from sklearn.metrics import classification_report, confusion_matrix, accuracy_score\n",
    "\n",
    "print(confusion_matrix(y_test,y_pred))\n",
    "print(classification_report(y_test,y_pred))\n",
    "print(accuracy_score(y_test, y_pred))"
   ]
  },
  {
   "cell_type": "code",
   "execution_count": 367,
   "metadata": {},
   "outputs": [
    {
     "data": {
      "text/plain": [
       "array([[0.8 , 0.2 ],\n",
       "       [0.62, 0.38],\n",
       "       [0.32, 0.68],\n",
       "       [0.52, 0.48],\n",
       "       [0.66, 0.34],\n",
       "       [0.18, 0.82],\n",
       "       [0.45, 0.55],\n",
       "       [0.71, 0.29],\n",
       "       [0.39, 0.61],\n",
       "       [0.37, 0.63],\n",
       "       [0.38, 0.62],\n",
       "       [0.29, 0.71],\n",
       "       [0.43, 0.57],\n",
       "       [0.55, 0.45],\n",
       "       [0.26, 0.74],\n",
       "       [0.51, 0.49],\n",
       "       [0.51, 0.49],\n",
       "       [0.8 , 0.2 ],\n",
       "       [0.91, 0.09],\n",
       "       [0.38, 0.62],\n",
       "       [0.82, 0.18],\n",
       "       [0.63, 0.37],\n",
       "       [0.46, 0.54],\n",
       "       [0.26, 0.74],\n",
       "       [0.19, 0.81],\n",
       "       [0.27, 0.73],\n",
       "       [0.32, 0.68],\n",
       "       [0.32, 0.68],\n",
       "       [0.46, 0.54],\n",
       "       [0.4 , 0.6 ],\n",
       "       [0.61, 0.39],\n",
       "       [0.57, 0.43],\n",
       "       [0.73, 0.27],\n",
       "       [0.81, 0.19],\n",
       "       [0.62, 0.38],\n",
       "       [0.64, 0.36],\n",
       "       [0.3 , 0.7 ],\n",
       "       [0.14, 0.86],\n",
       "       [0.24, 0.76],\n",
       "       [0.44, 0.56],\n",
       "       [0.42, 0.58],\n",
       "       [0.39, 0.61],\n",
       "       [0.82, 0.18],\n",
       "       [0.84, 0.16],\n",
       "       [0.33, 0.67],\n",
       "       [0.23, 0.77],\n",
       "       [0.24, 0.76],\n",
       "       [0.22, 0.78],\n",
       "       [0.84, 0.16],\n",
       "       [0.43, 0.57],\n",
       "       [0.27, 0.73],\n",
       "       [0.36, 0.64],\n",
       "       [0.86, 0.14],\n",
       "       [0.35, 0.65],\n",
       "       [0.67, 0.33],\n",
       "       [0.65, 0.35],\n",
       "       [0.36, 0.64],\n",
       "       [0.44, 0.56],\n",
       "       [0.8 , 0.2 ],\n",
       "       [0.18, 0.82],\n",
       "       [0.19, 0.81],\n",
       "       [0.52, 0.48],\n",
       "       [0.36, 0.64],\n",
       "       [0.42, 0.58],\n",
       "       [0.35, 0.65],\n",
       "       [0.72, 0.28],\n",
       "       [0.38, 0.62],\n",
       "       [0.52, 0.48],\n",
       "       [0.77, 0.23],\n",
       "       [0.8 , 0.2 ],\n",
       "       [0.27, 0.73],\n",
       "       [0.73, 0.27],\n",
       "       [0.54, 0.46],\n",
       "       [0.35, 0.65],\n",
       "       [0.37, 0.63],\n",
       "       [0.8 , 0.2 ],\n",
       "       [0.18, 0.82],\n",
       "       [0.52, 0.48],\n",
       "       [0.52, 0.48],\n",
       "       [0.56, 0.44],\n",
       "       [0.58, 0.42],\n",
       "       [0.37, 0.63],\n",
       "       [0.49, 0.51],\n",
       "       [0.71, 0.29],\n",
       "       [0.34, 0.66],\n",
       "       [0.87, 0.13],\n",
       "       [0.27, 0.73],\n",
       "       [0.58, 0.42],\n",
       "       [0.44, 0.56],\n",
       "       [0.52, 0.48],\n",
       "       [0.52, 0.48],\n",
       "       [0.78, 0.22],\n",
       "       [0.49, 0.51],\n",
       "       [0.75, 0.25],\n",
       "       [0.33, 0.67],\n",
       "       [0.74, 0.26],\n",
       "       [0.85, 0.15],\n",
       "       [0.35, 0.65],\n",
       "       [0.58, 0.42],\n",
       "       [0.2 , 0.8 ],\n",
       "       [0.22, 0.78],\n",
       "       [0.67, 0.33],\n",
       "       [0.56, 0.44],\n",
       "       [0.66, 0.34],\n",
       "       [0.88, 0.12],\n",
       "       [0.2 , 0.8 ],\n",
       "       [0.42, 0.58],\n",
       "       [0.78, 0.22],\n",
       "       [0.27, 0.73],\n",
       "       [0.26, 0.74],\n",
       "       [0.48, 0.52],\n",
       "       [0.25, 0.75],\n",
       "       [0.41, 0.59],\n",
       "       [0.49, 0.51],\n",
       "       [0.28, 0.72],\n",
       "       [0.37, 0.63],\n",
       "       [0.47, 0.53],\n",
       "       [0.55, 0.45],\n",
       "       [0.77, 0.23],\n",
       "       [0.73, 0.27],\n",
       "       [0.46, 0.54],\n",
       "       [0.73, 0.27],\n",
       "       [0.75, 0.25],\n",
       "       [0.41, 0.59],\n",
       "       [0.32, 0.68],\n",
       "       [0.33, 0.67],\n",
       "       [0.73, 0.27],\n",
       "       [0.39, 0.61],\n",
       "       [0.52, 0.48],\n",
       "       [0.42, 0.58],\n",
       "       [0.89, 0.11],\n",
       "       [0.45, 0.55],\n",
       "       [0.81, 0.19],\n",
       "       [0.27, 0.73],\n",
       "       [0.58, 0.42],\n",
       "       [0.42, 0.58],\n",
       "       [0.32, 0.68],\n",
       "       [0.26, 0.74],\n",
       "       [0.5 , 0.5 ],\n",
       "       [0.44, 0.56],\n",
       "       [0.35, 0.65],\n",
       "       [0.11, 0.89],\n",
       "       [0.6 , 0.4 ],\n",
       "       [0.41, 0.59],\n",
       "       [0.74, 0.26],\n",
       "       [0.15, 0.85],\n",
       "       [0.49, 0.51],\n",
       "       [0.41, 0.59],\n",
       "       [0.6 , 0.4 ],\n",
       "       [0.83, 0.17],\n",
       "       [0.65, 0.35],\n",
       "       [0.38, 0.62],\n",
       "       [0.52, 0.48],\n",
       "       [0.24, 0.76],\n",
       "       [0.09, 0.91],\n",
       "       [0.28, 0.72],\n",
       "       [0.65, 0.35],\n",
       "       [0.35, 0.65],\n",
       "       [0.82, 0.18],\n",
       "       [0.51, 0.49],\n",
       "       [0.23, 0.77],\n",
       "       [0.85, 0.15],\n",
       "       [0.38, 0.62],\n",
       "       [0.42, 0.58],\n",
       "       [0.22, 0.78],\n",
       "       [0.38, 0.62],\n",
       "       [0.53, 0.47],\n",
       "       [0.86, 0.14],\n",
       "       [0.84, 0.16],\n",
       "       [0.35, 0.65],\n",
       "       [0.41, 0.59],\n",
       "       [0.8 , 0.2 ],\n",
       "       [0.43, 0.57],\n",
       "       [0.46, 0.54],\n",
       "       [0.36, 0.64],\n",
       "       [0.88, 0.12],\n",
       "       [0.28, 0.72],\n",
       "       [0.57, 0.43],\n",
       "       [0.11, 0.89],\n",
       "       [0.55, 0.45],\n",
       "       [0.42, 0.58],\n",
       "       [0.39, 0.61],\n",
       "       [0.29, 0.71],\n",
       "       [0.63, 0.37],\n",
       "       [0.32, 0.68],\n",
       "       [0.2 , 0.8 ],\n",
       "       [0.51, 0.49],\n",
       "       [0.85, 0.15],\n",
       "       [0.43, 0.57],\n",
       "       [0.26, 0.74],\n",
       "       [0.42, 0.58],\n",
       "       [0.23, 0.77],\n",
       "       [0.34, 0.66],\n",
       "       [0.2 , 0.8 ],\n",
       "       [0.34, 0.66],\n",
       "       [0.42, 0.58],\n",
       "       [0.78, 0.22],\n",
       "       [0.47, 0.53],\n",
       "       [0.66, 0.34],\n",
       "       [0.39, 0.61],\n",
       "       [0.33, 0.67],\n",
       "       [0.64, 0.36],\n",
       "       [0.32, 0.68],\n",
       "       [0.2 , 0.8 ],\n",
       "       [0.12, 0.88],\n",
       "       [0.78, 0.22],\n",
       "       [0.39, 0.61],\n",
       "       [0.28, 0.72],\n",
       "       [0.83, 0.17],\n",
       "       [0.59, 0.41],\n",
       "       [0.39, 0.61],\n",
       "       [0.93, 0.07],\n",
       "       [0.56, 0.44],\n",
       "       [0.5 , 0.5 ],\n",
       "       [0.37, 0.63],\n",
       "       [0.43, 0.57],\n",
       "       [0.27, 0.73],\n",
       "       [0.39, 0.61],\n",
       "       [0.29, 0.71],\n",
       "       [0.55, 0.45],\n",
       "       [0.24, 0.76],\n",
       "       [0.74, 0.26],\n",
       "       [0.41, 0.59],\n",
       "       [0.62, 0.38],\n",
       "       [0.22, 0.78],\n",
       "       [0.53, 0.47],\n",
       "       [0.72, 0.28],\n",
       "       [0.37, 0.63],\n",
       "       [0.41, 0.59],\n",
       "       [0.21, 0.79],\n",
       "       [0.92, 0.08],\n",
       "       [0.82, 0.18],\n",
       "       [0.33, 0.67],\n",
       "       [0.76, 0.24],\n",
       "       [0.26, 0.74],\n",
       "       [0.22, 0.78],\n",
       "       [0.37, 0.63],\n",
       "       [0.84, 0.16],\n",
       "       [0.56, 0.44],\n",
       "       [0.65, 0.35],\n",
       "       [0.51, 0.49],\n",
       "       [0.89, 0.11],\n",
       "       [0.41, 0.59],\n",
       "       [0.39, 0.61],\n",
       "       [0.44, 0.56],\n",
       "       [0.53, 0.47],\n",
       "       [0.64, 0.36],\n",
       "       [0.89, 0.11],\n",
       "       [0.23, 0.77],\n",
       "       [0.52, 0.48],\n",
       "       [0.37, 0.63],\n",
       "       [0.67, 0.33],\n",
       "       [0.27, 0.73],\n",
       "       [0.41, 0.59],\n",
       "       [0.36, 0.64],\n",
       "       [0.48, 0.52],\n",
       "       [0.42, 0.58],\n",
       "       [0.47, 0.53],\n",
       "       [0.47, 0.53],\n",
       "       [0.9 , 0.1 ],\n",
       "       [0.63, 0.37],\n",
       "       [0.56, 0.44],\n",
       "       [0.29, 0.71],\n",
       "       [0.2 , 0.8 ],\n",
       "       [0.34, 0.66],\n",
       "       [0.78, 0.22],\n",
       "       [0.66, 0.34],\n",
       "       [0.56, 0.44],\n",
       "       [0.31, 0.69],\n",
       "       [0.6 , 0.4 ],\n",
       "       [0.4 , 0.6 ],\n",
       "       [0.26, 0.74],\n",
       "       [0.86, 0.14],\n",
       "       [0.73, 0.27],\n",
       "       [0.26, 0.74],\n",
       "       [0.4 , 0.6 ],\n",
       "       [0.44, 0.56],\n",
       "       [0.4 , 0.6 ],\n",
       "       [0.61, 0.39],\n",
       "       [0.85, 0.15],\n",
       "       [0.4 , 0.6 ],\n",
       "       [0.64, 0.36],\n",
       "       [0.48, 0.52],\n",
       "       [0.23, 0.77],\n",
       "       [0.38, 0.62],\n",
       "       [0.31, 0.69],\n",
       "       [0.28, 0.72],\n",
       "       [0.33, 0.67],\n",
       "       [0.45, 0.55],\n",
       "       [0.68, 0.32],\n",
       "       [0.31, 0.69],\n",
       "       [0.27, 0.73],\n",
       "       [0.15, 0.85],\n",
       "       [0.34, 0.66],\n",
       "       [0.28, 0.72]])"
      ]
     },
     "execution_count": 367,
     "metadata": {},
     "output_type": "execute_result"
    }
   ],
   "source": [
    "predictions"
   ]
  },
  {
   "cell_type": "code",
   "execution_count": 368,
   "metadata": {},
   "outputs": [],
   "source": [
    "accuracy_RF2 = cross_val_score(rf,X,y,scoring = 'accuracy')\n",
    "log_loss_RF2 = cross_val_score(rf,X,y,scoring = 'neg_log_loss')"
   ]
  },
  {
   "cell_type": "code",
   "execution_count": 369,
   "metadata": {
    "scrolled": true
   },
   "outputs": [
    {
     "name": "stdout",
     "output_type": "stream",
     "text": [
      "Accuracy:  (0.8329065993508836, 0.039645700582260066)\n",
      "Log Loss:  (-0.4383650090873453, 0.018758777593710533)\n"
     ]
    }
   ],
   "source": [
    "print(\"Accuracy: \", (accuracy_RF2.mean(), accuracy_RF2.std() * 2))\n",
    "print(\"Log Loss: \", (log_loss_RF2.mean(), log_loss_RF2.std() * 2))"
   ]
  },
  {
   "cell_type": "code",
   "execution_count": 370,
   "metadata": {},
   "outputs": [
    {
     "name": "stdout",
     "output_type": "stream",
     "text": [
      "mean validation F1 for Random Forests: 0.82 (+/- 0.03)\n"
     ]
    }
   ],
   "source": [
    "scores = cross_val_score(rf, X_train, y_train.ravel(),cv=5, scoring = 'f1')\n",
    "print (\"mean validation F1 for Random Forests:\",\"%0.2f (+/- %0.2f)\" % (scores.mean(), scores.std() * 2))"
   ]
  },
  {
   "cell_type": "code",
   "execution_count": 371,
   "metadata": {
    "scrolled": true
   },
   "outputs": [
    {
     "name": "stdout",
     "output_type": "stream",
     "text": [
      "Variable: seed_diff            Importance: 0.13088\n",
      "Variable: team1_log5           Importance: 0.10009\n",
      "Variable: win_tempo_diff       Importance: 0.05823\n",
      "Variable: net_rating_diff      Importance: 0.05333\n",
      "Variable: srs_diff             Importance: 0.05103\n",
      "Variable: diff_dist            Importance: 0.04059\n",
      "Variable: team2_blockpct       Importance: 0.03582\n",
      "Variable: TRB_diff             Importance: 0.03561\n",
      "Variable: team1_adjtempo       Importance: 0.03469\n",
      "Variable: team2_adjde          Importance: 0.03439\n",
      "Variable: team1_adjde          Importance: 0.03436\n",
      "Variable: team1_blockpct       Importance: 0.03429\n",
      "Variable: team1_fg2pct         Importance: 0.03419\n",
      "Variable: team1_adjoe          Importance: 0.03395\n",
      "Variable: team2_adjoe          Importance: 0.03395\n",
      "Variable: team1_fg3pct         Importance: 0.03296\n",
      "Variable: team2_fg3pct         Importance: 0.03224\n",
      "Variable: team2_adjtempo       Importance: 0.03211\n",
      "Variable: team2_fg2pct         Importance: 0.03187\n",
      "Variable: team1_ftpct          Importance: 0.03177\n",
      "Variable: team1_TS%            Importance: 0.03146\n",
      "Variable: team2_TS%            Importance: 0.0314\n",
      "Variable: team2_ftpct          Importance: 0.03079\n"
     ]
    }
   ],
   "source": [
    "# Get numerical feature importances\n",
    "importances = list(rf.feature_importances_)\n",
    "\n",
    "# List of tuples with variable and importance\n",
    "data_importances = [(data, round(importance, 5)) for data, importance in zip(data_list, importances)]\n",
    "\n",
    "# Sort the feature importances by most important first\n",
    "data_importances = sorted(data_importances, key = lambda x: x[1], reverse = True)\n",
    "\n",
    "# Print out the feature and importances \n",
    "[print('Variable: {:20} Importance: {}'.format(*pair)) for pair in data_importances];"
   ]
  },
  {
   "cell_type": "code",
   "execution_count": null,
   "metadata": {},
   "outputs": [],
   "source": []
  },
  {
   "cell_type": "markdown",
   "metadata": {},
   "source": [
    "## Feature Selection"
   ]
  },
  {
   "cell_type": "code",
   "execution_count": 336,
   "metadata": {},
   "outputs": [],
   "source": [
    "from sklearn.feature_selection import SelectFromModel"
   ]
  },
  {
   "cell_type": "code",
   "execution_count": 337,
   "metadata": {},
   "outputs": [
    {
     "data": {
      "text/plain": [
       "(1179, 23)"
      ]
     },
     "execution_count": 337,
     "metadata": {},
     "output_type": "execute_result"
    }
   ],
   "source": [
    "X.shape"
   ]
  },
  {
   "cell_type": "code",
   "execution_count": 338,
   "metadata": {
    "scrolled": true
   },
   "outputs": [
    {
     "data": {
      "text/plain": [
       "array([0.03470334, 0.03207454, 0.03139983, 0.0316608 , 0.04210723,\n",
       "       0.0318063 , 0.03346463, 0.03164118, 0.02940384, 0.03158887,\n",
       "       0.03258689, 0.03029765, 0.0290692 , 0.03091527, 0.03356261,\n",
       "       0.03160398, 0.05088294, 0.12221726, 0.04504881, 0.12113344,\n",
       "       0.05705415, 0.05277159, 0.03300564])"
      ]
     },
     "execution_count": 338,
     "metadata": {},
     "output_type": "execute_result"
    }
   ],
   "source": [
    "rf.feature_importances_"
   ]
  },
  {
   "cell_type": "code",
   "execution_count": 339,
   "metadata": {},
   "outputs": [],
   "source": [
    "model = SelectFromModel(rf, prefit=True)"
   ]
  },
  {
   "cell_type": "code",
   "execution_count": 340,
   "metadata": {},
   "outputs": [],
   "source": [
    "X_new = model.transform(X)"
   ]
  },
  {
   "cell_type": "code",
   "execution_count": 341,
   "metadata": {},
   "outputs": [
    {
     "data": {
      "text/plain": [
       "array([[ 2.54691105e+00,  4.14078028e-01,  3.07876634e+02,\n",
       "         0.00000000e+00,  3.63800000e+00,  9.50000000e-01],\n",
       "       [ 5.66544247e+00,  2.69948649e-01, -6.63316546e+02,\n",
       "         0.00000000e+00,  8.70790000e+00,  7.52000000e+00],\n",
       "       [-4.40147681e+00,  6.77884064e-01,  3.91001293e+02,\n",
       "        -3.00000000e+00, -6.53520000e+00, -4.76000000e+00],\n",
       "       ...,\n",
       "       [ 2.30011244e-01,  4.82247137e-01, -2.43369216e+02,\n",
       "        -7.00000000e+00,  3.61500000e-01,  1.70000000e-01],\n",
       "       [-4.15712531e+00,  4.04974737e-01, -5.86445517e+01,\n",
       "         2.00000000e+00, -6.09320000e+00, -5.00000000e+00],\n",
       "       [-4.13618810e+00,  3.04657409e-01, -1.60357819e+02,\n",
       "         5.00000000e+00, -6.28740000e+00, -9.35000000e+00]])"
      ]
     },
     "execution_count": 341,
     "metadata": {},
     "output_type": "execute_result"
    }
   ],
   "source": [
    "X_new"
   ]
  },
  {
   "cell_type": "code",
   "execution_count": 342,
   "metadata": {},
   "outputs": [
    {
     "data": {
      "text/plain": [
       "(1179, 6)"
      ]
     },
     "execution_count": 342,
     "metadata": {},
     "output_type": "execute_result"
    }
   ],
   "source": [
    "X_new.shape"
   ]
  },
  {
   "cell_type": "code",
   "execution_count": 343,
   "metadata": {},
   "outputs": [],
   "source": [
    "feature_names = np.array(data_list)"
   ]
  },
  {
   "cell_type": "code",
   "execution_count": 344,
   "metadata": {},
   "outputs": [
    {
     "data": {
      "text/plain": [
       "array(['win_tempo_diff', 'team1_log5', 'diff_dist', 'seed_diff',\n",
       "       'net_rating_diff', 'srs_diff'], dtype='<U15')"
      ]
     },
     "execution_count": 344,
     "metadata": {},
     "output_type": "execute_result"
    }
   ],
   "source": [
    "feature_names[model.get_support()]"
   ]
  },
  {
   "cell_type": "markdown",
   "metadata": {},
   "source": [
    "## Feature Selection (RFE)"
   ]
  },
  {
   "cell_type": "code",
   "execution_count": 345,
   "metadata": {},
   "outputs": [],
   "source": [
    "from sklearn.feature_selection import RFE"
   ]
  },
  {
   "cell_type": "code",
   "execution_count": 346,
   "metadata": {},
   "outputs": [
    {
     "data": {
      "text/plain": [
       "RFE(estimator=RandomForestClassifier(max_features=0.08695652, random_state=42),\n",
       "    n_features_to_select=10)"
      ]
     },
     "execution_count": 346,
     "metadata": {},
     "output_type": "execute_result"
    }
   ],
   "source": [
    "rfe = RFE(estimator=rf, n_features_to_select=10, step=1)\n",
    "rfe.fit(X, y)"
   ]
  },
  {
   "cell_type": "code",
   "execution_count": 347,
   "metadata": {},
   "outputs": [],
   "source": [
    "X_new_RFE = rfe.transform(X)"
   ]
  },
  {
   "cell_type": "code",
   "execution_count": 348,
   "metadata": {},
   "outputs": [
    {
     "data": {
      "text/plain": [
       "array([[114.952 , 108.991 ,  99.563 , ...,   0.    ,   3.638 ,   0.95  ],\n",
       "       [106.675 ,  96.7551, 108.661 , ...,   0.    ,   8.7079,   7.52  ],\n",
       "       [110.803 , 113.503 ,  92.4983, ...,  -3.    ,  -6.5352,  -4.76  ],\n",
       "       ...,\n",
       "       [110.0334, 103.1107,  88.964 , ...,  -7.    ,   0.3615,   0.17  ],\n",
       "       [112.826 , 125.258 ,  92.3982, ...,   2.    ,  -6.0932,  -5.    ],\n",
       "       [114.0138, 110.2039,  90.5274, ...,   5.    ,  -6.2874,  -9.35  ]])"
      ]
     },
     "execution_count": 348,
     "metadata": {},
     "output_type": "execute_result"
    }
   ],
   "source": [
    "X_new_RFE"
   ]
  },
  {
   "cell_type": "code",
   "execution_count": 349,
   "metadata": {},
   "outputs": [],
   "source": [
    "feature_names = np.array(data_list)"
   ]
  },
  {
   "cell_type": "code",
   "execution_count": 350,
   "metadata": {},
   "outputs": [
    {
     "data": {
      "text/plain": [
       "array(['team1_adjoe', 'team2_adjoe', 'team2_adjde', 'team1_adjde',\n",
       "       'win_tempo_diff', 'team1_log5', 'diff_dist', 'seed_diff',\n",
       "       'net_rating_diff', 'srs_diff'], dtype='<U15')"
      ]
     },
     "execution_count": 350,
     "metadata": {},
     "output_type": "execute_result"
    }
   ],
   "source": [
    "feature_names[rfe.get_support()]"
   ]
  },
  {
   "cell_type": "markdown",
   "metadata": {},
   "source": [
    "## Feature Selection (RFECV)"
   ]
  },
  {
   "cell_type": "code",
   "execution_count": 307,
   "metadata": {},
   "outputs": [],
   "source": [
    "from sklearn.feature_selection import RFECV"
   ]
  },
  {
   "cell_type": "code",
   "execution_count": 308,
   "metadata": {},
   "outputs": [
    {
     "data": {
      "application/javascript": "\n        if (window._pyforest_update_imports_cell) { window._pyforest_update_imports_cell('from sklearn.model_selection import cross_val_score\\nfrom sklearn.model_selection import StratifiedKFold'); }\n    ",
      "text/plain": [
       "<IPython.core.display.Javascript object>"
      ]
     },
     "metadata": {},
     "output_type": "display_data"
    },
    {
     "data": {
      "text/plain": [
       "RFECV(cv=StratifiedKFold(n_splits=5, random_state=None, shuffle=False),\n",
       "      estimator=RandomForestClassifier(max_features=0.08695652, n_estimators=50,\n",
       "                                       random_state=42),\n",
       "      scoring='neg_log_loss')"
      ]
     },
     "execution_count": 308,
     "metadata": {},
     "output_type": "execute_result"
    }
   ],
   "source": [
    "min_features_to_select = 1  # Minimum number of features to consider\n",
    "rfecv = RFECV(\n",
    "    estimator=rf,\n",
    "    step=1,\n",
    "    cv=StratifiedKFold(),\n",
    "    scoring=\"neg_log_loss\",\n",
    ")\n",
    "rfecv.fit(X, y)"
   ]
  },
  {
   "cell_type": "code",
   "execution_count": 309,
   "metadata": {},
   "outputs": [],
   "source": [
    "selector = rfecv.fit(X, y)"
   ]
  },
  {
   "cell_type": "code",
   "execution_count": 310,
   "metadata": {},
   "outputs": [
    {
     "data": {
      "text/plain": [
       "array([False, False, False, False, False, False, False, False, False,\n",
       "       False, False, False, False, False, False, False, False,  True,\n",
       "       False, False,  True, False, False])"
      ]
     },
     "execution_count": 310,
     "metadata": {},
     "output_type": "execute_result"
    }
   ],
   "source": [
    "selector.support_"
   ]
  },
  {
   "cell_type": "code",
   "execution_count": 311,
   "metadata": {},
   "outputs": [
    {
     "data": {
      "text/plain": [
       "array([ 6,  8, 19, 12,  7,  9, 16, 21, 11, 14, 13, 22, 17, 20, 15, 10,  2,\n",
       "        1,  5,  3,  1,  4, 18])"
      ]
     },
     "execution_count": 311,
     "metadata": {},
     "output_type": "execute_result"
    }
   ],
   "source": [
    "selector.ranking_"
   ]
  },
  {
   "cell_type": "code",
   "execution_count": 312,
   "metadata": {},
   "outputs": [
    {
     "data": {
      "text/plain": [
       "array(['team1_adjoe', 'team2_adjoe', 'team1_adjtempo', 'team2_adjtempo',\n",
       "       'team2_adjde', 'team1_adjde', 'team1_fg2pct', 'team1_fg3pct',\n",
       "       'team1_ftpct', 'team2_fg2pct', 'team2_fg3pct', 'team2_ftpct',\n",
       "       'team1_TS%', 'team2_TS%', 'team1_blockpct', 'team2_blockpct',\n",
       "       'win_tempo_diff', 'team1_log5', 'diff_dist', 'seed_diff',\n",
       "       'net_rating_diff', 'srs_diff', 'TRB_diff'], dtype='<U15')"
      ]
     },
     "execution_count": 312,
     "metadata": {},
     "output_type": "execute_result"
    }
   ],
   "source": [
    "feature_names"
   ]
  },
  {
   "cell_type": "code",
   "execution_count": 313,
   "metadata": {},
   "outputs": [
    {
     "data": {
      "text/plain": [
       "array(['team1_log5', 'net_rating_diff'], dtype='<U15')"
      ]
     },
     "execution_count": 313,
     "metadata": {},
     "output_type": "execute_result"
    }
   ],
   "source": [
    "feature_names[selector.get_support()]"
   ]
  },
  {
   "cell_type": "code",
   "execution_count": 314,
   "metadata": {},
   "outputs": [
    {
     "data": {
      "application/javascript": "\n        if (window._pyforest_update_imports_cell) { window._pyforest_update_imports_cell('from sklearn.model_selection import cross_val_score\\nimport sklearn\\nfrom sklearn.model_selection import StratifiedKFold'); }\n    ",
      "text/plain": [
       "<IPython.core.display.Javascript object>"
      ]
     },
     "metadata": {},
     "output_type": "display_data"
    },
    {
     "data": {
      "text/plain": [
       "['accuracy',\n",
       " 'adjusted_mutual_info_score',\n",
       " 'adjusted_rand_score',\n",
       " 'average_precision',\n",
       " 'balanced_accuracy',\n",
       " 'completeness_score',\n",
       " 'explained_variance',\n",
       " 'f1',\n",
       " 'f1_macro',\n",
       " 'f1_micro',\n",
       " 'f1_samples',\n",
       " 'f1_weighted',\n",
       " 'fowlkes_mallows_score',\n",
       " 'homogeneity_score',\n",
       " 'jaccard',\n",
       " 'jaccard_macro',\n",
       " 'jaccard_micro',\n",
       " 'jaccard_samples',\n",
       " 'jaccard_weighted',\n",
       " 'max_error',\n",
       " 'mutual_info_score',\n",
       " 'neg_brier_score',\n",
       " 'neg_log_loss',\n",
       " 'neg_mean_absolute_error',\n",
       " 'neg_mean_absolute_percentage_error',\n",
       " 'neg_mean_gamma_deviance',\n",
       " 'neg_mean_poisson_deviance',\n",
       " 'neg_mean_squared_error',\n",
       " 'neg_mean_squared_log_error',\n",
       " 'neg_median_absolute_error',\n",
       " 'neg_root_mean_squared_error',\n",
       " 'normalized_mutual_info_score',\n",
       " 'precision',\n",
       " 'precision_macro',\n",
       " 'precision_micro',\n",
       " 'precision_samples',\n",
       " 'precision_weighted',\n",
       " 'r2',\n",
       " 'rand_score',\n",
       " 'recall',\n",
       " 'recall_macro',\n",
       " 'recall_micro',\n",
       " 'recall_samples',\n",
       " 'recall_weighted',\n",
       " 'roc_auc',\n",
       " 'roc_auc_ovo',\n",
       " 'roc_auc_ovo_weighted',\n",
       " 'roc_auc_ovr',\n",
       " 'roc_auc_ovr_weighted',\n",
       " 'top_k_accuracy',\n",
       " 'v_measure_score']"
      ]
     },
     "execution_count": 314,
     "metadata": {},
     "output_type": "execute_result"
    }
   ],
   "source": [
    "sorted(sklearn.metrics.SCORERS.keys())"
   ]
  },
  {
   "cell_type": "code",
   "execution_count": 1,
   "metadata": {},
   "outputs": [
    {
     "data": {
      "application/javascript": "\n        if (window._pyforest_update_imports_cell) { window._pyforest_update_imports_cell('import matplotlib.pyplot as plt'); }\n    ",
      "text/plain": [
       "<IPython.core.display.Javascript object>"
      ]
     },
     "metadata": {},
     "output_type": "display_data"
    },
    {
     "data": {
      "application/javascript": "\n        if (window._pyforest_update_imports_cell) { window._pyforest_update_imports_cell('import matplotlib.pyplot as plt'); }\n    ",
      "text/plain": [
       "<IPython.core.display.Javascript object>"
      ]
     },
     "metadata": {},
     "output_type": "display_data"
    },
    {
     "data": {
      "application/javascript": "\n        if (window._pyforest_update_imports_cell) { window._pyforest_update_imports_cell('import matplotlib.pyplot as plt'); }\n    ",
      "text/plain": [
       "<IPython.core.display.Javascript object>"
      ]
     },
     "metadata": {},
     "output_type": "display_data"
    },
    {
     "data": {
      "application/javascript": "\n        if (window._pyforest_update_imports_cell) { window._pyforest_update_imports_cell('import matplotlib.pyplot as plt'); }\n    ",
      "text/plain": [
       "<IPython.core.display.Javascript object>"
      ]
     },
     "metadata": {},
     "output_type": "display_data"
    },
    {
     "ename": "NameError",
     "evalue": "name 'rfecv' is not defined",
     "output_type": "error",
     "traceback": [
      "\u001b[0;31m---------------------------------------------------------------------------\u001b[0m",
      "\u001b[0;31mNameError\u001b[0m                                 Traceback (most recent call last)",
      "\u001b[0;32m/var/folders/kv/wljrk2x53cbbk79g2qsfn5m80000gn/T/ipykernel_9170/4105937767.py\u001b[0m in \u001b[0;36m<module>\u001b[0;34m\u001b[0m\n\u001b[1;32m      4\u001b[0m \u001b[0mplt\u001b[0m\u001b[0;34m.\u001b[0m\u001b[0mylabel\u001b[0m\u001b[0;34m(\u001b[0m\u001b[0;34m\"Cross validation score (neg_log_loss)\"\u001b[0m\u001b[0;34m)\u001b[0m\u001b[0;34m\u001b[0m\u001b[0;34m\u001b[0m\u001b[0m\n\u001b[1;32m      5\u001b[0m plt.plot(\n\u001b[0;32m----> 6\u001b[0;31m     \u001b[0mrange\u001b[0m\u001b[0;34m(\u001b[0m\u001b[0;36m1\u001b[0m\u001b[0;34m,\u001b[0m \u001b[0mlen\u001b[0m\u001b[0;34m(\u001b[0m\u001b[0mrfecv\u001b[0m\u001b[0;34m.\u001b[0m\u001b[0mgrid_scores_\u001b[0m\u001b[0;34m)\u001b[0m \u001b[0;34m+\u001b[0m \u001b[0mmin_features_to_select\u001b[0m\u001b[0;34m)\u001b[0m\u001b[0;34m,\u001b[0m\u001b[0;34m\u001b[0m\u001b[0;34m\u001b[0m\u001b[0m\n\u001b[0m\u001b[1;32m      7\u001b[0m     \u001b[0mrfecv\u001b[0m\u001b[0;34m.\u001b[0m\u001b[0mgrid_scores_\u001b[0m\u001b[0;34m,\u001b[0m\u001b[0;34m\u001b[0m\u001b[0;34m\u001b[0m\u001b[0m\n\u001b[1;32m      8\u001b[0m )\n",
      "\u001b[0;31mNameError\u001b[0m: name 'rfecv' is not defined"
     ]
    },
    {
     "data": {
      "image/png": "[encoded data removed]",
      "text/plain": [
       "<Figure size 432x288 with 1 Axes>"
      ]
     },
     "metadata": {
      "needs_background": "light"
     },
     "output_type": "display_data"
    }
   ],
   "source": [
    "# Plot number of features VS. cross-validation scores\n",
    "plt.figure()\n",
    "plt.xlabel(\"Number of features selected\")\n",
    "plt.ylabel(\"Cross validation score (neg_log_loss)\")\n",
    "plt.plot(\n",
    "    range(1, len(rfecv.grid_scores_) + min_features_to_select),\n",
    "    rfecv.grid_scores_,\n",
    ")\n",
    "plt.show()"
   ]
  },
  {
   "cell_type": "markdown",
   "metadata": {},
   "source": [
    "## Create Example Submission\n"
   ]
  },
  {
   "cell_type": "code",
   "execution_count": 372,
   "metadata": {},
   "outputs": [],
   "source": [
    "example_submission = pd.read_csv('MM_2022_Data.csv')"
   ]
  },
  {
   "cell_type": "code",
   "execution_count": 373,
   "metadata": {},
   "outputs": [],
   "source": [
    "example_submission['dist1'] = example_submission.apply(lambda row: distance(row['host_lat'], row['host_long'], row['team1_lat'], row['team1_long']), axis=1)\n",
    "example_submission['dist2'] = example_submission.apply(lambda row: distance(row['host_lat'], row['host_long'], row['team2_lat'], row['team2_long']), axis=1)\n",
    "example_submission['diff_dist'] = example_submission['dist1'] - example_submission['dist2']"
   ]
  },
  {
   "cell_type": "code",
   "execution_count": 374,
   "metadata": {},
   "outputs": [],
   "source": [
    "example_submission['exp_win1'] = (example_submission['team1_adjoe']**11.5)/ ((example_submission['team1_adjde']**11.5)+(example_submission['team1_adjoe']**11.5))\n",
    "example_submission['exp_win2'] = (example_submission['team2_adjoe']**11.5)/ ((example_submission['team2_adjde']**11.5)+(example_submission['team2_adjoe']**11.5))\n",
    "example_submission['team1_log5'] = (example_submission['exp_win1'] - (example_submission['exp_win1']*example_submission['exp_win2']))/ (example_submission['exp_win1']+example_submission['exp_win2']-(2*example_submission['exp_win1']*example_submission['exp_win2']))"
   ]
  },
  {
   "cell_type": "code",
   "execution_count": 390,
   "metadata": {},
   "outputs": [],
   "source": [
    "example_submission['TRB_diff'] = example_submission['team1_TRB%'] - example_submission['team2_TRB%']\n",
    "example_submission['seed_diff'] = example_submission['team1_seed'] - example_submission['team2_seed']\n",
    "example_submission['diff_tempo'] = example_submission['team1_adjtempo'] - example_submission['team2_adjtempo']\n",
    "example_submission['diff_adjoe'] = example_submission['team1_adjoe'] - example_submission['team2_adjoe']\n",
    "example_submission['srs_diff'] = example_submission['team1_SRS'] - example_submission['team2_SRS']\n",
    "example_submission['net_rating_diff'] = (example_submission['team1_adjoe'] - example_submission['team1_adjde']) - (example_submission['team2_adjoe'] - example_submission['team2_adjde'])\n",
    "example_submission['win_tempo_diff'] = (((example_submission['team1_adjoe'] - 100) -(100 - example_submission['team2_adjde'])+100)/100*((example_submission['team1_adjtempo'] + example_submission['team2_adjtempo'])/2)) - (((example_submission['team2_adjoe'] - 100) - (100 - example_submission['team1_adjde'])+100)/100*((example_submission['team1_adjtempo']+example_submission['team2_adjtempo'])/2))"
   ]
  },
  {
   "cell_type": "code",
   "execution_count": 401,
   "metadata": {},
   "outputs": [],
   "source": [
    "test = example_submission[['team1_adjoe','team2_adjoe','team1_adjtempo','team2_adjtempo',\n",
    "                                    'team2_adjde','team1_adjde','team1_fg2pct',\n",
    "                    'team1_fg3pct','team1_ftpct','team2_fg2pct','team2_fg3pct','team2_ftpct','team1_TS%','team2_TS%',\n",
    "                   'team1_blockpct','team2_blockpct','win_tempo_diff',\n",
    "                   'team1_log5','diff_dist','seed_diff','net_rating_diff','srs_diff','TRB_diff']]"
   ]
  },
  {
   "cell_type": "code",
   "execution_count": 397,
   "metadata": {},
   "outputs": [],
   "source": [
    "test = example_submission[['team1_adjoe', 'team2_adjoe', 'team2_adjde', 'team1_adjde',\n",
    "       'win_tempo_diff', 'team1_log5', 'diff_dist', 'seed_diff',\n",
    "       'net_rating_diff', 'srs_diff']]"
   ]
  },
  {
   "cell_type": "code",
   "execution_count": 402,
   "metadata": {},
   "outputs": [],
   "source": [
    "test = test.iloc[:].values"
   ]
  },
  {
   "cell_type": "code",
   "execution_count": 403,
   "metadata": {},
   "outputs": [],
   "source": [
    "#test = preprocessing.normalize(test)"
   ]
  },
  {
   "cell_type": "code",
   "execution_count": 404,
   "metadata": {},
   "outputs": [],
   "source": [
    "test = sc.transform(test)"
   ]
  },
  {
   "cell_type": "code",
   "execution_count": 405,
   "metadata": {
    "scrolled": true
   },
   "outputs": [],
   "source": [
    "example_submission[['n','prob']] = rf.predict_proba(test)"
   ]
  },
  {
   "cell_type": "code",
   "execution_count": 406,
   "metadata": {},
   "outputs": [],
   "source": [
    "example_submission[['winner']] = rf.predict(test)"
   ]
  },
  {
   "cell_type": "code",
   "execution_count": 408,
   "metadata": {
    "scrolled": true
   },
   "outputs": [
    {
     "data": {
      "text/html": [
       "<div>\n",
       "<style scoped>\n",
       "    .dataframe tbody tr th:only-of-type {\n",
       "        vertical-align: middle;\n",
       "    }\n",
       "\n",
       "    .dataframe tbody tr th {\n",
       "        vertical-align: top;\n",
       "    }\n",
       "\n",
       "    .dataframe thead th {\n",
       "        text-align: right;\n",
       "    }\n",
       "</style>\n",
       "<table border=\"1\" class=\"dataframe\">\n",
       "  <thead>\n",
       "    <tr style=\"text-align: right;\">\n",
       "      <th></th>\n",
       "      <th>game_id</th>\n",
       "      <th>prob</th>\n",
       "      <th>winner</th>\n",
       "      <th>team1_teamname</th>\n",
       "      <th>team2_teamname</th>\n",
       "    </tr>\n",
       "  </thead>\n",
       "  <tbody>\n",
       "    <tr>\n",
       "      <th>0</th>\n",
       "      <td>2022-1124-1246</td>\n",
       "      <td>0.45</td>\n",
       "      <td>0</td>\n",
       "      <td>Baylor</td>\n",
       "      <td>Kentucky</td>\n",
       "    </tr>\n",
       "    <tr>\n",
       "      <th>1</th>\n",
       "      <td>2022-1124-1345</td>\n",
       "      <td>0.63</td>\n",
       "      <td>1</td>\n",
       "      <td>Baylor</td>\n",
       "      <td>Purdue</td>\n",
       "    </tr>\n",
       "    <tr>\n",
       "      <th>2</th>\n",
       "      <td>2022-1124-1417</td>\n",
       "      <td>0.58</td>\n",
       "      <td>1</td>\n",
       "      <td>Baylor</td>\n",
       "      <td>UCLA</td>\n",
       "    </tr>\n",
       "    <tr>\n",
       "      <th>3</th>\n",
       "      <td>2022-1124-1388</td>\n",
       "      <td>0.58</td>\n",
       "      <td>1</td>\n",
       "      <td>Baylor</td>\n",
       "      <td>St Mary's CA</td>\n",
       "    </tr>\n",
       "    <tr>\n",
       "      <th>4</th>\n",
       "      <td>2022-1124-1400</td>\n",
       "      <td>0.58</td>\n",
       "      <td>1</td>\n",
       "      <td>Baylor</td>\n",
       "      <td>Texas</td>\n",
       "    </tr>\n",
       "    <tr>\n",
       "      <th>...</th>\n",
       "      <td>...</td>\n",
       "      <td>...</td>\n",
       "      <td>...</td>\n",
       "      <td>...</td>\n",
       "      <td>...</td>\n",
       "    </tr>\n",
       "    <tr>\n",
       "      <th>2273</th>\n",
       "      <td>2022-1436-1168</td>\n",
       "      <td>0.58</td>\n",
       "      <td>1</td>\n",
       "      <td>Vermont</td>\n",
       "      <td>CS Fullerton</td>\n",
       "    </tr>\n",
       "    <tr>\n",
       "      <th>2274</th>\n",
       "      <td>2022-1436-1209</td>\n",
       "      <td>0.58</td>\n",
       "      <td>1</td>\n",
       "      <td>Vermont</td>\n",
       "      <td>Georgia St</td>\n",
       "    </tr>\n",
       "    <tr>\n",
       "      <th>2275</th>\n",
       "      <td>2022-1286-1168</td>\n",
       "      <td>0.58</td>\n",
       "      <td>1</td>\n",
       "      <td>Montana St</td>\n",
       "      <td>CS Fullerton</td>\n",
       "    </tr>\n",
       "    <tr>\n",
       "      <th>2276</th>\n",
       "      <td>2022-1286-1209</td>\n",
       "      <td>0.58</td>\n",
       "      <td>1</td>\n",
       "      <td>Montana St</td>\n",
       "      <td>Georgia St</td>\n",
       "    </tr>\n",
       "    <tr>\n",
       "      <th>2277</th>\n",
       "      <td>2022-1168-1209</td>\n",
       "      <td>0.58</td>\n",
       "      <td>1</td>\n",
       "      <td>CS Fullerton</td>\n",
       "      <td>Georgia St</td>\n",
       "    </tr>\n",
       "  </tbody>\n",
       "</table>\n",
       "<p>2278 rows × 5 columns</p>\n",
       "</div>"
      ],
      "text/plain": [
       "             game_id  prob  winner team1_teamname team2_teamname\n",
       "0     2022-1124-1246  0.45       0         Baylor       Kentucky\n",
       "1     2022-1124-1345  0.63       1         Baylor         Purdue\n",
       "2     2022-1124-1417  0.58       1         Baylor           UCLA\n",
       "3     2022-1124-1388  0.58       1         Baylor   St Mary's CA\n",
       "4     2022-1124-1400  0.58       1         Baylor          Texas\n",
       "...              ...   ...     ...            ...            ...\n",
       "2273  2022-1436-1168  0.58       1        Vermont   CS Fullerton\n",
       "2274  2022-1436-1209  0.58       1        Vermont     Georgia St\n",
       "2275  2022-1286-1168  0.58       1     Montana St   CS Fullerton\n",
       "2276  2022-1286-1209  0.58       1     Montana St     Georgia St\n",
       "2277  2022-1168-1209  0.58       1   CS Fullerton     Georgia St\n",
       "\n",
       "[2278 rows x 5 columns]"
      ]
     },
     "execution_count": 408,
     "metadata": {},
     "output_type": "execute_result"
    }
   ],
   "source": [
    "example_submission[['game_id','prob','winner','team1_teamname','team2_teamname']]"
   ]
  },
  {
   "cell_type": "code",
   "execution_count": 409,
   "metadata": {
    "scrolled": true
   },
   "outputs": [
    {
     "name": "stdout",
     "output_type": "stream",
     "text": [
      "The teams who won with a greater than .50 probability of winning: prob    1756\n",
      "dtype: int64\n"
     ]
    }
   ],
   "source": [
    "filter_prob = (example_submission.prob >= 0.5)\n",
    "print(\"The teams who won with a greater than .50 probability of winning:\", example_submission[filter_prob][['prob']].count())"
   ]
  },
  {
   "cell_type": "code",
   "execution_count": 385,
   "metadata": {},
   "outputs": [],
   "source": [
    "example_submission[['game_id','prob','team1_teamname','team2_teamname']].to_csv(\"final_example_submission2.csv\", index=False)"
   ]
  },
  {
   "cell_type": "code",
   "execution_count": null,
   "metadata": {},
   "outputs": [],
   "source": []
  }
 ],
 "metadata": {
  "kernelspec": {
   "display_name": "Python 3",
   "language": "python",
   "name": "python3"
  },
  "language_info": {
   "codemirror_mode": {
    "name": "ipython",
    "version": 3
   },
   "file_extension": ".py",
   "mimetype": "text/x-python",
   "name": "python",
   "nbconvert_exporter": "python",
   "pygments_lexer": "ipython3",
   "version": "3.7.6"
  }
 },
 "nbformat": 4,
 "nbformat_minor": 5
}
