{
 "cells": [
  {
   "cell_type": "code",
   "execution_count": 1,
   "metadata": {},
   "outputs": [],
   "source": [
    "import pyforest\n",
    "from math import sin, cos, sqrt, atan2, radians\n",
    "import random\n",
    "from sklearn.model_selection import train_test_split\n",
    "from sklearn.linear_model import LogisticRegression\n",
    "from sklearn.metrics import (auc, classification_report, roc_auc_score, accuracy_score,\n",
    "                             f1_score, log_loss, roc_curve, confusion_matrix, precision_score, recall_score)\n",
    "import statsmodels.formula.api as smf"
   ]
  },
  {
   "cell_type": "code",
   "execution_count": 71,
   "metadata": {},
   "outputs": [],
   "source": [
    "import matplotlib.pyplot as plt\n",
    "plt.style.use('ggplot')\n",
    "\n",
    "from math import sin, cos, sqrt, atan2, radians\n",
    "import numpy as np\n",
    "import pandas as pd\n",
    "import random\n",
    "from sklearn.model_selection import train_test_split\n",
    "from sklearn.linear_model import LogisticRegression\n",
    "from sklearn.metrics import (auc, classification_report, roc_auc_score, accuracy_score,\n",
    "                             f1_score, log_loss, roc_curve, confusion_matrix, precision_score, recall_score)\n",
    "import statsmodels.formula.api as smf\n",
    "from sklearn.metrics import roc_auc_score\n",
    "\n",
    "\n",
    "np.random.seed(0)"
   ]
  },
  {
   "cell_type": "code",
   "execution_count": 2,
   "metadata": {},
   "outputs": [
    {
     "data": {
      "application/javascript": [
       "\n",
       "        if (window._pyforest_update_imports_cell) { window._pyforest_update_imports_cell('import pandas as pd'); }\n",
       "    "
      ],
      "text/plain": [
       "<IPython.core.display.Javascript object>"
      ]
     },
     "metadata": {},
     "output_type": "display_data"
    }
   ],
   "source": [
    "mm_data_2 = pd.read_csv('NCAA_Tourney_2002_2021.csv').query(\"season<2019\").reset_index(drop=True)\n"
   ]
  },
  {
   "cell_type": "code",
   "execution_count": 8,
   "metadata": {},
   "outputs": [
    {
     "data": {
      "application/javascript": [
       "\n",
       "        if (window._pyforest_update_imports_cell) { window._pyforest_update_imports_cell('import pandas as pd'); }\n",
       "    "
      ],
      "text/plain": [
       "<IPython.core.display.Javascript object>"
      ]
     },
     "metadata": {},
     "output_type": "display_data"
    }
   ],
   "source": [
    "pd.options.display.max_columns = None"
   ]
  },
  {
   "cell_type": "code",
   "execution_count": 9,
   "metadata": {},
   "outputs": [
    {
     "data": {
      "text/html": [
       "<div>\n",
       "<style scoped>\n",
       "    .dataframe tbody tr th:only-of-type {\n",
       "        vertical-align: middle;\n",
       "    }\n",
       "\n",
       "    .dataframe tbody tr th {\n",
       "        vertical-align: top;\n",
       "    }\n",
       "\n",
       "    .dataframe thead th {\n",
       "        text-align: right;\n",
       "    }\n",
       "</style>\n",
       "<table border=\"1\" class=\"dataframe\">\n",
       "  <thead>\n",
       "    <tr style=\"text-align: right;\">\n",
       "      <th></th>\n",
       "      <th>team1_id</th>\n",
       "      <th>team1_score</th>\n",
       "      <th>team2_id</th>\n",
       "      <th>team2_score</th>\n",
       "      <th>WLoc</th>\n",
       "      <th>num_ot</th>\n",
       "      <th>team1_position</th>\n",
       "      <th>team2_position</th>\n",
       "      <th>team1_seed</th>\n",
       "      <th>team2_seed</th>\n",
       "      <th>strongseed</th>\n",
       "      <th>weakseed</th>\n",
       "      <th>team1_region</th>\n",
       "      <th>team2_region</th>\n",
       "      <th>slot</th>\n",
       "      <th>team1_teamname</th>\n",
       "      <th>team2_teamname</th>\n",
       "      <th>season</th>\n",
       "      <th>host</th>\n",
       "      <th>host_lat</th>\n",
       "      <th>host_long</th>\n",
       "      <th>team1_lat</th>\n",
       "      <th>team1_long</th>\n",
       "      <th>team2_lat</th>\n",
       "      <th>team2_long</th>\n",
       "      <th>team1_coach_id</th>\n",
       "      <th>team1_pt_school_ncaa</th>\n",
       "      <th>team1_pt_overall_ncaa</th>\n",
       "      <th>team1_pt_school_s16</th>\n",
       "      <th>team1_pt_overall_s16</th>\n",
       "      <th>team1_pt_school_ff</th>\n",
       "      <th>team1_pt_overall_ff</th>\n",
       "      <th>team1_pt_career_school_wins</th>\n",
       "      <th>team1_pt_career_school_losses</th>\n",
       "      <th>team1_pt_career_overall_wins</th>\n",
       "      <th>team1_pt_career_overall_losses</th>\n",
       "      <th>team1_pt_team_season_wins</th>\n",
       "      <th>team1_pt_team_season_losses</th>\n",
       "      <th>team1_pt_coach_season_wins</th>\n",
       "      <th>team1_pt_coach_season_losses</th>\n",
       "      <th>team2_coach_id</th>\n",
       "      <th>team2_pt_school_ncaa</th>\n",
       "      <th>team2_pt_overall_ncaa</th>\n",
       "      <th>team2_pt_school_s16</th>\n",
       "      <th>team2_pt_overall_s16</th>\n",
       "      <th>team2_pt_school_ff</th>\n",
       "      <th>team2_pt_overall_ff</th>\n",
       "      <th>team2_pt_career_school_wins</th>\n",
       "      <th>team2_pt_career_school_losses</th>\n",
       "      <th>team2_pt_career_overall_wins</th>\n",
       "      <th>team2_pt_career_overall_losses</th>\n",
       "      <th>team2_pt_team_season_wins</th>\n",
       "      <th>team2_pt_team_season_losses</th>\n",
       "      <th>team2_pt_coach_season_wins</th>\n",
       "      <th>team2_pt_coach_season_losses</th>\n",
       "      <th>team1_ap_final</th>\n",
       "      <th>team1_ap_preseason</th>\n",
       "      <th>team1_coaches_before_final</th>\n",
       "      <th>team1_coaches_preseason</th>\n",
       "      <th>team2_ap_final</th>\n",
       "      <th>team2_ap_preseason</th>\n",
       "      <th>team2_coaches_before_final</th>\n",
       "      <th>team2_coaches_preseason</th>\n",
       "      <th>team1_fg2pct</th>\n",
       "      <th>team1_fg3pct</th>\n",
       "      <th>team1_ftpct</th>\n",
       "      <th>team1_blockpct</th>\n",
       "      <th>team1_oppfg2pct</th>\n",
       "      <th>team1_oppfg3pct</th>\n",
       "      <th>team1_oppftpct</th>\n",
       "      <th>team1_oppblockpct</th>\n",
       "      <th>team1_f3grate</th>\n",
       "      <th>team1_oppf3grate</th>\n",
       "      <th>team1_arate</th>\n",
       "      <th>team1_opparate</th>\n",
       "      <th>team1_stlrate</th>\n",
       "      <th>team1_oppstlrate</th>\n",
       "      <th>team2_fg2pct</th>\n",
       "      <th>team2_fg3pct</th>\n",
       "      <th>team2_ftpct</th>\n",
       "      <th>team2_blockpct</th>\n",
       "      <th>team2_oppfg2pct</th>\n",
       "      <th>team2_oppfg3pct</th>\n",
       "      <th>team2_oppftpct</th>\n",
       "      <th>team2_oppblockpct</th>\n",
       "      <th>team2_f3grate</th>\n",
       "      <th>team2_oppf3grate</th>\n",
       "      <th>team2_arate</th>\n",
       "      <th>team2_opparate</th>\n",
       "      <th>team2_stlrate</th>\n",
       "      <th>team2_oppstlrate</th>\n",
       "      <th>team1_tempo</th>\n",
       "      <th>team1_adjtempo</th>\n",
       "      <th>team1_oe</th>\n",
       "      <th>team1_adjoe</th>\n",
       "      <th>team1_de</th>\n",
       "      <th>team1_adjde</th>\n",
       "      <th>team2_tempo</th>\n",
       "      <th>team2_adjtempo</th>\n",
       "      <th>team2_oe</th>\n",
       "      <th>team2_adjoe</th>\n",
       "      <th>team2_de</th>\n",
       "      <th>team2_adjde</th>\n",
       "      <th>game_id</th>\n",
       "    </tr>\n",
       "  </thead>\n",
       "  <tbody>\n",
       "    <tr>\n",
       "      <th>0</th>\n",
       "      <td>1373</td>\n",
       "      <td>81</td>\n",
       "      <td>1108</td>\n",
       "      <td>77</td>\n",
       "      <td>N</td>\n",
       "      <td>0</td>\n",
       "      <td>W16b</td>\n",
       "      <td>W16a</td>\n",
       "      <td>16</td>\n",
       "      <td>16</td>\n",
       "      <td>16</td>\n",
       "      <td>16</td>\n",
       "      <td>W</td>\n",
       "      <td>W</td>\n",
       "      <td>W16</td>\n",
       "      <td>Siena</td>\n",
       "      <td>Alcorn St</td>\n",
       "      <td>2002</td>\n",
       "      <td>dayton</td>\n",
       "      <td>39.7594</td>\n",
       "      <td>-84.1917</td>\n",
       "      <td>42.718586</td>\n",
       "      <td>-73.751530</td>\n",
       "      <td>31.877216</td>\n",
       "      <td>-91.142854</td>\n",
       "      <td>rob-lanier-1</td>\n",
       "      <td>0</td>\n",
       "      <td>0</td>\n",
       "      <td>0</td>\n",
       "      <td>0</td>\n",
       "      <td>0</td>\n",
       "      <td>0</td>\n",
       "      <td>16</td>\n",
       "      <td>18</td>\n",
       "      <td>16</td>\n",
       "      <td>18</td>\n",
       "      <td>16</td>\n",
       "      <td>18</td>\n",
       "      <td>16</td>\n",
       "      <td>18</td>\n",
       "      <td>davey-whitney-1</td>\n",
       "      <td>6</td>\n",
       "      <td>6</td>\n",
       "      <td>0</td>\n",
       "      <td>0</td>\n",
       "      <td>0</td>\n",
       "      <td>0</td>\n",
       "      <td>317</td>\n",
       "      <td>210</td>\n",
       "      <td>317</td>\n",
       "      <td>210</td>\n",
       "      <td>20</td>\n",
       "      <td>9</td>\n",
       "      <td>20</td>\n",
       "      <td>9</td>\n",
       "      <td>NaN</td>\n",
       "      <td>NaN</td>\n",
       "      <td>NaN</td>\n",
       "      <td>NaN</td>\n",
       "      <td>NaN</td>\n",
       "      <td>NaN</td>\n",
       "      <td>NaN</td>\n",
       "      <td>NaN</td>\n",
       "      <td>45.612700</td>\n",
       "      <td>34.626000</td>\n",
       "      <td>74.403200</td>\n",
       "      <td>11.330800</td>\n",
       "      <td>42.661600</td>\n",
       "      <td>33.639900</td>\n",
       "      <td>69.647100</td>\n",
       "      <td>10.514400</td>\n",
       "      <td>35.322900</td>\n",
       "      <td>36.657000</td>\n",
       "      <td>54.513500</td>\n",
       "      <td>57.894700</td>\n",
       "      <td>0.077800</td>\n",
       "      <td>0.102000</td>\n",
       "      <td>48.913800</td>\n",
       "      <td>37.555600</td>\n",
       "      <td>64.210500</td>\n",
       "      <td>9.434000</td>\n",
       "      <td>47.698100</td>\n",
       "      <td>34.107100</td>\n",
       "      <td>70.650500</td>\n",
       "      <td>6.447100</td>\n",
       "      <td>23.974400</td>\n",
       "      <td>29.708200</td>\n",
       "      <td>54.325300</td>\n",
       "      <td>56.865100</td>\n",
       "      <td>0.108000</td>\n",
       "      <td>0.104900</td>\n",
       "      <td>68.8425</td>\n",
       "      <td>67.7359</td>\n",
       "      <td>98.6930</td>\n",
       "      <td>98.6102</td>\n",
       "      <td>96.3688</td>\n",
       "      <td>99.6885</td>\n",
       "      <td>76.0664</td>\n",
       "      <td>73.8504</td>\n",
       "      <td>103.4213</td>\n",
       "      <td>99.8665</td>\n",
       "      <td>99.6370</td>\n",
       "      <td>106.4500</td>\n",
       "      <td>2002-1373-1108</td>\n",
       "    </tr>\n",
       "    <tr>\n",
       "      <th>1</th>\n",
       "      <td>1104</td>\n",
       "      <td>86</td>\n",
       "      <td>1194</td>\n",
       "      <td>78</td>\n",
       "      <td>N</td>\n",
       "      <td>0</td>\n",
       "      <td>Y02</td>\n",
       "      <td>Y15</td>\n",
       "      <td>2</td>\n",
       "      <td>15</td>\n",
       "      <td>2</td>\n",
       "      <td>15</td>\n",
       "      <td>Y</td>\n",
       "      <td>Y</td>\n",
       "      <td>R1Y2</td>\n",
       "      <td>Alabama</td>\n",
       "      <td>FL Atlantic</td>\n",
       "      <td>2002</td>\n",
       "      <td>greenville</td>\n",
       "      <td>35.6017</td>\n",
       "      <td>-77.3725</td>\n",
       "      <td>33.214400</td>\n",
       "      <td>-87.545766</td>\n",
       "      <td>26.372536</td>\n",
       "      <td>-80.102293</td>\n",
       "      <td>mark-gottfried-1</td>\n",
       "      <td>0</td>\n",
       "      <td>2</td>\n",
       "      <td>0</td>\n",
       "      <td>0</td>\n",
       "      <td>0</td>\n",
       "      <td>0</td>\n",
       "      <td>81</td>\n",
       "      <td>49</td>\n",
       "      <td>149</td>\n",
       "      <td>73</td>\n",
       "      <td>26</td>\n",
       "      <td>7</td>\n",
       "      <td>26</td>\n",
       "      <td>7</td>\n",
       "      <td>sidney-green-1</td>\n",
       "      <td>0</td>\n",
       "      <td>0</td>\n",
       "      <td>0</td>\n",
       "      <td>0</td>\n",
       "      <td>0</td>\n",
       "      <td>0</td>\n",
       "      <td>28</td>\n",
       "      <td>63</td>\n",
       "      <td>28</td>\n",
       "      <td>63</td>\n",
       "      <td>19</td>\n",
       "      <td>11</td>\n",
       "      <td>19</td>\n",
       "      <td>11</td>\n",
       "      <td>8.0</td>\n",
       "      <td>24.0</td>\n",
       "      <td>8.0</td>\n",
       "      <td>NaN</td>\n",
       "      <td>NaN</td>\n",
       "      <td>NaN</td>\n",
       "      <td>NaN</td>\n",
       "      <td>NaN</td>\n",
       "      <td>50.657900</td>\n",
       "      <td>30.867700</td>\n",
       "      <td>73.578200</td>\n",
       "      <td>8.046800</td>\n",
       "      <td>45.208500</td>\n",
       "      <td>31.784100</td>\n",
       "      <td>68.242200</td>\n",
       "      <td>7.163700</td>\n",
       "      <td>33.945000</td>\n",
       "      <td>32.792500</td>\n",
       "      <td>50.549500</td>\n",
       "      <td>46.988000</td>\n",
       "      <td>0.105300</td>\n",
       "      <td>0.088100</td>\n",
       "      <td>45.035500</td>\n",
       "      <td>33.911400</td>\n",
       "      <td>66.778500</td>\n",
       "      <td>8.187100</td>\n",
       "      <td>48.538000</td>\n",
       "      <td>34.392500</td>\n",
       "      <td>68.817200</td>\n",
       "      <td>9.929100</td>\n",
       "      <td>26.905100</td>\n",
       "      <td>30.889100</td>\n",
       "      <td>56.596800</td>\n",
       "      <td>56.339900</td>\n",
       "      <td>0.128200</td>\n",
       "      <td>0.107600</td>\n",
       "      <td>69.8636</td>\n",
       "      <td>69.9001</td>\n",
       "      <td>108.4361</td>\n",
       "      <td>111.4954</td>\n",
       "      <td>95.2313</td>\n",
       "      <td>93.8770</td>\n",
       "      <td>71.2357</td>\n",
       "      <td>71.2446</td>\n",
       "      <td>100.2897</td>\n",
       "      <td>96.8669</td>\n",
       "      <td>98.4183</td>\n",
       "      <td>99.9263</td>\n",
       "      <td>2002-1104-1194</td>\n",
       "    </tr>\n",
       "    <tr>\n",
       "      <th>2</th>\n",
       "      <td>1112</td>\n",
       "      <td>86</td>\n",
       "      <td>1364</td>\n",
       "      <td>81</td>\n",
       "      <td>N</td>\n",
       "      <td>0</td>\n",
       "      <td>Z03</td>\n",
       "      <td>Z14</td>\n",
       "      <td>3</td>\n",
       "      <td>14</td>\n",
       "      <td>3</td>\n",
       "      <td>14</td>\n",
       "      <td>Z</td>\n",
       "      <td>Z</td>\n",
       "      <td>R1Z3</td>\n",
       "      <td>Arizona</td>\n",
       "      <td>Santa Barbara</td>\n",
       "      <td>2002</td>\n",
       "      <td>albuquerque</td>\n",
       "      <td>35.1107</td>\n",
       "      <td>-106.6100</td>\n",
       "      <td>32.232071</td>\n",
       "      <td>-110.950769</td>\n",
       "      <td>34.415462</td>\n",
       "      <td>-119.848071</td>\n",
       "      <td>lute-olson-1</td>\n",
       "      <td>17</td>\n",
       "      <td>22</td>\n",
       "      <td>8</td>\n",
       "      <td>10</td>\n",
       "      <td>4</td>\n",
       "      <td>5</td>\n",
       "      <td>467</td>\n",
       "      <td>144</td>\n",
       "      <td>656</td>\n",
       "      <td>239</td>\n",
       "      <td>22</td>\n",
       "      <td>9</td>\n",
       "      <td>22</td>\n",
       "      <td>9</td>\n",
       "      <td>bob-williams-1</td>\n",
       "      <td>0</td>\n",
       "      <td>0</td>\n",
       "      <td>0</td>\n",
       "      <td>0</td>\n",
       "      <td>0</td>\n",
       "      <td>0</td>\n",
       "      <td>62</td>\n",
       "      <td>52</td>\n",
       "      <td>62</td>\n",
       "      <td>52</td>\n",
       "      <td>20</td>\n",
       "      <td>10</td>\n",
       "      <td>20</td>\n",
       "      <td>10</td>\n",
       "      <td>7.0</td>\n",
       "      <td>NaN</td>\n",
       "      <td>8.0</td>\n",
       "      <td>NaN</td>\n",
       "      <td>NaN</td>\n",
       "      <td>NaN</td>\n",
       "      <td>NaN</td>\n",
       "      <td>NaN</td>\n",
       "      <td>50.000000</td>\n",
       "      <td>37.609300</td>\n",
       "      <td>73.076900</td>\n",
       "      <td>7.251200</td>\n",
       "      <td>47.857600</td>\n",
       "      <td>34.782600</td>\n",
       "      <td>70.125800</td>\n",
       "      <td>8.493400</td>\n",
       "      <td>33.627500</td>\n",
       "      <td>31.973100</td>\n",
       "      <td>56.470600</td>\n",
       "      <td>54.825500</td>\n",
       "      <td>0.083500</td>\n",
       "      <td>0.083900</td>\n",
       "      <td>47.041400</td>\n",
       "      <td>40.824700</td>\n",
       "      <td>75.811700</td>\n",
       "      <td>8.718500</td>\n",
       "      <td>43.172300</td>\n",
       "      <td>32.096800</td>\n",
       "      <td>69.367900</td>\n",
       "      <td>6.706100</td>\n",
       "      <td>32.354900</td>\n",
       "      <td>39.440200</td>\n",
       "      <td>65.777800</td>\n",
       "      <td>58.524600</td>\n",
       "      <td>0.086800</td>\n",
       "      <td>0.077800</td>\n",
       "      <td>74.1462</td>\n",
       "      <td>72.8207</td>\n",
       "      <td>111.0077</td>\n",
       "      <td>117.3877</td>\n",
       "      <td>104.0411</td>\n",
       "      <td>96.9262</td>\n",
       "      <td>63.2345</td>\n",
       "      <td>64.7948</td>\n",
       "      <td>105.2163</td>\n",
       "      <td>105.4534</td>\n",
       "      <td>96.0965</td>\n",
       "      <td>97.6704</td>\n",
       "      <td>2002-1112-1364</td>\n",
       "    </tr>\n",
       "    <tr>\n",
       "      <th>3</th>\n",
       "      <td>1181</td>\n",
       "      <td>84</td>\n",
       "      <td>1457</td>\n",
       "      <td>37</td>\n",
       "      <td>N</td>\n",
       "      <td>0</td>\n",
       "      <td>Y01</td>\n",
       "      <td>Y16</td>\n",
       "      <td>1</td>\n",
       "      <td>16</td>\n",
       "      <td>1</td>\n",
       "      <td>16</td>\n",
       "      <td>Y</td>\n",
       "      <td>Y</td>\n",
       "      <td>R1Y1</td>\n",
       "      <td>Duke</td>\n",
       "      <td>Winthrop</td>\n",
       "      <td>2002</td>\n",
       "      <td>greenville</td>\n",
       "      <td>35.6017</td>\n",
       "      <td>-77.3725</td>\n",
       "      <td>36.001590</td>\n",
       "      <td>-78.942260</td>\n",
       "      <td>34.938510</td>\n",
       "      <td>-81.028663</td>\n",
       "      <td>mike-krzyzewski-1</td>\n",
       "      <td>17</td>\n",
       "      <td>17</td>\n",
       "      <td>12</td>\n",
       "      <td>12</td>\n",
       "      <td>9</td>\n",
       "      <td>9</td>\n",
       "      <td>562</td>\n",
       "      <td>167</td>\n",
       "      <td>635</td>\n",
       "      <td>226</td>\n",
       "      <td>29</td>\n",
       "      <td>3</td>\n",
       "      <td>29</td>\n",
       "      <td>3</td>\n",
       "      <td>gregg-marshall-1</td>\n",
       "      <td>3</td>\n",
       "      <td>3</td>\n",
       "      <td>0</td>\n",
       "      <td>0</td>\n",
       "      <td>0</td>\n",
       "      <td>0</td>\n",
       "      <td>79</td>\n",
       "      <td>41</td>\n",
       "      <td>79</td>\n",
       "      <td>41</td>\n",
       "      <td>19</td>\n",
       "      <td>11</td>\n",
       "      <td>19</td>\n",
       "      <td>11</td>\n",
       "      <td>1.0</td>\n",
       "      <td>1.0</td>\n",
       "      <td>1.0</td>\n",
       "      <td>NaN</td>\n",
       "      <td>NaN</td>\n",
       "      <td>NaN</td>\n",
       "      <td>NaN</td>\n",
       "      <td>NaN</td>\n",
       "      <td>57.432900</td>\n",
       "      <td>36.265100</td>\n",
       "      <td>68.984500</td>\n",
       "      <td>7.225100</td>\n",
       "      <td>46.291600</td>\n",
       "      <td>30.270300</td>\n",
       "      <td>68.869300</td>\n",
       "      <td>7.469200</td>\n",
       "      <td>37.573600</td>\n",
       "      <td>26.191600</td>\n",
       "      <td>57.182100</td>\n",
       "      <td>49.551600</td>\n",
       "      <td>0.129700</td>\n",
       "      <td>0.091900</td>\n",
       "      <td>47.642000</td>\n",
       "      <td>30.560300</td>\n",
       "      <td>65.591400</td>\n",
       "      <td>11.630100</td>\n",
       "      <td>45.662500</td>\n",
       "      <td>30.410400</td>\n",
       "      <td>68.837200</td>\n",
       "      <td>9.817100</td>\n",
       "      <td>36.179400</td>\n",
       "      <td>33.817000</td>\n",
       "      <td>49.037000</td>\n",
       "      <td>51.869200</td>\n",
       "      <td>0.110800</td>\n",
       "      <td>0.098700</td>\n",
       "      <td>77.0734</td>\n",
       "      <td>75.1685</td>\n",
       "      <td>116.3726</td>\n",
       "      <td>118.5999</td>\n",
       "      <td>90.2544</td>\n",
       "      <td>87.7504</td>\n",
       "      <td>68.2128</td>\n",
       "      <td>67.4639</td>\n",
       "      <td>100.2384</td>\n",
       "      <td>95.3632</td>\n",
       "      <td>94.6587</td>\n",
       "      <td>99.9754</td>\n",
       "      <td>2002-1181-1457</td>\n",
       "    </tr>\n",
       "    <tr>\n",
       "      <th>4</th>\n",
       "      <td>1231</td>\n",
       "      <td>75</td>\n",
       "      <td>1428</td>\n",
       "      <td>56</td>\n",
       "      <td>N</td>\n",
       "      <td>0</td>\n",
       "      <td>Y05</td>\n",
       "      <td>Y12</td>\n",
       "      <td>5</td>\n",
       "      <td>12</td>\n",
       "      <td>5</td>\n",
       "      <td>12</td>\n",
       "      <td>Y</td>\n",
       "      <td>Y</td>\n",
       "      <td>R1Y5</td>\n",
       "      <td>Indiana</td>\n",
       "      <td>Utah</td>\n",
       "      <td>2002</td>\n",
       "      <td>sacramento</td>\n",
       "      <td>38.5556</td>\n",
       "      <td>-121.4689</td>\n",
       "      <td>39.166383</td>\n",
       "      <td>-86.526904</td>\n",
       "      <td>40.762484</td>\n",
       "      <td>-111.846044</td>\n",
       "      <td>mike-davis-6</td>\n",
       "      <td>1</td>\n",
       "      <td>1</td>\n",
       "      <td>0</td>\n",
       "      <td>0</td>\n",
       "      <td>0</td>\n",
       "      <td>0</td>\n",
       "      <td>41</td>\n",
       "      <td>24</td>\n",
       "      <td>41</td>\n",
       "      <td>24</td>\n",
       "      <td>20</td>\n",
       "      <td>11</td>\n",
       "      <td>20</td>\n",
       "      <td>11</td>\n",
       "      <td>rick-majerus-1</td>\n",
       "      <td>8</td>\n",
       "      <td>9</td>\n",
       "      <td>4</td>\n",
       "      <td>4</td>\n",
       "      <td>1</td>\n",
       "      <td>1</td>\n",
       "      <td>283</td>\n",
       "      <td>81</td>\n",
       "      <td>382</td>\n",
       "      <td>133</td>\n",
       "      <td>21</td>\n",
       "      <td>8</td>\n",
       "      <td>21</td>\n",
       "      <td>8</td>\n",
       "      <td>NaN</td>\n",
       "      <td>22.0</td>\n",
       "      <td>NaN</td>\n",
       "      <td>NaN</td>\n",
       "      <td>NaN</td>\n",
       "      <td>NaN</td>\n",
       "      <td>NaN</td>\n",
       "      <td>NaN</td>\n",
       "      <td>48.369600</td>\n",
       "      <td>40.000000</td>\n",
       "      <td>69.456100</td>\n",
       "      <td>12.508600</td>\n",
       "      <td>42.886600</td>\n",
       "      <td>35.583900</td>\n",
       "      <td>66.401300</td>\n",
       "      <td>10.015500</td>\n",
       "      <td>33.021300</td>\n",
       "      <td>27.359000</td>\n",
       "      <td>58.494900</td>\n",
       "      <td>48.229500</td>\n",
       "      <td>0.104500</td>\n",
       "      <td>0.107500</td>\n",
       "      <td>50.306000</td>\n",
       "      <td>40.471900</td>\n",
       "      <td>67.944300</td>\n",
       "      <td>7.396100</td>\n",
       "      <td>49.138800</td>\n",
       "      <td>31.830200</td>\n",
       "      <td>70.640600</td>\n",
       "      <td>7.343900</td>\n",
       "      <td>40.277800</td>\n",
       "      <td>27.639300</td>\n",
       "      <td>63.722400</td>\n",
       "      <td>51.570200</td>\n",
       "      <td>0.092200</td>\n",
       "      <td>0.092700</td>\n",
       "      <td>65.7442</td>\n",
       "      <td>66.5739</td>\n",
       "      <td>105.3974</td>\n",
       "      <td>109.6136</td>\n",
       "      <td>94.4987</td>\n",
       "      <td>89.9224</td>\n",
       "      <td>62.6181</td>\n",
       "      <td>63.3547</td>\n",
       "      <td>107.7123</td>\n",
       "      <td>108.6231</td>\n",
       "      <td>97.4318</td>\n",
       "      <td>95.6459</td>\n",
       "      <td>2002-1231-1428</td>\n",
       "    </tr>\n",
       "    <tr>\n",
       "      <th>...</th>\n",
       "      <td>...</td>\n",
       "      <td>...</td>\n",
       "      <td>...</td>\n",
       "      <td>...</td>\n",
       "      <td>...</td>\n",
       "      <td>...</td>\n",
       "      <td>...</td>\n",
       "      <td>...</td>\n",
       "      <td>...</td>\n",
       "      <td>...</td>\n",
       "      <td>...</td>\n",
       "      <td>...</td>\n",
       "      <td>...</td>\n",
       "      <td>...</td>\n",
       "      <td>...</td>\n",
       "      <td>...</td>\n",
       "      <td>...</td>\n",
       "      <td>...</td>\n",
       "      <td>...</td>\n",
       "      <td>...</td>\n",
       "      <td>...</td>\n",
       "      <td>...</td>\n",
       "      <td>...</td>\n",
       "      <td>...</td>\n",
       "      <td>...</td>\n",
       "      <td>...</td>\n",
       "      <td>...</td>\n",
       "      <td>...</td>\n",
       "      <td>...</td>\n",
       "      <td>...</td>\n",
       "      <td>...</td>\n",
       "      <td>...</td>\n",
       "      <td>...</td>\n",
       "      <td>...</td>\n",
       "      <td>...</td>\n",
       "      <td>...</td>\n",
       "      <td>...</td>\n",
       "      <td>...</td>\n",
       "      <td>...</td>\n",
       "      <td>...</td>\n",
       "      <td>...</td>\n",
       "      <td>...</td>\n",
       "      <td>...</td>\n",
       "      <td>...</td>\n",
       "      <td>...</td>\n",
       "      <td>...</td>\n",
       "      <td>...</td>\n",
       "      <td>...</td>\n",
       "      <td>...</td>\n",
       "      <td>...</td>\n",
       "      <td>...</td>\n",
       "      <td>...</td>\n",
       "      <td>...</td>\n",
       "      <td>...</td>\n",
       "      <td>...</td>\n",
       "      <td>...</td>\n",
       "      <td>...</td>\n",
       "      <td>...</td>\n",
       "      <td>...</td>\n",
       "      <td>...</td>\n",
       "      <td>...</td>\n",
       "      <td>...</td>\n",
       "      <td>...</td>\n",
       "      <td>...</td>\n",
       "      <td>...</td>\n",
       "      <td>...</td>\n",
       "      <td>...</td>\n",
       "      <td>...</td>\n",
       "      <td>...</td>\n",
       "      <td>...</td>\n",
       "      <td>...</td>\n",
       "      <td>...</td>\n",
       "      <td>...</td>\n",
       "      <td>...</td>\n",
       "      <td>...</td>\n",
       "      <td>...</td>\n",
       "      <td>...</td>\n",
       "      <td>...</td>\n",
       "      <td>...</td>\n",
       "      <td>...</td>\n",
       "      <td>...</td>\n",
       "      <td>...</td>\n",
       "      <td>...</td>\n",
       "      <td>...</td>\n",
       "      <td>...</td>\n",
       "      <td>...</td>\n",
       "      <td>...</td>\n",
       "      <td>...</td>\n",
       "      <td>...</td>\n",
       "      <td>...</td>\n",
       "      <td>...</td>\n",
       "      <td>...</td>\n",
       "      <td>...</td>\n",
       "      <td>...</td>\n",
       "      <td>...</td>\n",
       "      <td>...</td>\n",
       "      <td>...</td>\n",
       "      <td>...</td>\n",
       "      <td>...</td>\n",
       "      <td>...</td>\n",
       "      <td>...</td>\n",
       "      <td>...</td>\n",
       "      <td>...</td>\n",
       "      <td>...</td>\n",
       "    </tr>\n",
       "    <tr>\n",
       "      <th>1107</th>\n",
       "      <td>1260</td>\n",
       "      <td>78</td>\n",
       "      <td>1243</td>\n",
       "      <td>62</td>\n",
       "      <td>N</td>\n",
       "      <td>0</td>\n",
       "      <td>Y11</td>\n",
       "      <td>Y09</td>\n",
       "      <td>11</td>\n",
       "      <td>9</td>\n",
       "      <td>9</td>\n",
       "      <td>11</td>\n",
       "      <td>Y</td>\n",
       "      <td>Y</td>\n",
       "      <td>R4Y1</td>\n",
       "      <td>Loyola-Chicago</td>\n",
       "      <td>Kansas St</td>\n",
       "      <td>2018</td>\n",
       "      <td>atlanta</td>\n",
       "      <td>33.7550</td>\n",
       "      <td>-84.3900</td>\n",
       "      <td>41.999161</td>\n",
       "      <td>-87.657399</td>\n",
       "      <td>39.188616</td>\n",
       "      <td>-96.581077</td>\n",
       "      <td>porter-moser-1</td>\n",
       "      <td>0</td>\n",
       "      <td>0</td>\n",
       "      <td>0</td>\n",
       "      <td>0</td>\n",
       "      <td>0</td>\n",
       "      <td>0</td>\n",
       "      <td>117</td>\n",
       "      <td>110</td>\n",
       "      <td>222</td>\n",
       "      <td>211</td>\n",
       "      <td>28</td>\n",
       "      <td>5</td>\n",
       "      <td>28</td>\n",
       "      <td>5</td>\n",
       "      <td>bruce-weber-1</td>\n",
       "      <td>3</td>\n",
       "      <td>11</td>\n",
       "      <td>0</td>\n",
       "      <td>3</td>\n",
       "      <td>0</td>\n",
       "      <td>1</td>\n",
       "      <td>122</td>\n",
       "      <td>79</td>\n",
       "      <td>435</td>\n",
       "      <td>234</td>\n",
       "      <td>22</td>\n",
       "      <td>11</td>\n",
       "      <td>22</td>\n",
       "      <td>11</td>\n",
       "      <td>NaN</td>\n",
       "      <td>NaN</td>\n",
       "      <td>NaN</td>\n",
       "      <td>NaN</td>\n",
       "      <td>NaN</td>\n",
       "      <td>NaN</td>\n",
       "      <td>NaN</td>\n",
       "      <td>NaN</td>\n",
       "      <td>56.534091</td>\n",
       "      <td>40.034072</td>\n",
       "      <td>72.477064</td>\n",
       "      <td>6.773619</td>\n",
       "      <td>46.345811</td>\n",
       "      <td>32.554517</td>\n",
       "      <td>70.044053</td>\n",
       "      <td>9.185606</td>\n",
       "      <td>35.727328</td>\n",
       "      <td>36.394558</td>\n",
       "      <td>59.375000</td>\n",
       "      <td>51.028807</td>\n",
       "      <td>0.101055</td>\n",
       "      <td>0.097734</td>\n",
       "      <td>54.632867</td>\n",
       "      <td>34.384384</td>\n",
       "      <td>74.299835</td>\n",
       "      <td>9.243697</td>\n",
       "      <td>49.299720</td>\n",
       "      <td>33.238636</td>\n",
       "      <td>74.153846</td>\n",
       "      <td>7.080420</td>\n",
       "      <td>36.795580</td>\n",
       "      <td>39.661972</td>\n",
       "      <td>55.386417</td>\n",
       "      <td>54.855643</td>\n",
       "      <td>0.116525</td>\n",
       "      <td>0.083426</td>\n",
       "      <td>65.9000</td>\n",
       "      <td>65.3000</td>\n",
       "      <td>111.3000</td>\n",
       "      <td>108.7000</td>\n",
       "      <td>96.2000</td>\n",
       "      <td>93.9000</td>\n",
       "      <td>66.6000</td>\n",
       "      <td>65.5000</td>\n",
       "      <td>112.2000</td>\n",
       "      <td>108.3000</td>\n",
       "      <td>97.4000</td>\n",
       "      <td>101.6000</td>\n",
       "      <td>2018-1260-1243</td>\n",
       "    </tr>\n",
       "    <tr>\n",
       "      <th>1108</th>\n",
       "      <td>1276</td>\n",
       "      <td>58</td>\n",
       "      <td>1199</td>\n",
       "      <td>54</td>\n",
       "      <td>N</td>\n",
       "      <td>0</td>\n",
       "      <td>Z03</td>\n",
       "      <td>Z09</td>\n",
       "      <td>3</td>\n",
       "      <td>9</td>\n",
       "      <td>3</td>\n",
       "      <td>9</td>\n",
       "      <td>Z</td>\n",
       "      <td>Z</td>\n",
       "      <td>R4Z1</td>\n",
       "      <td>Michigan</td>\n",
       "      <td>Florida St</td>\n",
       "      <td>2018</td>\n",
       "      <td>los_angeles</td>\n",
       "      <td>34.0500</td>\n",
       "      <td>-118.2500</td>\n",
       "      <td>42.276138</td>\n",
       "      <td>-83.743132</td>\n",
       "      <td>30.439741</td>\n",
       "      <td>-84.290883</td>\n",
       "      <td>john-beilein-1</td>\n",
       "      <td>7</td>\n",
       "      <td>11</td>\n",
       "      <td>3</td>\n",
       "      <td>5</td>\n",
       "      <td>1</td>\n",
       "      <td>1</td>\n",
       "      <td>243</td>\n",
       "      <td>142</td>\n",
       "      <td>536</td>\n",
       "      <td>317</td>\n",
       "      <td>28</td>\n",
       "      <td>7</td>\n",
       "      <td>28</td>\n",
       "      <td>7</td>\n",
       "      <td>leonard-hamilton-1</td>\n",
       "      <td>5</td>\n",
       "      <td>8</td>\n",
       "      <td>1</td>\n",
       "      <td>2</td>\n",
       "      <td>0</td>\n",
       "      <td>0</td>\n",
       "      <td>324</td>\n",
       "      <td>207</td>\n",
       "      <td>524</td>\n",
       "      <td>417</td>\n",
       "      <td>20</td>\n",
       "      <td>11</td>\n",
       "      <td>20</td>\n",
       "      <td>11</td>\n",
       "      <td>7.0</td>\n",
       "      <td>NaN</td>\n",
       "      <td>7.0</td>\n",
       "      <td>NaN</td>\n",
       "      <td>NaN</td>\n",
       "      <td>NaN</td>\n",
       "      <td>NaN</td>\n",
       "      <td>NaN</td>\n",
       "      <td>54.339964</td>\n",
       "      <td>36.309524</td>\n",
       "      <td>65.704584</td>\n",
       "      <td>8.228840</td>\n",
       "      <td>47.021944</td>\n",
       "      <td>34.239130</td>\n",
       "      <td>71.454545</td>\n",
       "      <td>9.945750</td>\n",
       "      <td>43.165468</td>\n",
       "      <td>30.196937</td>\n",
       "      <td>54.746137</td>\n",
       "      <td>45.120406</td>\n",
       "      <td>0.093354</td>\n",
       "      <td>0.061791</td>\n",
       "      <td>54.560531</td>\n",
       "      <td>35.127479</td>\n",
       "      <td>68.451520</td>\n",
       "      <td>13.333333</td>\n",
       "      <td>45.500000</td>\n",
       "      <td>36.376210</td>\n",
       "      <td>72.542373</td>\n",
       "      <td>7.628524</td>\n",
       "      <td>36.924686</td>\n",
       "      <td>37.597504</td>\n",
       "      <td>52.207506</td>\n",
       "      <td>49.196539</td>\n",
       "      <td>0.091039</td>\n",
       "      <td>0.079659</td>\n",
       "      <td>65.4000</td>\n",
       "      <td>64.4000</td>\n",
       "      <td>115.9000</td>\n",
       "      <td>111.2000</td>\n",
       "      <td>92.7000</td>\n",
       "      <td>96.5000</td>\n",
       "      <td>72.6000</td>\n",
       "      <td>71.6000</td>\n",
       "      <td>115.8000</td>\n",
       "      <td>110.8000</td>\n",
       "      <td>100.0000</td>\n",
       "      <td>101.4000</td>\n",
       "      <td>2018-1276-1199</td>\n",
       "    </tr>\n",
       "    <tr>\n",
       "      <th>1109</th>\n",
       "      <td>1437</td>\n",
       "      <td>95</td>\n",
       "      <td>1242</td>\n",
       "      <td>79</td>\n",
       "      <td>N</td>\n",
       "      <td>0</td>\n",
       "      <td>W01</td>\n",
       "      <td>X01</td>\n",
       "      <td>1</td>\n",
       "      <td>1</td>\n",
       "      <td>1</td>\n",
       "      <td>1</td>\n",
       "      <td>W</td>\n",
       "      <td>X</td>\n",
       "      <td>R5WX</td>\n",
       "      <td>Villanova</td>\n",
       "      <td>Kansas</td>\n",
       "      <td>2018</td>\n",
       "      <td>san_antonio</td>\n",
       "      <td>29.4167</td>\n",
       "      <td>-98.5000</td>\n",
       "      <td>40.039388</td>\n",
       "      <td>-75.345457</td>\n",
       "      <td>38.957351</td>\n",
       "      <td>-95.245870</td>\n",
       "      <td>jay-wright-1</td>\n",
       "      <td>12</td>\n",
       "      <td>14</td>\n",
       "      <td>5</td>\n",
       "      <td>5</td>\n",
       "      <td>2</td>\n",
       "      <td>2</td>\n",
       "      <td>416</td>\n",
       "      <td>165</td>\n",
       "      <td>538</td>\n",
       "      <td>250</td>\n",
       "      <td>30</td>\n",
       "      <td>4</td>\n",
       "      <td>30</td>\n",
       "      <td>4</td>\n",
       "      <td>bill-self-1</td>\n",
       "      <td>14</td>\n",
       "      <td>19</td>\n",
       "      <td>9</td>\n",
       "      <td>12</td>\n",
       "      <td>2</td>\n",
       "      <td>2</td>\n",
       "      <td>443</td>\n",
       "      <td>95</td>\n",
       "      <td>650</td>\n",
       "      <td>200</td>\n",
       "      <td>27</td>\n",
       "      <td>7</td>\n",
       "      <td>27</td>\n",
       "      <td>7</td>\n",
       "      <td>3.0</td>\n",
       "      <td>6.0</td>\n",
       "      <td>2.0</td>\n",
       "      <td>6.0</td>\n",
       "      <td>9.0</td>\n",
       "      <td>3.0</td>\n",
       "      <td>4.0</td>\n",
       "      <td>4.0</td>\n",
       "      <td>59.713518</td>\n",
       "      <td>39.794872</td>\n",
       "      <td>77.128548</td>\n",
       "      <td>10.219531</td>\n",
       "      <td>49.280848</td>\n",
       "      <td>32.782369</td>\n",
       "      <td>75.334608</td>\n",
       "      <td>8.146822</td>\n",
       "      <td>46.606119</td>\n",
       "      <td>35.466536</td>\n",
       "      <td>53.744076</td>\n",
       "      <td>53.543307</td>\n",
       "      <td>0.094075</td>\n",
       "      <td>0.064236</td>\n",
       "      <td>56.536220</td>\n",
       "      <td>40.256709</td>\n",
       "      <td>70.000000</td>\n",
       "      <td>10.973725</td>\n",
       "      <td>48.145286</td>\n",
       "      <td>32.670807</td>\n",
       "      <td>71.976967</td>\n",
       "      <td>10.074938</td>\n",
       "      <td>41.642371</td>\n",
       "      <td>38.351596</td>\n",
       "      <td>56.445312</td>\n",
       "      <td>48.645598</td>\n",
       "      <td>0.094340</td>\n",
       "      <td>0.080084</td>\n",
       "      <td>70.2000</td>\n",
       "      <td>68.3000</td>\n",
       "      <td>127.4000</td>\n",
       "      <td>122.8000</td>\n",
       "      <td>96.0000</td>\n",
       "      <td>99.9000</td>\n",
       "      <td>70.1000</td>\n",
       "      <td>68.4000</td>\n",
       "      <td>120.9000</td>\n",
       "      <td>116.0000</td>\n",
       "      <td>97.7000</td>\n",
       "      <td>101.4000</td>\n",
       "      <td>2018-1437-1242</td>\n",
       "    </tr>\n",
       "    <tr>\n",
       "      <th>1110</th>\n",
       "      <td>1276</td>\n",
       "      <td>69</td>\n",
       "      <td>1260</td>\n",
       "      <td>57</td>\n",
       "      <td>N</td>\n",
       "      <td>0</td>\n",
       "      <td>Z03</td>\n",
       "      <td>Y11</td>\n",
       "      <td>3</td>\n",
       "      <td>11</td>\n",
       "      <td>3</td>\n",
       "      <td>11</td>\n",
       "      <td>Z</td>\n",
       "      <td>Y</td>\n",
       "      <td>R5YZ</td>\n",
       "      <td>Michigan</td>\n",
       "      <td>Loyola-Chicago</td>\n",
       "      <td>2018</td>\n",
       "      <td>san_antonio</td>\n",
       "      <td>29.4167</td>\n",
       "      <td>-98.5000</td>\n",
       "      <td>42.276138</td>\n",
       "      <td>-83.743132</td>\n",
       "      <td>41.999161</td>\n",
       "      <td>-87.657399</td>\n",
       "      <td>john-beilein-1</td>\n",
       "      <td>7</td>\n",
       "      <td>11</td>\n",
       "      <td>3</td>\n",
       "      <td>5</td>\n",
       "      <td>1</td>\n",
       "      <td>1</td>\n",
       "      <td>243</td>\n",
       "      <td>142</td>\n",
       "      <td>536</td>\n",
       "      <td>317</td>\n",
       "      <td>28</td>\n",
       "      <td>7</td>\n",
       "      <td>28</td>\n",
       "      <td>7</td>\n",
       "      <td>porter-moser-1</td>\n",
       "      <td>0</td>\n",
       "      <td>0</td>\n",
       "      <td>0</td>\n",
       "      <td>0</td>\n",
       "      <td>0</td>\n",
       "      <td>0</td>\n",
       "      <td>117</td>\n",
       "      <td>110</td>\n",
       "      <td>222</td>\n",
       "      <td>211</td>\n",
       "      <td>28</td>\n",
       "      <td>5</td>\n",
       "      <td>28</td>\n",
       "      <td>5</td>\n",
       "      <td>7.0</td>\n",
       "      <td>NaN</td>\n",
       "      <td>7.0</td>\n",
       "      <td>NaN</td>\n",
       "      <td>NaN</td>\n",
       "      <td>NaN</td>\n",
       "      <td>NaN</td>\n",
       "      <td>NaN</td>\n",
       "      <td>54.339964</td>\n",
       "      <td>36.309524</td>\n",
       "      <td>65.704584</td>\n",
       "      <td>8.228840</td>\n",
       "      <td>47.021944</td>\n",
       "      <td>34.239130</td>\n",
       "      <td>71.454545</td>\n",
       "      <td>9.945750</td>\n",
       "      <td>43.165468</td>\n",
       "      <td>30.196937</td>\n",
       "      <td>54.746137</td>\n",
       "      <td>45.120406</td>\n",
       "      <td>0.093354</td>\n",
       "      <td>0.061791</td>\n",
       "      <td>56.534091</td>\n",
       "      <td>40.034072</td>\n",
       "      <td>72.477064</td>\n",
       "      <td>6.773619</td>\n",
       "      <td>46.345811</td>\n",
       "      <td>32.554517</td>\n",
       "      <td>70.044053</td>\n",
       "      <td>9.185606</td>\n",
       "      <td>35.727328</td>\n",
       "      <td>36.394558</td>\n",
       "      <td>59.375000</td>\n",
       "      <td>51.028807</td>\n",
       "      <td>0.101055</td>\n",
       "      <td>0.097734</td>\n",
       "      <td>65.4000</td>\n",
       "      <td>64.4000</td>\n",
       "      <td>115.9000</td>\n",
       "      <td>111.2000</td>\n",
       "      <td>92.7000</td>\n",
       "      <td>96.5000</td>\n",
       "      <td>65.9000</td>\n",
       "      <td>65.3000</td>\n",
       "      <td>111.3000</td>\n",
       "      <td>108.7000</td>\n",
       "      <td>96.2000</td>\n",
       "      <td>93.9000</td>\n",
       "      <td>2018-1276-1260</td>\n",
       "    </tr>\n",
       "    <tr>\n",
       "      <th>1111</th>\n",
       "      <td>1437</td>\n",
       "      <td>79</td>\n",
       "      <td>1276</td>\n",
       "      <td>62</td>\n",
       "      <td>N</td>\n",
       "      <td>0</td>\n",
       "      <td>W01</td>\n",
       "      <td>Z03</td>\n",
       "      <td>1</td>\n",
       "      <td>3</td>\n",
       "      <td>1</td>\n",
       "      <td>3</td>\n",
       "      <td>W</td>\n",
       "      <td>Z</td>\n",
       "      <td>R6CH</td>\n",
       "      <td>Villanova</td>\n",
       "      <td>Michigan</td>\n",
       "      <td>2018</td>\n",
       "      <td>san_antonio</td>\n",
       "      <td>29.4167</td>\n",
       "      <td>-98.5000</td>\n",
       "      <td>40.039388</td>\n",
       "      <td>-75.345457</td>\n",
       "      <td>42.276138</td>\n",
       "      <td>-83.743132</td>\n",
       "      <td>jay-wright-1</td>\n",
       "      <td>12</td>\n",
       "      <td>14</td>\n",
       "      <td>5</td>\n",
       "      <td>5</td>\n",
       "      <td>2</td>\n",
       "      <td>2</td>\n",
       "      <td>416</td>\n",
       "      <td>165</td>\n",
       "      <td>538</td>\n",
       "      <td>250</td>\n",
       "      <td>30</td>\n",
       "      <td>4</td>\n",
       "      <td>30</td>\n",
       "      <td>4</td>\n",
       "      <td>john-beilein-1</td>\n",
       "      <td>7</td>\n",
       "      <td>11</td>\n",
       "      <td>3</td>\n",
       "      <td>5</td>\n",
       "      <td>1</td>\n",
       "      <td>1</td>\n",
       "      <td>243</td>\n",
       "      <td>142</td>\n",
       "      <td>536</td>\n",
       "      <td>317</td>\n",
       "      <td>28</td>\n",
       "      <td>7</td>\n",
       "      <td>28</td>\n",
       "      <td>7</td>\n",
       "      <td>3.0</td>\n",
       "      <td>6.0</td>\n",
       "      <td>2.0</td>\n",
       "      <td>6.0</td>\n",
       "      <td>7.0</td>\n",
       "      <td>NaN</td>\n",
       "      <td>7.0</td>\n",
       "      <td>NaN</td>\n",
       "      <td>59.713518</td>\n",
       "      <td>39.794872</td>\n",
       "      <td>77.128548</td>\n",
       "      <td>10.219531</td>\n",
       "      <td>49.280848</td>\n",
       "      <td>32.782369</td>\n",
       "      <td>75.334608</td>\n",
       "      <td>8.146822</td>\n",
       "      <td>46.606119</td>\n",
       "      <td>35.466536</td>\n",
       "      <td>53.744076</td>\n",
       "      <td>53.543307</td>\n",
       "      <td>0.094075</td>\n",
       "      <td>0.064236</td>\n",
       "      <td>54.339964</td>\n",
       "      <td>36.309524</td>\n",
       "      <td>65.704584</td>\n",
       "      <td>8.228840</td>\n",
       "      <td>47.021944</td>\n",
       "      <td>34.239130</td>\n",
       "      <td>71.454545</td>\n",
       "      <td>9.945750</td>\n",
       "      <td>43.165468</td>\n",
       "      <td>30.196937</td>\n",
       "      <td>54.746137</td>\n",
       "      <td>45.120406</td>\n",
       "      <td>0.093354</td>\n",
       "      <td>0.061791</td>\n",
       "      <td>70.2000</td>\n",
       "      <td>68.3000</td>\n",
       "      <td>127.4000</td>\n",
       "      <td>122.8000</td>\n",
       "      <td>96.0000</td>\n",
       "      <td>99.9000</td>\n",
       "      <td>65.4000</td>\n",
       "      <td>64.4000</td>\n",
       "      <td>115.9000</td>\n",
       "      <td>111.2000</td>\n",
       "      <td>92.7000</td>\n",
       "      <td>96.5000</td>\n",
       "      <td>2018-1437-1276</td>\n",
       "    </tr>\n",
       "  </tbody>\n",
       "</table>\n",
       "<p>1112 rows × 104 columns</p>\n",
       "</div>"
      ],
      "text/plain": [
       "      team1_id  team1_score  team2_id  team2_score WLoc  num_ot  \\\n",
       "0         1373           81      1108           77    N       0   \n",
       "1         1104           86      1194           78    N       0   \n",
       "2         1112           86      1364           81    N       0   \n",
       "3         1181           84      1457           37    N       0   \n",
       "4         1231           75      1428           56    N       0   \n",
       "...        ...          ...       ...          ...  ...     ...   \n",
       "1107      1260           78      1243           62    N       0   \n",
       "1108      1276           58      1199           54    N       0   \n",
       "1109      1437           95      1242           79    N       0   \n",
       "1110      1276           69      1260           57    N       0   \n",
       "1111      1437           79      1276           62    N       0   \n",
       "\n",
       "     team1_position team2_position  team1_seed  team2_seed  strongseed  \\\n",
       "0              W16b           W16a          16          16          16   \n",
       "1               Y02            Y15           2          15           2   \n",
       "2               Z03            Z14           3          14           3   \n",
       "3               Y01            Y16           1          16           1   \n",
       "4               Y05            Y12           5          12           5   \n",
       "...             ...            ...         ...         ...         ...   \n",
       "1107            Y11            Y09          11           9           9   \n",
       "1108            Z03            Z09           3           9           3   \n",
       "1109            W01            X01           1           1           1   \n",
       "1110            Z03            Y11           3          11           3   \n",
       "1111            W01            Z03           1           3           1   \n",
       "\n",
       "      weakseed team1_region team2_region  slot  team1_teamname  \\\n",
       "0           16            W            W   W16           Siena   \n",
       "1           15            Y            Y  R1Y2         Alabama   \n",
       "2           14            Z            Z  R1Z3         Arizona   \n",
       "3           16            Y            Y  R1Y1            Duke   \n",
       "4           12            Y            Y  R1Y5         Indiana   \n",
       "...        ...          ...          ...   ...             ...   \n",
       "1107        11            Y            Y  R4Y1  Loyola-Chicago   \n",
       "1108         9            Z            Z  R4Z1        Michigan   \n",
       "1109         1            W            X  R5WX       Villanova   \n",
       "1110        11            Z            Y  R5YZ        Michigan   \n",
       "1111         3            W            Z  R6CH       Villanova   \n",
       "\n",
       "      team2_teamname  season         host  host_lat  host_long  team1_lat  \\\n",
       "0          Alcorn St    2002       dayton   39.7594   -84.1917  42.718586   \n",
       "1        FL Atlantic    2002   greenville   35.6017   -77.3725  33.214400   \n",
       "2      Santa Barbara    2002  albuquerque   35.1107  -106.6100  32.232071   \n",
       "3           Winthrop    2002   greenville   35.6017   -77.3725  36.001590   \n",
       "4               Utah    2002   sacramento   38.5556  -121.4689  39.166383   \n",
       "...              ...     ...          ...       ...        ...        ...   \n",
       "1107       Kansas St    2018      atlanta   33.7550   -84.3900  41.999161   \n",
       "1108      Florida St    2018  los_angeles   34.0500  -118.2500  42.276138   \n",
       "1109          Kansas    2018  san_antonio   29.4167   -98.5000  40.039388   \n",
       "1110  Loyola-Chicago    2018  san_antonio   29.4167   -98.5000  42.276138   \n",
       "1111        Michigan    2018  san_antonio   29.4167   -98.5000  40.039388   \n",
       "\n",
       "      team1_long  team2_lat  team2_long     team1_coach_id  \\\n",
       "0     -73.751530  31.877216  -91.142854       rob-lanier-1   \n",
       "1     -87.545766  26.372536  -80.102293   mark-gottfried-1   \n",
       "2    -110.950769  34.415462 -119.848071       lute-olson-1   \n",
       "3     -78.942260  34.938510  -81.028663  mike-krzyzewski-1   \n",
       "4     -86.526904  40.762484 -111.846044       mike-davis-6   \n",
       "...          ...        ...         ...                ...   \n",
       "1107  -87.657399  39.188616  -96.581077     porter-moser-1   \n",
       "1108  -83.743132  30.439741  -84.290883     john-beilein-1   \n",
       "1109  -75.345457  38.957351  -95.245870       jay-wright-1   \n",
       "1110  -83.743132  41.999161  -87.657399     john-beilein-1   \n",
       "1111  -75.345457  42.276138  -83.743132       jay-wright-1   \n",
       "\n",
       "      team1_pt_school_ncaa  team1_pt_overall_ncaa  team1_pt_school_s16  \\\n",
       "0                        0                      0                    0   \n",
       "1                        0                      2                    0   \n",
       "2                       17                     22                    8   \n",
       "3                       17                     17                   12   \n",
       "4                        1                      1                    0   \n",
       "...                    ...                    ...                  ...   \n",
       "1107                     0                      0                    0   \n",
       "1108                     7                     11                    3   \n",
       "1109                    12                     14                    5   \n",
       "1110                     7                     11                    3   \n",
       "1111                    12                     14                    5   \n",
       "\n",
       "      team1_pt_overall_s16  team1_pt_school_ff  team1_pt_overall_ff  \\\n",
       "0                        0                   0                    0   \n",
       "1                        0                   0                    0   \n",
       "2                       10                   4                    5   \n",
       "3                       12                   9                    9   \n",
       "4                        0                   0                    0   \n",
       "...                    ...                 ...                  ...   \n",
       "1107                     0                   0                    0   \n",
       "1108                     5                   1                    1   \n",
       "1109                     5                   2                    2   \n",
       "1110                     5                   1                    1   \n",
       "1111                     5                   2                    2   \n",
       "\n",
       "      team1_pt_career_school_wins  team1_pt_career_school_losses  \\\n",
       "0                              16                             18   \n",
       "1                              81                             49   \n",
       "2                             467                            144   \n",
       "3                             562                            167   \n",
       "4                              41                             24   \n",
       "...                           ...                            ...   \n",
       "1107                          117                            110   \n",
       "1108                          243                            142   \n",
       "1109                          416                            165   \n",
       "1110                          243                            142   \n",
       "1111                          416                            165   \n",
       "\n",
       "      team1_pt_career_overall_wins  team1_pt_career_overall_losses  \\\n",
       "0                               16                              18   \n",
       "1                              149                              73   \n",
       "2                              656                             239   \n",
       "3                              635                             226   \n",
       "4                               41                              24   \n",
       "...                            ...                             ...   \n",
       "1107                           222                             211   \n",
       "1108                           536                             317   \n",
       "1109                           538                             250   \n",
       "1110                           536                             317   \n",
       "1111                           538                             250   \n",
       "\n",
       "      team1_pt_team_season_wins  team1_pt_team_season_losses  \\\n",
       "0                            16                           18   \n",
       "1                            26                            7   \n",
       "2                            22                            9   \n",
       "3                            29                            3   \n",
       "4                            20                           11   \n",
       "...                         ...                          ...   \n",
       "1107                         28                            5   \n",
       "1108                         28                            7   \n",
       "1109                         30                            4   \n",
       "1110                         28                            7   \n",
       "1111                         30                            4   \n",
       "\n",
       "      team1_pt_coach_season_wins  team1_pt_coach_season_losses  \\\n",
       "0                             16                            18   \n",
       "1                             26                             7   \n",
       "2                             22                             9   \n",
       "3                             29                             3   \n",
       "4                             20                            11   \n",
       "...                          ...                           ...   \n",
       "1107                          28                             5   \n",
       "1108                          28                             7   \n",
       "1109                          30                             4   \n",
       "1110                          28                             7   \n",
       "1111                          30                             4   \n",
       "\n",
       "          team2_coach_id  team2_pt_school_ncaa  team2_pt_overall_ncaa  \\\n",
       "0        davey-whitney-1                     6                      6   \n",
       "1         sidney-green-1                     0                      0   \n",
       "2         bob-williams-1                     0                      0   \n",
       "3       gregg-marshall-1                     3                      3   \n",
       "4         rick-majerus-1                     8                      9   \n",
       "...                  ...                   ...                    ...   \n",
       "1107       bruce-weber-1                     3                     11   \n",
       "1108  leonard-hamilton-1                     5                      8   \n",
       "1109         bill-self-1                    14                     19   \n",
       "1110      porter-moser-1                     0                      0   \n",
       "1111      john-beilein-1                     7                     11   \n",
       "\n",
       "      team2_pt_school_s16  team2_pt_overall_s16  team2_pt_school_ff  \\\n",
       "0                       0                     0                   0   \n",
       "1                       0                     0                   0   \n",
       "2                       0                     0                   0   \n",
       "3                       0                     0                   0   \n",
       "4                       4                     4                   1   \n",
       "...                   ...                   ...                 ...   \n",
       "1107                    0                     3                   0   \n",
       "1108                    1                     2                   0   \n",
       "1109                    9                    12                   2   \n",
       "1110                    0                     0                   0   \n",
       "1111                    3                     5                   1   \n",
       "\n",
       "      team2_pt_overall_ff  team2_pt_career_school_wins  \\\n",
       "0                       0                          317   \n",
       "1                       0                           28   \n",
       "2                       0                           62   \n",
       "3                       0                           79   \n",
       "4                       1                          283   \n",
       "...                   ...                          ...   \n",
       "1107                    1                          122   \n",
       "1108                    0                          324   \n",
       "1109                    2                          443   \n",
       "1110                    0                          117   \n",
       "1111                    1                          243   \n",
       "\n",
       "      team2_pt_career_school_losses  team2_pt_career_overall_wins  \\\n",
       "0                               210                           317   \n",
       "1                                63                            28   \n",
       "2                                52                            62   \n",
       "3                                41                            79   \n",
       "4                                81                           382   \n",
       "...                             ...                           ...   \n",
       "1107                             79                           435   \n",
       "1108                            207                           524   \n",
       "1109                             95                           650   \n",
       "1110                            110                           222   \n",
       "1111                            142                           536   \n",
       "\n",
       "      team2_pt_career_overall_losses  team2_pt_team_season_wins  \\\n",
       "0                                210                         20   \n",
       "1                                 63                         19   \n",
       "2                                 52                         20   \n",
       "3                                 41                         19   \n",
       "4                                133                         21   \n",
       "...                              ...                        ...   \n",
       "1107                             234                         22   \n",
       "1108                             417                         20   \n",
       "1109                             200                         27   \n",
       "1110                             211                         28   \n",
       "1111                             317                         28   \n",
       "\n",
       "      team2_pt_team_season_losses  team2_pt_coach_season_wins  \\\n",
       "0                               9                          20   \n",
       "1                              11                          19   \n",
       "2                              10                          20   \n",
       "3                              11                          19   \n",
       "4                               8                          21   \n",
       "...                           ...                         ...   \n",
       "1107                           11                          22   \n",
       "1108                           11                          20   \n",
       "1109                            7                          27   \n",
       "1110                            5                          28   \n",
       "1111                            7                          28   \n",
       "\n",
       "      team2_pt_coach_season_losses  team1_ap_final  team1_ap_preseason  \\\n",
       "0                                9             NaN                 NaN   \n",
       "1                               11             8.0                24.0   \n",
       "2                               10             7.0                 NaN   \n",
       "3                               11             1.0                 1.0   \n",
       "4                                8             NaN                22.0   \n",
       "...                            ...             ...                 ...   \n",
       "1107                            11             NaN                 NaN   \n",
       "1108                            11             7.0                 NaN   \n",
       "1109                             7             3.0                 6.0   \n",
       "1110                             5             7.0                 NaN   \n",
       "1111                             7             3.0                 6.0   \n",
       "\n",
       "      team1_coaches_before_final  team1_coaches_preseason  team2_ap_final  \\\n",
       "0                            NaN                      NaN             NaN   \n",
       "1                            8.0                      NaN             NaN   \n",
       "2                            8.0                      NaN             NaN   \n",
       "3                            1.0                      NaN             NaN   \n",
       "4                            NaN                      NaN             NaN   \n",
       "...                          ...                      ...             ...   \n",
       "1107                         NaN                      NaN             NaN   \n",
       "1108                         7.0                      NaN             NaN   \n",
       "1109                         2.0                      6.0             9.0   \n",
       "1110                         7.0                      NaN             NaN   \n",
       "1111                         2.0                      6.0             7.0   \n",
       "\n",
       "      team2_ap_preseason  team2_coaches_before_final  team2_coaches_preseason  \\\n",
       "0                    NaN                         NaN                      NaN   \n",
       "1                    NaN                         NaN                      NaN   \n",
       "2                    NaN                         NaN                      NaN   \n",
       "3                    NaN                         NaN                      NaN   \n",
       "4                    NaN                         NaN                      NaN   \n",
       "...                  ...                         ...                      ...   \n",
       "1107                 NaN                         NaN                      NaN   \n",
       "1108                 NaN                         NaN                      NaN   \n",
       "1109                 3.0                         4.0                      4.0   \n",
       "1110                 NaN                         NaN                      NaN   \n",
       "1111                 NaN                         7.0                      NaN   \n",
       "\n",
       "      team1_fg2pct  team1_fg3pct  team1_ftpct  team1_blockpct  \\\n",
       "0        45.612700     34.626000    74.403200       11.330800   \n",
       "1        50.657900     30.867700    73.578200        8.046800   \n",
       "2        50.000000     37.609300    73.076900        7.251200   \n",
       "3        57.432900     36.265100    68.984500        7.225100   \n",
       "4        48.369600     40.000000    69.456100       12.508600   \n",
       "...            ...           ...          ...             ...   \n",
       "1107     56.534091     40.034072    72.477064        6.773619   \n",
       "1108     54.339964     36.309524    65.704584        8.228840   \n",
       "1109     59.713518     39.794872    77.128548       10.219531   \n",
       "1110     54.339964     36.309524    65.704584        8.228840   \n",
       "1111     59.713518     39.794872    77.128548       10.219531   \n",
       "\n",
       "      team1_oppfg2pct  team1_oppfg3pct  team1_oppftpct  team1_oppblockpct  \\\n",
       "0           42.661600        33.639900       69.647100          10.514400   \n",
       "1           45.208500        31.784100       68.242200           7.163700   \n",
       "2           47.857600        34.782600       70.125800           8.493400   \n",
       "3           46.291600        30.270300       68.869300           7.469200   \n",
       "4           42.886600        35.583900       66.401300          10.015500   \n",
       "...               ...              ...             ...                ...   \n",
       "1107        46.345811        32.554517       70.044053           9.185606   \n",
       "1108        47.021944        34.239130       71.454545           9.945750   \n",
       "1109        49.280848        32.782369       75.334608           8.146822   \n",
       "1110        47.021944        34.239130       71.454545           9.945750   \n",
       "1111        49.280848        32.782369       75.334608           8.146822   \n",
       "\n",
       "      team1_f3grate  team1_oppf3grate  team1_arate  team1_opparate  \\\n",
       "0         35.322900         36.657000    54.513500       57.894700   \n",
       "1         33.945000         32.792500    50.549500       46.988000   \n",
       "2         33.627500         31.973100    56.470600       54.825500   \n",
       "3         37.573600         26.191600    57.182100       49.551600   \n",
       "4         33.021300         27.359000    58.494900       48.229500   \n",
       "...             ...               ...          ...             ...   \n",
       "1107      35.727328         36.394558    59.375000       51.028807   \n",
       "1108      43.165468         30.196937    54.746137       45.120406   \n",
       "1109      46.606119         35.466536    53.744076       53.543307   \n",
       "1110      43.165468         30.196937    54.746137       45.120406   \n",
       "1111      46.606119         35.466536    53.744076       53.543307   \n",
       "\n",
       "      team1_stlrate  team1_oppstlrate  team2_fg2pct  team2_fg3pct  \\\n",
       "0          0.077800          0.102000     48.913800     37.555600   \n",
       "1          0.105300          0.088100     45.035500     33.911400   \n",
       "2          0.083500          0.083900     47.041400     40.824700   \n",
       "3          0.129700          0.091900     47.642000     30.560300   \n",
       "4          0.104500          0.107500     50.306000     40.471900   \n",
       "...             ...               ...           ...           ...   \n",
       "1107       0.101055          0.097734     54.632867     34.384384   \n",
       "1108       0.093354          0.061791     54.560531     35.127479   \n",
       "1109       0.094075          0.064236     56.536220     40.256709   \n",
       "1110       0.093354          0.061791     56.534091     40.034072   \n",
       "1111       0.094075          0.064236     54.339964     36.309524   \n",
       "\n",
       "      team2_ftpct  team2_blockpct  team2_oppfg2pct  team2_oppfg3pct  \\\n",
       "0       64.210500        9.434000        47.698100        34.107100   \n",
       "1       66.778500        8.187100        48.538000        34.392500   \n",
       "2       75.811700        8.718500        43.172300        32.096800   \n",
       "3       65.591400       11.630100        45.662500        30.410400   \n",
       "4       67.944300        7.396100        49.138800        31.830200   \n",
       "...           ...             ...              ...              ...   \n",
       "1107    74.299835        9.243697        49.299720        33.238636   \n",
       "1108    68.451520       13.333333        45.500000        36.376210   \n",
       "1109    70.000000       10.973725        48.145286        32.670807   \n",
       "1110    72.477064        6.773619        46.345811        32.554517   \n",
       "1111    65.704584        8.228840        47.021944        34.239130   \n",
       "\n",
       "      team2_oppftpct  team2_oppblockpct  team2_f3grate  team2_oppf3grate  \\\n",
       "0          70.650500           6.447100      23.974400         29.708200   \n",
       "1          68.817200           9.929100      26.905100         30.889100   \n",
       "2          69.367900           6.706100      32.354900         39.440200   \n",
       "3          68.837200           9.817100      36.179400         33.817000   \n",
       "4          70.640600           7.343900      40.277800         27.639300   \n",
       "...              ...                ...            ...               ...   \n",
       "1107       74.153846           7.080420      36.795580         39.661972   \n",
       "1108       72.542373           7.628524      36.924686         37.597504   \n",
       "1109       71.976967          10.074938      41.642371         38.351596   \n",
       "1110       70.044053           9.185606      35.727328         36.394558   \n",
       "1111       71.454545           9.945750      43.165468         30.196937   \n",
       "\n",
       "      team2_arate  team2_opparate  team2_stlrate  team2_oppstlrate  \\\n",
       "0       54.325300       56.865100       0.108000          0.104900   \n",
       "1       56.596800       56.339900       0.128200          0.107600   \n",
       "2       65.777800       58.524600       0.086800          0.077800   \n",
       "3       49.037000       51.869200       0.110800          0.098700   \n",
       "4       63.722400       51.570200       0.092200          0.092700   \n",
       "...           ...             ...            ...               ...   \n",
       "1107    55.386417       54.855643       0.116525          0.083426   \n",
       "1108    52.207506       49.196539       0.091039          0.079659   \n",
       "1109    56.445312       48.645598       0.094340          0.080084   \n",
       "1110    59.375000       51.028807       0.101055          0.097734   \n",
       "1111    54.746137       45.120406       0.093354          0.061791   \n",
       "\n",
       "      team1_tempo  team1_adjtempo  team1_oe  team1_adjoe  team1_de  \\\n",
       "0         68.8425         67.7359   98.6930      98.6102   96.3688   \n",
       "1         69.8636         69.9001  108.4361     111.4954   95.2313   \n",
       "2         74.1462         72.8207  111.0077     117.3877  104.0411   \n",
       "3         77.0734         75.1685  116.3726     118.5999   90.2544   \n",
       "4         65.7442         66.5739  105.3974     109.6136   94.4987   \n",
       "...           ...             ...       ...          ...       ...   \n",
       "1107      65.9000         65.3000  111.3000     108.7000   96.2000   \n",
       "1108      65.4000         64.4000  115.9000     111.2000   92.7000   \n",
       "1109      70.2000         68.3000  127.4000     122.8000   96.0000   \n",
       "1110      65.4000         64.4000  115.9000     111.2000   92.7000   \n",
       "1111      70.2000         68.3000  127.4000     122.8000   96.0000   \n",
       "\n",
       "      team1_adjde  team2_tempo  team2_adjtempo  team2_oe  team2_adjoe  \\\n",
       "0         99.6885      76.0664         73.8504  103.4213      99.8665   \n",
       "1         93.8770      71.2357         71.2446  100.2897      96.8669   \n",
       "2         96.9262      63.2345         64.7948  105.2163     105.4534   \n",
       "3         87.7504      68.2128         67.4639  100.2384      95.3632   \n",
       "4         89.9224      62.6181         63.3547  107.7123     108.6231   \n",
       "...           ...          ...             ...       ...          ...   \n",
       "1107      93.9000      66.6000         65.5000  112.2000     108.3000   \n",
       "1108      96.5000      72.6000         71.6000  115.8000     110.8000   \n",
       "1109      99.9000      70.1000         68.4000  120.9000     116.0000   \n",
       "1110      96.5000      65.9000         65.3000  111.3000     108.7000   \n",
       "1111      99.9000      65.4000         64.4000  115.9000     111.2000   \n",
       "\n",
       "      team2_de  team2_adjde         game_id  \n",
       "0      99.6370     106.4500  2002-1373-1108  \n",
       "1      98.4183      99.9263  2002-1104-1194  \n",
       "2      96.0965      97.6704  2002-1112-1364  \n",
       "3      94.6587      99.9754  2002-1181-1457  \n",
       "4      97.4318      95.6459  2002-1231-1428  \n",
       "...        ...          ...             ...  \n",
       "1107   97.4000     101.6000  2018-1260-1243  \n",
       "1108  100.0000     101.4000  2018-1276-1199  \n",
       "1109   97.7000     101.4000  2018-1437-1242  \n",
       "1110   96.2000      93.9000  2018-1276-1260  \n",
       "1111   92.7000      96.5000  2018-1437-1276  \n",
       "\n",
       "[1112 rows x 104 columns]"
      ]
     },
     "execution_count": 9,
     "metadata": {},
     "output_type": "execute_result"
    }
   ],
   "source": [
    "mm_data_2"
   ]
  },
  {
   "cell_type": "code",
   "execution_count": 13,
   "metadata": {},
   "outputs": [
    {
     "data": {
      "application/javascript": [
       "\n",
       "        if (window._pyforest_update_imports_cell) { window._pyforest_update_imports_cell('import pandas as pd\\nimport os'); }\n",
       "    "
      ],
      "text/plain": [
       "<IPython.core.display.Javascript object>"
      ]
     },
     "metadata": {},
     "output_type": "display_data"
    }
   ],
   "source": [
    "mm_data_b = pd.read_csv(\"brief.csv\").reset_index(drop=True)\n"
   ]
  },
  {
   "cell_type": "code",
   "execution_count": 14,
   "metadata": {},
   "outputs": [
    {
     "data": {
      "text/html": [
       "<div>\n",
       "<style scoped>\n",
       "    .dataframe tbody tr th:only-of-type {\n",
       "        vertical-align: middle;\n",
       "    }\n",
       "\n",
       "    .dataframe tbody tr th {\n",
       "        vertical-align: top;\n",
       "    }\n",
       "\n",
       "    .dataframe thead th {\n",
       "        text-align: right;\n",
       "    }\n",
       "</style>\n",
       "<table border=\"1\" class=\"dataframe\">\n",
       "  <thead>\n",
       "    <tr style=\"text-align: right;\">\n",
       "      <th></th>\n",
       "      <th>Rk</th>\n",
       "      <th>Team</th>\n",
       "      <th>Conf</th>\n",
       "      <th>W-L</th>\n",
       "      <th>AdjEM</th>\n",
       "      <th>AdjO</th>\n",
       "      <th>AdjD</th>\n",
       "      <th>AdjT</th>\n",
       "      <th>Luck</th>\n",
       "      <th>AdjEM.1</th>\n",
       "      <th>OppO</th>\n",
       "      <th>OppD</th>\n",
       "      <th>AdjEM.2</th>\n",
       "    </tr>\n",
       "  </thead>\n",
       "  <tbody>\n",
       "    <tr>\n",
       "      <th>0</th>\n",
       "      <td>1</td>\n",
       "      <td>Gonzaga</td>\n",
       "      <td>WCC</td>\n",
       "      <td>21-2</td>\n",
       "      <td>34.58</td>\n",
       "      <td>122.7</td>\n",
       "      <td>2</td>\n",
       "      <td>88.1</td>\n",
       "      <td>7</td>\n",
       "      <td>73.6</td>\n",
       "      <td>2</td>\n",
       "      <td>-0.049</td>\n",
       "      <td>284</td>\n",
       "    </tr>\n",
       "    <tr>\n",
       "      <th>1</th>\n",
       "      <td>2</td>\n",
       "      <td>Arizona</td>\n",
       "      <td>P12</td>\n",
       "      <td>22-2</td>\n",
       "      <td>29.70</td>\n",
       "      <td>117.5</td>\n",
       "      <td>9</td>\n",
       "      <td>87.9</td>\n",
       "      <td>6</td>\n",
       "      <td>72.9</td>\n",
       "      <td>8</td>\n",
       "      <td>0.023</td>\n",
       "      <td>135</td>\n",
       "    </tr>\n",
       "    <tr>\n",
       "      <th>2</th>\n",
       "      <td>3</td>\n",
       "      <td>Kentucky</td>\n",
       "      <td>SEC</td>\n",
       "      <td>21-5</td>\n",
       "      <td>28.40</td>\n",
       "      <td>118.9</td>\n",
       "      <td>6</td>\n",
       "      <td>90.5</td>\n",
       "      <td>13</td>\n",
       "      <td>68.6</td>\n",
       "      <td>104</td>\n",
       "      <td>-0.039</td>\n",
       "      <td>263</td>\n",
       "    </tr>\n",
       "    <tr>\n",
       "      <th>3</th>\n",
       "      <td>4</td>\n",
       "      <td>Baylor</td>\n",
       "      <td>B12</td>\n",
       "      <td>21-4</td>\n",
       "      <td>27.85</td>\n",
       "      <td>117.9</td>\n",
       "      <td>7</td>\n",
       "      <td>90.1</td>\n",
       "      <td>12</td>\n",
       "      <td>67.8</td>\n",
       "      <td>151</td>\n",
       "      <td>0.011</td>\n",
       "      <td>160</td>\n",
       "    </tr>\n",
       "    <tr>\n",
       "      <th>4</th>\n",
       "      <td>5</td>\n",
       "      <td>Auburn</td>\n",
       "      <td>SEC</td>\n",
       "      <td>23-2</td>\n",
       "      <td>26.09</td>\n",
       "      <td>115.2</td>\n",
       "      <td>16</td>\n",
       "      <td>89.2</td>\n",
       "      <td>9</td>\n",
       "      <td>69.9</td>\n",
       "      <td>64</td>\n",
       "      <td>-0.001</td>\n",
       "      <td>188</td>\n",
       "    </tr>\n",
       "    <tr>\n",
       "      <th>5</th>\n",
       "      <td>6</td>\n",
       "      <td>Kansas</td>\n",
       "      <td>B12</td>\n",
       "      <td>21-4</td>\n",
       "      <td>25.63</td>\n",
       "      <td>120.0</td>\n",
       "      <td>3</td>\n",
       "      <td>94.4</td>\n",
       "      <td>35</td>\n",
       "      <td>69.3</td>\n",
       "      <td>78</td>\n",
       "      <td>0.036</td>\n",
       "      <td>112</td>\n",
       "    </tr>\n",
       "    <tr>\n",
       "      <th>6</th>\n",
       "      <td>7</td>\n",
       "      <td>Houston</td>\n",
       "      <td>Amer</td>\n",
       "      <td>20-4</td>\n",
       "      <td>25.62</td>\n",
       "      <td>116.4</td>\n",
       "      <td>12</td>\n",
       "      <td>90.8</td>\n",
       "      <td>15</td>\n",
       "      <td>64.9</td>\n",
       "      <td>306</td>\n",
       "      <td>-0.026</td>\n",
       "      <td>238</td>\n",
       "    </tr>\n",
       "  </tbody>\n",
       "</table>\n",
       "</div>"
      ],
      "text/plain": [
       "   Rk      Team  Conf   W-L  AdjEM   AdjO  AdjD  AdjT  Luck  AdjEM.1  OppO  \\\n",
       "0   1   Gonzaga   WCC  21-2  34.58  122.7     2  88.1     7     73.6     2   \n",
       "1   2   Arizona   P12  22-2  29.70  117.5     9  87.9     6     72.9     8   \n",
       "2   3  Kentucky   SEC  21-5  28.40  118.9     6  90.5    13     68.6   104   \n",
       "3   4    Baylor   B12  21-4  27.85  117.9     7  90.1    12     67.8   151   \n",
       "4   5    Auburn   SEC  23-2  26.09  115.2    16  89.2     9     69.9    64   \n",
       "5   6    Kansas   B12  21-4  25.63  120.0     3  94.4    35     69.3    78   \n",
       "6   7   Houston  Amer  20-4  25.62  116.4    12  90.8    15     64.9   306   \n",
       "\n",
       "    OppD  AdjEM.2  \n",
       "0 -0.049      284  \n",
       "1  0.023      135  \n",
       "2 -0.039      263  \n",
       "3  0.011      160  \n",
       "4 -0.001      188  \n",
       "5  0.036      112  \n",
       "6 -0.026      238  "
      ]
     },
     "execution_count": 14,
     "metadata": {},
     "output_type": "execute_result"
    }
   ],
   "source": [
    "mm_data_b"
   ]
  },
  {
   "cell_type": "code",
   "execution_count": 15,
   "metadata": {},
   "outputs": [],
   "source": [
    "mm_data_3 = mm_data_2"
   ]
  },
  {
   "cell_type": "code",
   "execution_count": 17,
   "metadata": {},
   "outputs": [],
   "source": [
    "mm_data_3['diff_fg2pct'] = mm_data_3['team1_fg2pct'] - mm_data_3['team2_fg2pct']"
   ]
  },
  {
   "cell_type": "code",
   "execution_count": 260,
   "metadata": {},
   "outputs": [],
   "source": [
    "#mm_data_3[['season', 'team1_teamname', 'team1_score', 'team2_score', 'diff_fg2pct']].sort_values('diff_fg2pct', ascending = False).tail(50)"
   ]
  },
  {
   "cell_type": "code",
   "execution_count": 19,
   "metadata": {},
   "outputs": [
    {
     "data": {
      "text/plain": [
       "483"
      ]
     },
     "execution_count": 19,
     "metadata": {},
     "output_type": "execute_result"
    }
   ],
   "source": [
    "count_team1_worse_fg = mm_data_3['diff_fg2pct'].lt(0).sum()\n",
    "count_team1_worse_fg"
   ]
  },
  {
   "cell_type": "code",
   "execution_count": 20,
   "metadata": {},
   "outputs": [
    {
     "data": {
      "text/plain": [
       "629"
      ]
     },
     "execution_count": 20,
     "metadata": {},
     "output_type": "execute_result"
    }
   ],
   "source": [
    "count_team1_better_fg = (mm_data_3['diff_fg2pct'] > 0).sum().sum()\n",
    "count_team1_better_fg"
   ]
  },
  {
   "cell_type": "code",
   "execution_count": 21,
   "metadata": {},
   "outputs": [],
   "source": [
    "mm_data_3['diff_blockpct'] = mm_data_3['team1_blockpct'] - mm_data_3['team2_blockpct']"
   ]
  },
  {
   "cell_type": "code",
   "execution_count": 259,
   "metadata": {},
   "outputs": [],
   "source": [
    "#mm_data_3[['season', 'team1_teamname', 'team1_score', 'team2_score', 'diff_fg2pct', 'diff_blockpct']].sort_values('diff_blockpct', ascending = False).tail(50)\n"
   ]
  },
  {
   "cell_type": "code",
   "execution_count": 23,
   "metadata": {},
   "outputs": [
    {
     "data": {
      "text/plain": [
       "461"
      ]
     },
     "execution_count": 23,
     "metadata": {},
     "output_type": "execute_result"
    }
   ],
   "source": [
    "count_team1_worse_blockpct = mm_data_3['diff_blockpct'].lt(0).sum()\n",
    "count_team1_worse_blockpct"
   ]
  },
  {
   "cell_type": "code",
   "execution_count": 24,
   "metadata": {},
   "outputs": [
    {
     "data": {
      "text/plain": [
       "651"
      ]
     },
     "execution_count": 24,
     "metadata": {},
     "output_type": "execute_result"
    }
   ],
   "source": [
    "count_team1_better_blockpct = (mm_data_3['diff_blockpct'] > 0).sum().sum()\n",
    "count_team1_better_blockpct"
   ]
  },
  {
   "cell_type": "code",
   "execution_count": 26,
   "metadata": {},
   "outputs": [],
   "source": [
    "mm_data_3['diff_stlrate'] = mm_data_3['team1_stlrate'] - mm_data_3['team2_stlrate']"
   ]
  },
  {
   "cell_type": "code",
   "execution_count": 258,
   "metadata": {},
   "outputs": [],
   "source": [
    "#mm_data_3[['season', 'team1_teamname', 'team1_score', 'team2_score', 'diff_fg2pct', 'diff_blockpct', 'diff_stlrate']].sort_values('diff_stlrate', ascending = False).tail(50)\n"
   ]
  },
  {
   "cell_type": "code",
   "execution_count": 28,
   "metadata": {},
   "outputs": [
    {
     "data": {
      "text/plain": [
       "502"
      ]
     },
     "execution_count": 28,
     "metadata": {},
     "output_type": "execute_result"
    }
   ],
   "source": [
    "count_team1_worse_stlrate = mm_data_3['diff_stlrate'].lt(0).sum()\n",
    "count_team1_worse_stlrate"
   ]
  },
  {
   "cell_type": "code",
   "execution_count": 30,
   "metadata": {},
   "outputs": [
    {
     "data": {
      "text/plain": [
       "607"
      ]
     },
     "execution_count": 30,
     "metadata": {},
     "output_type": "execute_result"
    }
   ],
   "source": [
    "count_team1_better_stlrate = (mm_data_3['diff_stlrate'] > 0).sum().sum()\n",
    "count_team1_better_stlrate"
   ]
  },
  {
   "cell_type": "code",
   "execution_count": 31,
   "metadata": {},
   "outputs": [],
   "source": [
    "mm_data_3['diff_team2AstVsteam1givenAst'] = mm_data_3['team2_arate'] - mm_data_3['team1_opparate']\n",
    "\n"
   ]
  },
  {
   "cell_type": "code",
   "execution_count": 257,
   "metadata": {},
   "outputs": [],
   "source": [
    "#mm_data_3[['season', 'team1_teamname', 'team1_score', 'team2_score', 'diff_fg2pct', 'diff_blockpct', 'diff_team2AstVsteam1givenAst']].sort_values('diff_team2AstVsteam1givenAst', ascending = False).tail(50)\n",
    "\n",
    "\n"
   ]
  },
  {
   "cell_type": "code",
   "execution_count": 33,
   "metadata": {},
   "outputs": [
    {
     "data": {
      "text/plain": [
       "278"
      ]
     },
     "execution_count": 33,
     "metadata": {},
     "output_type": "execute_result"
    }
   ],
   "source": [
    "count_team1_worse_aratediff = mm_data_3['diff_team2AstVsteam1givenAst'].lt(0).sum()\n",
    "count_team1_worse_aratediff"
   ]
  },
  {
   "cell_type": "code",
   "execution_count": 35,
   "metadata": {},
   "outputs": [
    {
     "data": {
      "text/plain": [
       "834"
      ]
     },
     "execution_count": 35,
     "metadata": {},
     "output_type": "execute_result"
    }
   ],
   "source": [
    "count_team1_better_aratediff = (mm_data_3['diff_team2AstVsteam1givenAst'] > 0).sum().sum()\n",
    "count_team1_better_aratediff"
   ]
  },
  {
   "cell_type": "code",
   "execution_count": 256,
   "metadata": {},
   "outputs": [],
   "source": [
    "mm_data_3['diff_oppfg2pct'] = mm_data_3['team2_oppfg2pct'] - mm_data_3['team1_oppfg2pct']\n",
    "\n",
    "#mm_data_3[['season', 'team1_teamname', 'team1_score', 'team2_score', 'diff_fg2pct', 'diff_blockpct', 'diff_oppfg2pct']].sort_values('diff_oppfg2pct', ascending = False).tail(50)\n",
    "\n"
   ]
  },
  {
   "cell_type": "code",
   "execution_count": 37,
   "metadata": {},
   "outputs": [
    {
     "data": {
      "text/plain": [
       "463"
      ]
     },
     "execution_count": 37,
     "metadata": {},
     "output_type": "execute_result"
    }
   ],
   "source": [
    "count_team1_worse_diff_oppfg2pct = mm_data_3['diff_oppfg2pct'].lt(0).sum()\n",
    "count_team1_worse_diff_oppfg2pct"
   ]
  },
  {
   "cell_type": "code",
   "execution_count": 38,
   "metadata": {},
   "outputs": [
    {
     "data": {
      "text/plain": [
       "649"
      ]
     },
     "execution_count": 38,
     "metadata": {},
     "output_type": "execute_result"
    }
   ],
   "source": [
    "count_team1_better_diff_oppfg2pct = (mm_data_3['diff_oppfg2pct'] > 0).sum().sum()\n",
    "count_team1_better_diff_oppfg2pct"
   ]
  },
  {
   "cell_type": "code",
   "execution_count": 254,
   "metadata": {},
   "outputs": [],
   "source": [
    "mm_data_3['diff_oppfg3pct'] = mm_data_3['team2_oppfg3pct'] - mm_data_3['team1_oppfg3pct']\n",
    "\n",
    "#mm_data_3[['season', 'team1_teamname', 'team1_score', 'team2_score', 'diff_fg2pct', 'diff_blockpct', 'diff_oppfg2pct', 'diff_oppfg3pct']].sort_values('diff_oppfg3pct', ascending = False).tail(50)\n"
   ]
  },
  {
   "cell_type": "code",
   "execution_count": 255,
   "metadata": {},
   "outputs": [
    {
     "data": {
      "text/plain": [
       "493"
      ]
     },
     "execution_count": 255,
     "metadata": {},
     "output_type": "execute_result"
    }
   ],
   "source": [
    "count_team1_worse_diff_oppfg3pct = mm_data_3['diff_oppfg3pct'].lt(0).sum()\n",
    "count_team1_worse_diff_oppfg3pct"
   ]
  },
  {
   "cell_type": "code",
   "execution_count": 41,
   "metadata": {},
   "outputs": [
    {
     "data": {
      "text/plain": [
       "619"
      ]
     },
     "execution_count": 41,
     "metadata": {},
     "output_type": "execute_result"
    }
   ],
   "source": [
    "count_team1_better_diff_oppfg3pct = (mm_data_3['diff_oppfg3pct'] > 0).sum().sum()\n",
    "count_team1_better_diff_oppfg3pct"
   ]
  },
  {
   "cell_type": "code",
   "execution_count": 43,
   "metadata": {},
   "outputs": [],
   "source": [
    "mm_data_3['exp_win1'] = (mm_data_3['team1_adjoe']**11.5)/ ((mm_data_3['team1_adjde']**11.5)+(mm_data_3['team1_adjoe']**11.5))\n",
    "mm_data_3['exp_win2'] = (mm_data_3['team2_adjoe']**11.5)/ ((mm_data_3['team2_adjde']**11.5)+(mm_data_3['team2_adjoe']**11.5))\n"
   ]
  },
  {
   "cell_type": "code",
   "execution_count": 44,
   "metadata": {},
   "outputs": [],
   "source": [
    "mm_data_3['team1_log5'] = (mm_data_3['exp_win1'] - (mm_data_3['exp_win1']*mm_data_3['exp_win2']))/ (mm_data_3['exp_win1']+mm_data_3['exp_win2']-(2*mm_data_3['exp_win1']*mm_data_3['exp_win2']))\n"
   ]
  },
  {
   "cell_type": "code",
   "execution_count": 45,
   "metadata": {},
   "outputs": [],
   "source": [
    "mm_data_3['seed_diff'] = mm_data_3['team1_seed'] - mm_data_3['team2_seed']\n"
   ]
  },
  {
   "cell_type": "code",
   "execution_count": 46,
   "metadata": {},
   "outputs": [],
   "source": [
    "mm_data_3.dropna(subset=['team1_log5'], inplace = True)"
   ]
  },
  {
   "cell_type": "code",
   "execution_count": 47,
   "metadata": {},
   "outputs": [],
   "source": [
    "mm_data_3['team1_win'] = (mm_data_3['team1_score']>mm_data_3['team2_score']).astype(int)\n"
   ]
  },
  {
   "cell_type": "code",
   "execution_count": 201,
   "metadata": {},
   "outputs": [],
   "source": [
    "mm_data_3['diff_ftrate'] = mm_data_3[\"team1_ftpct\"] - mm_data_3[\"team2_ftpct\"]"
   ]
  },
  {
   "cell_type": "code",
   "execution_count": 203,
   "metadata": {},
   "outputs": [
    {
     "data": {
      "text/plain": [
       "540"
      ]
     },
     "execution_count": 203,
     "metadata": {},
     "output_type": "execute_result"
    }
   ],
   "source": [
    "count_team1_worse_diff_ftrate = mm_data_3['diff_ftrate'].lt(0).sum()\n",
    "count_team1_worse_diff_ftrate"
   ]
  },
  {
   "cell_type": "code",
   "execution_count": 204,
   "metadata": {},
   "outputs": [
    {
     "data": {
      "text/plain": [
       "572"
      ]
     },
     "execution_count": 204,
     "metadata": {},
     "output_type": "execute_result"
    }
   ],
   "source": [
    "count_team1_better_diff_ftrate = (mm_data_3['diff_ftrate'] > 0).sum().sum()\n",
    "count_team1_better_diff_ftrate"
   ]
  },
  {
   "cell_type": "code",
   "execution_count": null,
   "metadata": {},
   "outputs": [],
   "source": []
  },
  {
   "cell_type": "code",
   "execution_count": 205,
   "metadata": {},
   "outputs": [],
   "source": [
    "training_columns = ['game_id','season','team1_win','exp_win1','exp_win2','team2_score',\n",
    "                                    'team1_score','team1_log5','team1_id','team2_id','seed_diff', 'diff_fg2pct', 'diff_blockpct', 'diff_stlrate', 'diff_oppfg2pct', 'diff_oppfg3pct', 'diff_ftrate']\n",
    "\n",
    "mm_data_4 = mm_data_3.sample(frac=.5, random_state=15)[training_columns]\n",
    "mm_data_5 = mm_data_3[~mm_data_3.index.isin(mm_data_4.index)][training_columns].reset_index(drop=True)\n",
    "mm_data_4 = mm_data_4.reset_index(drop=True)\n",
    "\n"
   ]
  },
  {
   "cell_type": "code",
   "execution_count": 206,
   "metadata": {},
   "outputs": [],
   "source": [
    "mm_data_5['team1_win'] = 0\n",
    "\n",
    "mm_data_5['team1_log5'] = 1-mm_data_5['team1_log5']\n",
    "mm_data_5['game_id'] = (mm_data_5['game_id'].str.split('-', expand=True)[0] \n",
    "                           + '-' + mm_data_5['game_id'].str.split('-', expand=True)[2] \n",
    "                           + '-' + mm_data_5['game_id'].str.split('-', expand=True)[1]\n",
    "                           ) \n",
    "mm_data_5['seed_diff'] = mm_data_5['seed_diff']*-1\n",
    "mm_data_5.columns = ['game_id', 'season', 'team1_win', 'exp_win2', 'exp_win1', 'team1_score', 'team2_score', 'team1_log5',\n",
    " 'team2_id', 'team1_id','seed_diff', 'diff_fg2pct', 'diff_blockpct', 'diff_stlrate', 'diff_oppfg2pct', 'diff_oppfg3pct', 'diff_ftrate']"
   ]
  },
  {
   "cell_type": "code",
   "execution_count": 207,
   "metadata": {},
   "outputs": [],
   "source": [
    "mm_train = pd.concat([mm_data_5, mm_data_4]).reset_index(drop=True)"
   ]
  },
  {
   "cell_type": "code",
   "execution_count": 208,
   "metadata": {},
   "outputs": [],
   "source": [
    "train, test = train_test_split(mm_train, train_size=.7)\n"
   ]
  },
  {
   "cell_type": "code",
   "execution_count": 209,
   "metadata": {},
   "outputs": [],
   "source": [
    "train = train.reset_index(drop=True)\n",
    "test = test.reset_index(drop=True)"
   ]
  },
  {
   "cell_type": "code",
   "execution_count": 210,
   "metadata": {},
   "outputs": [
    {
     "data": {
      "text/plain": [
       "team1_win\n",
       "0    0.372570\n",
       "1    0.615547\n",
       "Name: team1_log5, dtype: float64"
      ]
     },
     "execution_count": 210,
     "metadata": {},
     "output_type": "execute_result"
    }
   ],
   "source": [
    "train.groupby('team1_win')['team1_log5'].mean()\n"
   ]
  },
  {
   "cell_type": "code",
   "execution_count": 246,
   "metadata": {},
   "outputs": [
    {
     "data": {
      "text/plain": [
       "LogisticRegression(C=1.0, class_weight=None, dual=False, fit_intercept=True,\n",
       "                   intercept_scaling=1, l1_ratio=None, max_iter=100,\n",
       "                   multi_class='auto', n_jobs=None, penalty='l2',\n",
       "                   random_state=None, solver='lbfgs', tol=0.0001, verbose=0,\n",
       "                   warm_start=False)"
      ]
     },
     "execution_count": 246,
     "metadata": {},
     "output_type": "execute_result"
    }
   ],
   "source": [
    "logit = LogisticRegression()\n",
    "logit.fit(X=train[['team1_log5','seed_diff', 'diff_fg2pct', 'diff_blockpct', 'diff_oppfg2pct', 'diff_oppfg3pct', 'diff_ftrate']], y=train['team1_win'])\n"
   ]
  },
  {
   "cell_type": "code",
   "execution_count": 247,
   "metadata": {},
   "outputs": [
    {
     "name": "stdout",
     "output_type": "stream",
     "text": [
      "Optimization terminated successfully.\n",
      "         Current function value: 0.542126\n",
      "         Iterations 6\n"
     ]
    },
    {
     "data": {
      "text/html": [
       "<table class=\"simpletable\">\n",
       "<caption>Logit Regression Results</caption>\n",
       "<tr>\n",
       "  <th>Dep. Variable:</th>       <td>team1_win</td>    <th>  No. Observations:  </th>  <td>   778</td>  \n",
       "</tr>\n",
       "<tr>\n",
       "  <th>Model:</th>                 <td>Logit</td>      <th>  Df Residuals:      </th>  <td>   770</td>  \n",
       "</tr>\n",
       "<tr>\n",
       "  <th>Method:</th>                 <td>MLE</td>       <th>  Df Model:          </th>  <td>     7</td>  \n",
       "</tr>\n",
       "<tr>\n",
       "  <th>Date:</th>            <td>Thu, 17 Feb 2022</td> <th>  Pseudo R-squ.:     </th>  <td>0.2179</td>  \n",
       "</tr>\n",
       "<tr>\n",
       "  <th>Time:</th>                <td>19:13:09</td>     <th>  Log-Likelihood:    </th> <td> -421.77</td> \n",
       "</tr>\n",
       "<tr>\n",
       "  <th>converged:</th>             <td>True</td>       <th>  LL-Null:           </th> <td> -539.26</td> \n",
       "</tr>\n",
       "<tr>\n",
       "  <th>Covariance Type:</th>     <td>nonrobust</td>    <th>  LLR p-value:       </th> <td>4.365e-47</td>\n",
       "</tr>\n",
       "</table>\n",
       "<table class=\"simpletable\">\n",
       "<tr>\n",
       "         <td></td>           <th>coef</th>     <th>std err</th>      <th>z</th>      <th>P>|z|</th>  <th>[0.025</th>    <th>0.975]</th>  \n",
       "</tr>\n",
       "<tr>\n",
       "  <th>Intercept</th>      <td>   -2.1883</td> <td>    0.420</td> <td>   -5.209</td> <td> 0.000</td> <td>   -3.012</td> <td>   -1.365</td>\n",
       "</tr>\n",
       "<tr>\n",
       "  <th>team1_log5</th>     <td>    4.4709</td> <td>    0.819</td> <td>    5.458</td> <td> 0.000</td> <td>    2.865</td> <td>    6.076</td>\n",
       "</tr>\n",
       "<tr>\n",
       "  <th>seed_diff</th>      <td>   -0.0398</td> <td>    0.025</td> <td>   -1.587</td> <td> 0.113</td> <td>   -0.089</td> <td>    0.009</td>\n",
       "</tr>\n",
       "<tr>\n",
       "  <th>diff_fg2pct</th>    <td>   -0.0230</td> <td>    0.023</td> <td>   -1.002</td> <td> 0.316</td> <td>   -0.068</td> <td>    0.022</td>\n",
       "</tr>\n",
       "<tr>\n",
       "  <th>diff_blockpct</th>  <td>   -0.0030</td> <td>    0.025</td> <td>   -0.121</td> <td> 0.904</td> <td>   -0.051</td> <td>    0.045</td>\n",
       "</tr>\n",
       "<tr>\n",
       "  <th>diff_oppfg2pct</th> <td>    0.0192</td> <td>    0.030</td> <td>    0.641</td> <td> 0.521</td> <td>   -0.039</td> <td>    0.078</td>\n",
       "</tr>\n",
       "<tr>\n",
       "  <th>diff_oppfg3pct</th> <td>   -0.0159</td> <td>    0.028</td> <td>   -0.565</td> <td> 0.572</td> <td>   -0.071</td> <td>    0.039</td>\n",
       "</tr>\n",
       "<tr>\n",
       "  <th>diff_ftrate</th>    <td>   -0.0030</td> <td>    0.017</td> <td>   -0.177</td> <td> 0.859</td> <td>   -0.036</td> <td>    0.030</td>\n",
       "</tr>\n",
       "</table>"
      ],
      "text/plain": [
       "<class 'statsmodels.iolib.summary.Summary'>\n",
       "\"\"\"\n",
       "                           Logit Regression Results                           \n",
       "==============================================================================\n",
       "Dep. Variable:              team1_win   No. Observations:                  778\n",
       "Model:                          Logit   Df Residuals:                      770\n",
       "Method:                           MLE   Df Model:                            7\n",
       "Date:                Thu, 17 Feb 2022   Pseudo R-squ.:                  0.2179\n",
       "Time:                        19:13:09   Log-Likelihood:                -421.77\n",
       "converged:                       True   LL-Null:                       -539.26\n",
       "Covariance Type:            nonrobust   LLR p-value:                 4.365e-47\n",
       "==================================================================================\n",
       "                     coef    std err          z      P>|z|      [0.025      0.975]\n",
       "----------------------------------------------------------------------------------\n",
       "Intercept         -2.1883      0.420     -5.209      0.000      -3.012      -1.365\n",
       "team1_log5         4.4709      0.819      5.458      0.000       2.865       6.076\n",
       "seed_diff         -0.0398      0.025     -1.587      0.113      -0.089       0.009\n",
       "diff_fg2pct       -0.0230      0.023     -1.002      0.316      -0.068       0.022\n",
       "diff_blockpct     -0.0030      0.025     -0.121      0.904      -0.051       0.045\n",
       "diff_oppfg2pct     0.0192      0.030      0.641      0.521      -0.039       0.078\n",
       "diff_oppfg3pct    -0.0159      0.028     -0.565      0.572      -0.071       0.039\n",
       "diff_ftrate       -0.0030      0.017     -0.177      0.859      -0.036       0.030\n",
       "==================================================================================\n",
       "\"\"\""
      ]
     },
     "execution_count": 247,
     "metadata": {},
     "output_type": "execute_result"
    }
   ],
   "source": [
    "seed_smlogit = smf.logit(\"team1_win ~ team1_log5 + seed_diff + diff_fg2pct + diff_blockpct + diff_oppfg2pct + diff_oppfg3pct + diff_ftrate\", train).fit()\n",
    "seed_smlogit.summary()\n"
   ]
  },
  {
   "cell_type": "code",
   "execution_count": 249,
   "metadata": {},
   "outputs": [],
   "source": [
    "test['prob'] = logit.predict_proba(test[['team1_log5','seed_diff', 'diff_fg2pct', 'diff_blockpct', 'diff_oppfg2pct', 'diff_oppfg3pct', 'diff_ftrate']])[:,1]\n",
    "\n",
    "test['prediction'] = logit.predict(test[['team1_log5','seed_diff', 'diff_fg2pct', 'diff_blockpct', 'diff_oppfg2pct', 'diff_oppfg3pct', 'diff_ftrate']])"
   ]
  },
  {
   "cell_type": "code",
   "execution_count": 250,
   "metadata": {},
   "outputs": [
    {
     "data": {
      "text/html": [
       "<div>\n",
       "<style scoped>\n",
       "    .dataframe tbody tr th:only-of-type {\n",
       "        vertical-align: middle;\n",
       "    }\n",
       "\n",
       "    .dataframe tbody tr th {\n",
       "        vertical-align: top;\n",
       "    }\n",
       "\n",
       "    .dataframe thead th {\n",
       "        text-align: right;\n",
       "    }\n",
       "</style>\n",
       "<table border=\"1\" class=\"dataframe\">\n",
       "  <thead>\n",
       "    <tr style=\"text-align: right;\">\n",
       "      <th></th>\n",
       "      <th>game_id</th>\n",
       "      <th>team1_log5</th>\n",
       "      <th>seed_diff</th>\n",
       "      <th>diff_fg2pct</th>\n",
       "      <th>diff_blockpct</th>\n",
       "      <th>diff_oppfg2pct</th>\n",
       "      <th>diff_oppfg3pct</th>\n",
       "      <th>diff_ftrate</th>\n",
       "      <th>team1_win</th>\n",
       "      <th>prob</th>\n",
       "      <th>prediction</th>\n",
       "    </tr>\n",
       "  </thead>\n",
       "  <tbody>\n",
       "    <tr>\n",
       "      <th>0</th>\n",
       "      <td>2016-1138-1274</td>\n",
       "      <td>0.102340</td>\n",
       "      <td>11</td>\n",
       "      <td>4.182000</td>\n",
       "      <td>-0.041400</td>\n",
       "      <td>1.88220</td>\n",
       "      <td>0.78530</td>\n",
       "      <td>4.131000</td>\n",
       "      <td>0</td>\n",
       "      <td>0.113024</td>\n",
       "      <td>0</td>\n",
       "    </tr>\n",
       "    <tr>\n",
       "      <th>1</th>\n",
       "      <td>2016-1393-1314</td>\n",
       "      <td>0.219206</td>\n",
       "      <td>9</td>\n",
       "      <td>6.218200</td>\n",
       "      <td>-0.556300</td>\n",
       "      <td>5.02000</td>\n",
       "      <td>-5.54250</td>\n",
       "      <td>5.470000</td>\n",
       "      <td>0</td>\n",
       "      <td>0.188312</td>\n",
       "      <td>0</td>\n",
       "    </tr>\n",
       "    <tr>\n",
       "      <th>2</th>\n",
       "      <td>2012-1436-1314</td>\n",
       "      <td>0.095047</td>\n",
       "      <td>15</td>\n",
       "      <td>1.061900</td>\n",
       "      <td>7.482000</td>\n",
       "      <td>1.11110</td>\n",
       "      <td>-0.22760</td>\n",
       "      <td>-5.728300</td>\n",
       "      <td>0</td>\n",
       "      <td>0.088642</td>\n",
       "      <td>0</td>\n",
       "    </tr>\n",
       "    <tr>\n",
       "      <th>3</th>\n",
       "      <td>2018-1246-1172</td>\n",
       "      <td>0.379657</td>\n",
       "      <td>-7</td>\n",
       "      <td>-5.897461</td>\n",
       "      <td>7.761397</td>\n",
       "      <td>1.63728</td>\n",
       "      <td>5.31234</td>\n",
       "      <td>-10.039992</td>\n",
       "      <td>1</td>\n",
       "      <td>0.602572</td>\n",
       "      <td>1</td>\n",
       "    </tr>\n",
       "    <tr>\n",
       "      <th>4</th>\n",
       "      <td>2009-1211-1103</td>\n",
       "      <td>0.856225</td>\n",
       "      <td>-9</td>\n",
       "      <td>6.243900</td>\n",
       "      <td>6.523900</td>\n",
       "      <td>6.74610</td>\n",
       "      <td>-5.68870</td>\n",
       "      <td>0.062800</td>\n",
       "      <td>1</td>\n",
       "      <td>0.863520</td>\n",
       "      <td>1</td>\n",
       "    </tr>\n",
       "  </tbody>\n",
       "</table>\n",
       "</div>"
      ],
      "text/plain": [
       "          game_id  team1_log5  seed_diff  diff_fg2pct  diff_blockpct  \\\n",
       "0  2016-1138-1274    0.102340         11     4.182000      -0.041400   \n",
       "1  2016-1393-1314    0.219206          9     6.218200      -0.556300   \n",
       "2  2012-1436-1314    0.095047         15     1.061900       7.482000   \n",
       "3  2018-1246-1172    0.379657         -7    -5.897461       7.761397   \n",
       "4  2009-1211-1103    0.856225         -9     6.243900       6.523900   \n",
       "\n",
       "   diff_oppfg2pct  diff_oppfg3pct  diff_ftrate  team1_win      prob  \\\n",
       "0         1.88220         0.78530     4.131000          0  0.113024   \n",
       "1         5.02000        -5.54250     5.470000          0  0.188312   \n",
       "2         1.11110        -0.22760    -5.728300          0  0.088642   \n",
       "3         1.63728         5.31234   -10.039992          1  0.602572   \n",
       "4         6.74610        -5.68870     0.062800          1  0.863520   \n",
       "\n",
       "   prediction  \n",
       "0           0  \n",
       "1           0  \n",
       "2           0  \n",
       "3           1  \n",
       "4           1  "
      ]
     },
     "execution_count": 250,
     "metadata": {},
     "output_type": "execute_result"
    }
   ],
   "source": [
    "test[['game_id','team1_log5','seed_diff', 'diff_fg2pct', 'diff_blockpct', 'diff_oppfg2pct', 'diff_oppfg3pct','diff_ftrate','team1_win','prob','prediction']].head()\n"
   ]
  },
  {
   "cell_type": "code",
   "execution_count": 251,
   "metadata": {},
   "outputs": [
    {
     "data": {
      "text/plain": [
       "array([[118,  51],\n",
       "       [ 44, 121]])"
      ]
     },
     "execution_count": 251,
     "metadata": {},
     "output_type": "execute_result"
    }
   ],
   "source": [
    "confusion_matrix(test['team1_win'], test['prediction'])\n"
   ]
  },
  {
   "cell_type": "code",
   "execution_count": 252,
   "metadata": {},
   "outputs": [
    {
     "data": {
      "text/plain": [
       "0.7155688622754491"
      ]
     },
     "execution_count": 252,
     "metadata": {},
     "output_type": "execute_result"
    }
   ],
   "source": [
    "accuracy_score(test['team1_win'], test['prediction'],)\n"
   ]
  },
  {
   "cell_type": "code",
   "execution_count": 217,
   "metadata": {},
   "outputs": [
    {
     "data": {
      "text/plain": [
       "0.7034883720930233"
      ]
     },
     "execution_count": 217,
     "metadata": {},
     "output_type": "execute_result"
    }
   ],
   "source": [
    "precision_score(test['team1_win'], test['prediction'])\n"
   ]
  },
  {
   "cell_type": "code",
   "execution_count": 218,
   "metadata": {},
   "outputs": [
    {
     "data": {
      "text/plain": [
       "0.7333333333333333"
      ]
     },
     "execution_count": 218,
     "metadata": {},
     "output_type": "execute_result"
    }
   ],
   "source": [
    "recall_score(test['team1_win'], test['prediction'])\n"
   ]
  },
  {
   "cell_type": "code",
   "execution_count": 219,
   "metadata": {},
   "outputs": [
    {
     "data": {
      "text/plain": [
       "0.7181008902077151"
      ]
     },
     "execution_count": 219,
     "metadata": {},
     "output_type": "execute_result"
    }
   ],
   "source": [
    "f1_score(test['team1_win'], test['prediction'])\n"
   ]
  },
  {
   "cell_type": "code",
   "execution_count": 253,
   "metadata": {},
   "outputs": [
    {
     "data": {
      "text/plain": [
       "0.5469337096981247"
      ]
     },
     "execution_count": 253,
     "metadata": {},
     "output_type": "execute_result"
    }
   ],
   "source": [
    "log_loss(test['team1_win'].values, test['prob'].values, labels=[0,1])\n"
   ]
  },
  {
   "cell_type": "code",
   "execution_count": 221,
   "metadata": {},
   "outputs": [],
   "source": [
    "def plot_roc(fpr, tpr, roc_auc):\n",
    "    \"\"\"Plots the ROC curve for the win probability model along with\n",
    "    the AUC.\n",
    "    \"\"\"\n",
    "    fig, ax = plt.subplots()\n",
    "    ax.set(title='Receiver Operating Characteristic',\n",
    "           xlim=[0, 1], ylim=[0, 1], xlabel='False Positive Rate',\n",
    "           ylabel='True Positive Rate')\n",
    "    ax.plot(fpr, tpr, 'b', label='AUC = %0.2f' % roc_auc)\n",
    "    ax.plot([0, 1], [0, 1], 'k--')\n",
    "    ax.legend(loc='lower right')"
   ]
  },
  {
   "cell_type": "code",
   "execution_count": 222,
   "metadata": {},
   "outputs": [
    {
     "data": {
      "image/png": "[encoded data removed]",
      "text/plain": [
       "<Figure size 432x288 with 1 Axes>"
      ]
     },
     "metadata": {},
     "output_type": "display_data"
    }
   ],
   "source": [
    "fpr, tpr, thresholds = roc_curve(test['team1_win'].values, test['prob'].values)\n",
    "roc_auc = auc(fpr, tpr)\n",
    "plot_roc(fpr, tpr, roc_auc)"
   ]
  },
  {
   "cell_type": "code",
   "execution_count": 223,
   "metadata": {},
   "outputs": [
    {
     "data": {
      "text/plain": [
       "0.7969876277568585"
      ]
     },
     "execution_count": 223,
     "metadata": {},
     "output_type": "execute_result"
    }
   ],
   "source": [
    "roc_auc_score(test['team1_win'].values, test['prob'].values)\n"
   ]
  },
  {
   "cell_type": "code",
   "execution_count": 261,
   "metadata": {},
   "outputs": [
    {
     "data": {
      "text/plain": [
       "<matplotlib.axes._subplots.AxesSubplot at 0x7fd9eb8ed950>"
      ]
     },
     "execution_count": 261,
     "metadata": {},
     "output_type": "execute_result"
    },
    {
     "data": {
      "image/png": "[encoded data removed]",
      "text/plain": [
       "<Figure size 432x288 with 1 Axes>"
      ]
     },
     "metadata": {},
     "output_type": "display_data"
    }
   ],
   "source": [
    "test.plot(kind='scatter', x='prob',y='team1_log5')"
   ]
  },
  {
   "cell_type": "markdown",
   "metadata": {},
   "source": [
    "## Probit model"
   ]
  },
  {
   "cell_type": "code",
   "execution_count": 233,
   "metadata": {},
   "outputs": [],
   "source": [
    "from statsmodels.discrete.discrete_model import Probit\n"
   ]
  },
  {
   "cell_type": "code",
   "execution_count": 234,
   "metadata": {},
   "outputs": [
    {
     "name": "stdout",
     "output_type": "stream",
     "text": [
      "Optimization terminated successfully.\n",
      "         Current function value: 0.565708\n",
      "         Iterations 5\n",
      "                          Probit Regression Results                           \n",
      "==============================================================================\n",
      "Dep. Variable:              team1_win   No. Observations:                  778\n",
      "Model:                         Probit   Df Residuals:                      771\n",
      "Method:                           MLE   Df Model:                            6\n",
      "Date:                Thu, 17 Feb 2022   Pseudo R-squ.:                  0.1835\n",
      "Time:                        19:04:57   Log-Likelihood:                -440.12\n",
      "converged:                       True   LL-Null:                       -539.06\n",
      "Covariance Type:            nonrobust   LLR p-value:                 5.364e-40\n",
      "==================================================================================\n",
      "                     coef    std err          z      P>|z|      [0.025      0.975]\n",
      "----------------------------------------------------------------------------------\n",
      "team1_log5         0.0727      0.097      0.746      0.455      -0.118       0.263\n",
      "seed_diff         -0.0946      0.008    -11.893      0.000      -0.110      -0.079\n",
      "diff_fg2pct        0.0011      0.013      0.083      0.934      -0.024       0.027\n",
      "diff_blockpct      0.0023      0.014      0.165      0.869      -0.025       0.030\n",
      "diff_oppfg2pct     0.0021      0.016      0.131      0.896      -0.030       0.034\n",
      "diff_oppfg3pct    -0.0274      0.017     -1.642      0.101      -0.060       0.005\n",
      "diff_ftrate       -0.0056      0.010     -0.561      0.575      -0.025       0.014\n",
      "==================================================================================\n"
     ]
    }
   ],
   "source": [
    "model = Probit(y2, x2.astype(float))\n",
    "probit_model = model.fit()\n",
    "print(probit_model.summary())"
   ]
  },
  {
   "cell_type": "code",
   "execution_count": null,
   "metadata": {},
   "outputs": [],
   "source": []
  },
  {
   "cell_type": "code",
   "execution_count": null,
   "metadata": {},
   "outputs": [],
   "source": []
  },
  {
   "cell_type": "markdown",
   "metadata": {},
   "source": [
    "## Random Forest"
   ]
  },
  {
   "cell_type": "code",
   "execution_count": 224,
   "metadata": {},
   "outputs": [],
   "source": [
    "mm_train2 = pd.concat([mm_data_5, mm_data_4]).reset_index(drop=True)"
   ]
  },
  {
   "cell_type": "code",
   "execution_count": 225,
   "metadata": {},
   "outputs": [],
   "source": [
    "train2, test2 = train_test_split(mm_train2, train_size= .7)\n"
   ]
  },
  {
   "cell_type": "code",
   "execution_count": 226,
   "metadata": {},
   "outputs": [],
   "source": [
    "train2 = train2.reset_index(drop=True)\n",
    "test2 = test2.reset_index(drop=True)"
   ]
  },
  {
   "cell_type": "code",
   "execution_count": 227,
   "metadata": {},
   "outputs": [
    {
     "data": {
      "text/plain": [
       "team1_win\n",
       "0    0.384714\n",
       "1    0.609557\n",
       "Name: team1_log5, dtype: float64"
      ]
     },
     "execution_count": 227,
     "metadata": {},
     "output_type": "execute_result"
    }
   ],
   "source": [
    "train2.groupby('team1_win')['team1_log5'].mean()"
   ]
  },
  {
   "cell_type": "code",
   "execution_count": 228,
   "metadata": {},
   "outputs": [],
   "source": [
    "\n",
    "x2=train2[['team1_log5', 'seed_diff', 'diff_fg2pct', 'diff_blockpct', 'diff_oppfg2pct', 'diff_oppfg3pct', 'diff_ftrate']]\n",
    "y2 = train2['team1_win']"
   ]
  },
  {
   "cell_type": "code",
   "execution_count": 229,
   "metadata": {},
   "outputs": [
    {
     "name": "stdout",
     "output_type": "stream",
     "text": [
      "1. game_id (0.237828)\n",
      "2. season (0.164439)\n",
      "3. exp_win1 (0.146983)\n",
      "4. team1_win (0.129575)\n",
      "5. team1_score (0.114753)\n",
      "6. exp_win2 (0.107497)\n",
      "7. team2_score (0.098925)\n"
     ]
    },
    {
     "data": {
      "image/png": "[encoded data removed]",
      "text/plain": [
       "<Figure size 432x288 with 1 Axes>"
      ]
     },
     "metadata": {},
     "output_type": "display_data"
    }
   ],
   "source": [
    "forest2 = RandomForestClassifier(n_estimators = 100)\n",
    "\n",
    "\n",
    "\n",
    "\n",
    "\n",
    "forest2.fit(x2, y2)\n",
    "\n",
    "importances_allfeatures2 = forest2.feature_importances_\n",
    "#importances_allfeatures[:10]\n",
    "\n",
    "std2 = np.std([tree.feature_importances_ for tree in forest2.estimators_],\n",
    "             axis=0)\n",
    "indices2 = np.argsort(importances_allfeatures2)[::-1]\n",
    "for f in range(x2.shape[1]):\n",
    "    print(\"%d. %s (%f)\" % (f + 1, train2.columns[indices2[f]], importances_allfeatures2[indices2[f]]))\n",
    "\n",
    "# Plot the feature importances of the forest\n",
    "plt.figure()\n",
    "plt.title(\"All Feature importances by RandomForest\")\n",
    "plt.bar(range(x2.shape[1]), importances_allfeatures2[indices2],\n",
    "       color=\"r\", yerr=std2[indices2], align=\"center\")\n",
    "plt.xticks(range(x2.shape[1]), indices2)\n",
    "plt.xlim([-1, x2.shape[1]])\n",
    "plt.show()\n",
    "\n",
    "accuracy_RF2 = cross_val_score(forest2,x2,y2,scoring = 'accuracy')\n",
    "log_loss_RF2 = cross_val_score(forest2,x2,y2,scoring = 'neg_log_loss')\n"
   ]
  },
  {
   "cell_type": "code",
   "execution_count": 230,
   "metadata": {},
   "outputs": [
    {
     "name": "stdout",
     "output_type": "stream",
     "text": [
      "Accuracy:  (0.7197435897435897, 0.059250876935605976)\n",
      "Log Loss:  (-0.5131840610286945, 0.05332349302882744)\n"
     ]
    }
   ],
   "source": [
    "print(\"Accuracy: \", (accuracy_RF2.mean(), accuracy_RF2.std() * 2))\n",
    "print(\"Log Loss: \", (log_loss_RF2.mean(), log_loss_RF2.std() * 2))"
   ]
  },
  {
   "cell_type": "code",
   "execution_count": 191,
   "metadata": {},
   "outputs": [
    {
     "data": {
      "text/plain": [
       "RandomForestClassifier(bootstrap=True, ccp_alpha=0.0, class_weight=None,\n",
       "                       criterion='gini', max_depth=None, max_features='auto',\n",
       "                       max_leaf_nodes=None, max_samples=None,\n",
       "                       min_impurity_decrease=0.0, min_impurity_split=None,\n",
       "                       min_samples_leaf=1, min_samples_split=2,\n",
       "                       min_weight_fraction_leaf=0.0, n_estimators=100,\n",
       "                       n_jobs=None, oob_score=False, random_state=None,\n",
       "                       verbose=0, warm_start=False)"
      ]
     },
     "execution_count": 191,
     "metadata": {},
     "output_type": "execute_result"
    }
   ],
   "source": [
    "#test2['prob'] = forest2.predict_proba(test[['team1_log5','seed_diff', 'diff_fg2pct', 'diff_blockpct', 'diff_oppfg2pct', 'diff_oppfg3pct']])\n",
    "forest2\n",
    "#test2['prediction'] = forest2.predict(test[['team1_log5','seed_diff', 'diff_fg2pct', 'diff_blockpct', 'diff_oppfg2pct', 'diff_oppfg3pct']])"
   ]
  },
  {
   "cell_type": "markdown",
   "metadata": {},
   "source": [
    "## Random Forest\n"
   ]
  },
  {
   "cell_type": "code",
   "execution_count": 142,
   "metadata": {},
   "outputs": [],
   "source": [
    "from sklearn.feature_selection import VarianceThreshold\n",
    "from sklearn.feature_selection import SelectPercentile\n",
    "import numpy as np\n",
    "import matplotlib.pyplot as plt\n",
    "from sklearn.decomposition import PCA\n",
    "from sklearn import preprocessing\n",
    "from sklearn.ensemble import RandomForestClassifier"
   ]
  },
  {
   "cell_type": "code",
   "execution_count": 143,
   "metadata": {},
   "outputs": [],
   "source": [
    "from sklearn import preprocessing\n",
    "from sklearn.ensemble import RandomForestClassifier\n",
    "\n",
    "from sklearn.utils import shuffle\n",
    "from sklearn.metrics import log_loss, accuracy_score\n",
    "\n",
    "from sklearn.feature_selection import RFECV\n",
    "from sklearn import preprocessing\n",
    "from sklearn.decomposition import PCA, KernelPCA\n",
    "from sklearn.neighbors import KNeighborsClassifier\n",
    "from sklearn.naive_bayes import GaussianNB\n",
    "from sklearn.linear_model import LogisticRegression\n",
    "from sklearn.ensemble import (RandomTreesEmbedding, RandomForestClassifier,\n",
    "                              GradientBoostingClassifier)\n"
   ]
  },
  {
   "cell_type": "code",
   "execution_count": 122,
   "metadata": {},
   "outputs": [],
   "source": [
    "from sklearn.model_selection import cross_validate\n"
   ]
  },
  {
   "cell_type": "code",
   "execution_count": 116,
   "metadata": {},
   "outputs": [],
   "source": [
    "from sklearn.model_selection import cross_val_score"
   ]
  },
  {
   "cell_type": "code",
   "execution_count": 125,
   "metadata": {},
   "outputs": [
    {
     "ename": "ModuleNotFoundError",
     "evalue": "No module named 'sklearn.model_selection.cross_validate'",
     "output_type": "error",
     "traceback": [
      "\u001b[0;31m---------------------------------------------------------------------------\u001b[0m",
      "\u001b[0;31mModuleNotFoundError\u001b[0m                       Traceback (most recent call last)",
      "\u001b[0;32m<ipython-input-125-f2eccf04f669>\u001b[0m in \u001b[0;36m<module>\u001b[0;34m\u001b[0m\n\u001b[0;32m----> 1\u001b[0;31m \u001b[0;32mfrom\u001b[0m \u001b[0msklearn\u001b[0m\u001b[0;34m.\u001b[0m\u001b[0mmodel_selection\u001b[0m\u001b[0;34m.\u001b[0m\u001b[0mcross_validate\u001b[0m \u001b[0;32mimport\u001b[0m \u001b[0mShuffleSplit\u001b[0m\u001b[0;34m\u001b[0m\u001b[0;34m\u001b[0m\u001b[0m\n\u001b[0m\u001b[1;32m      2\u001b[0m \u001b[0;32mfrom\u001b[0m \u001b[0msklearn\u001b[0m\u001b[0;34m.\u001b[0m\u001b[0mmodel_selection\u001b[0m \u001b[0;32mimport\u001b[0m \u001b[0mtrain_test_split\u001b[0m\u001b[0;34m\u001b[0m\u001b[0;34m\u001b[0m\u001b[0m\n\u001b[1;32m      3\u001b[0m \u001b[0;32mfrom\u001b[0m \u001b[0msklearn\u001b[0m\u001b[0;34m.\u001b[0m\u001b[0mmodel_selection\u001b[0m \u001b[0;32mimport\u001b[0m \u001b[0mKFold\u001b[0m\u001b[0;34m\u001b[0m\u001b[0;34m\u001b[0m\u001b[0m\n\u001b[1;32m      4\u001b[0m \u001b[0;34m\u001b[0m\u001b[0m\n\u001b[1;32m      5\u001b[0m \u001b[0;32mfrom\u001b[0m \u001b[0msklearn\u001b[0m\u001b[0;34m.\u001b[0m\u001b[0mutils\u001b[0m \u001b[0;32mimport\u001b[0m \u001b[0mshuffle\u001b[0m\u001b[0;34m\u001b[0m\u001b[0;34m\u001b[0m\u001b[0m\n",
      "\u001b[0;31mModuleNotFoundError\u001b[0m: No module named 'sklearn.model_selection.cross_validate'"
     ]
    }
   ],
   "source": [
    "from sklearn.model_selection.cross_validate import ShuffleSplit\n",
    "from sklearn.model_selection import train_test_split\n",
    "from sklearn.model_selection import KFold\n",
    "\n",
    "from sklearn.utils import shuffle"
   ]
  },
  {
   "cell_type": "code",
   "execution_count": 153,
   "metadata": {},
   "outputs": [],
   "source": [
    "from sklearn.metrics import log_loss, accuracy_score\n"
   ]
  },
  {
   "cell_type": "code",
   "execution_count": 168,
   "metadata": {},
   "outputs": [],
   "source": [
    "from sklearn.svm import SVC\n",
    "from sklearn.model_selection import StratifiedKFold\n",
    "from sklearn.feature_selection import RFECV\n",
    "from sklearn import preprocessing"
   ]
  },
  {
   "cell_type": "code",
   "execution_count": 91,
   "metadata": {},
   "outputs": [],
   "source": [
    "mm_data4 = mm_data_3"
   ]
  },
  {
   "cell_type": "code",
   "execution_count": 93,
   "metadata": {},
   "outputs": [
    {
     "name": "stdout",
     "output_type": "stream",
     "text": [
      "CPU times: user 2 µs, sys: 1e+03 ns, total: 3 µs\n",
      "Wall time: 16 µs\n"
     ]
    }
   ],
   "source": [
    "%time"
   ]
  },
  {
   "cell_type": "code",
   "execution_count": null,
   "metadata": {},
   "outputs": [],
   "source": [
    "train[['seed_diff', 'diff_fg2pct', 'diff_blockpct', 'diff_oppfg2pct', 'diff_oppfg3pct']], y=train['team1_win'])\n"
   ]
  },
  {
   "cell_type": "code",
   "execution_count": 118,
   "metadata": {},
   "outputs": [],
   "source": [
    "X = train[['seed_diff', 'diff_fg2pct', 'diff_blockpct', 'diff_oppfg2pct', 'diff_oppfg3pct']]\n",
    "Y =train['team1_win']\n"
   ]
  },
  {
   "cell_type": "code",
   "execution_count": 154,
   "metadata": {},
   "outputs": [
    {
     "data": {
      "application/javascript": [
       "\n",
       "        if (window._pyforest_update_imports_cell) { window._pyforest_update_imports_cell('import pandas as pd\\nimport os\\nimport sklearn'); }\n",
       "    "
      ],
      "text/plain": [
       "<IPython.core.display.Javascript object>"
      ]
     },
     "metadata": {},
     "output_type": "display_data"
    },
    {
     "data": {
      "text/plain": [
       "dict_keys(['explained_variance', 'r2', 'max_error', 'neg_median_absolute_error', 'neg_mean_absolute_error', 'neg_mean_squared_error', 'neg_mean_squared_log_error', 'neg_root_mean_squared_error', 'neg_mean_poisson_deviance', 'neg_mean_gamma_deviance', 'accuracy', 'roc_auc', 'roc_auc_ovr', 'roc_auc_ovo', 'roc_auc_ovr_weighted', 'roc_auc_ovo_weighted', 'balanced_accuracy', 'average_precision', 'neg_log_loss', 'neg_brier_score', 'adjusted_rand_score', 'homogeneity_score', 'completeness_score', 'v_measure_score', 'mutual_info_score', 'adjusted_mutual_info_score', 'normalized_mutual_info_score', 'fowlkes_mallows_score', 'precision', 'precision_macro', 'precision_micro', 'precision_samples', 'precision_weighted', 'recall', 'recall_macro', 'recall_micro', 'recall_samples', 'recall_weighted', 'f1', 'f1_macro', 'f1_micro', 'f1_samples', 'f1_weighted', 'jaccard', 'jaccard_macro', 'jaccard_micro', 'jaccard_samples', 'jaccard_weighted'])"
      ]
     },
     "execution_count": 154,
     "metadata": {},
     "output_type": "execute_result"
    }
   ],
   "source": [
    "sklearn.metrics.SCORERS.keys()"
   ]
  },
  {
   "cell_type": "code",
   "execution_count": 157,
   "metadata": {},
   "outputs": [
    {
     "name": "stdout",
     "output_type": "stream",
     "text": [
      "CPU times: user 2 µs, sys: 0 ns, total: 2 µs\n",
      "Wall time: 4.29 µs\n",
      "1. game_id (0.313575)\n",
      "2. exp_win2 (0.189982)\n",
      "3. season (0.173038)\n",
      "4. exp_win1 (0.162551)\n",
      "5. team1_win (0.160854)\n"
     ]
    },
    {
     "data": {
      "image/png": "[encoded data removed]",
      "text/plain": [
       "<Figure size 432x288 with 1 Axes>"
      ]
     },
     "metadata": {},
     "output_type": "display_data"
    }
   ],
   "source": [
    "%time\n",
    "forest = RandomForestClassifier(n_estimators = 100)\n",
    "\n",
    "\n",
    "\n",
    "\n",
    "\n",
    "forest.fit(X=train[['seed_diff', 'diff_fg2pct', 'diff_blockpct', 'diff_oppfg2pct', 'diff_oppfg3pct']], y=train['team1_win'])\n",
    "\n",
    "importances_allfeatures = forest.feature_importances_\n",
    "#importances_allfeatures[:10]\n",
    "\n",
    "std = np.std([tree.feature_importances_ for tree in forest.estimators_],\n",
    "             axis=0)\n",
    "indices = np.argsort(importances_allfeatures)[::-1]\n",
    "for f in range(X.shape[1]):\n",
    "    print(\"%d. %s (%f)\" % (f + 1, train.columns[indices[f]], importances_allfeatures[indices[f]]))\n",
    "\n",
    "# Plot the feature importances of the forest\n",
    "plt.figure()\n",
    "plt.title(\"All Feature importances by RandomForest\")\n",
    "plt.bar(range(X.shape[1]), importances_allfeatures[indices],\n",
    "       color=\"r\", yerr=std[indices], align=\"center\")\n",
    "plt.xticks(range(X.shape[1]), indices)\n",
    "plt.xlim([-1, X.shape[1]])\n",
    "plt.show()\n",
    "\n",
    "accuracy_RF = cross_val_score(forest,X,Y,scoring = 'accuracy')\n",
    "log_loss_RF = cross_val_score(forest,X,Y,scoring = 'neg_log_loss')\n"
   ]
  },
  {
   "cell_type": "code",
   "execution_count": 158,
   "metadata": {
    "scrolled": true
   },
   "outputs": [
    {
     "name": "stdout",
     "output_type": "stream",
     "text": [
      "Accuracy:  (0.7159305210918114, 0.08504680015900329)\n",
      "Log Loss:  (-0.5349772510852756, 0.0709565837067633)\n"
     ]
    }
   ],
   "source": [
    "print(\"Accuracy: \", (accuracy_RF.mean(), accuracy_RF.std() * 2))\n",
    "print(\"Log Loss: \", (log_loss_RF.mean(), log_loss_RF.std() * 2))\n"
   ]
  },
  {
   "cell_type": "code",
   "execution_count": null,
   "metadata": {},
   "outputs": [],
   "source": []
  },
  {
   "cell_type": "markdown",
   "metadata": {},
   "source": [
    "## Linear SVM"
   ]
  },
  {
   "cell_type": "code",
   "execution_count": 171,
   "metadata": {},
   "outputs": [
    {
     "data": {
      "text/plain": [
       "0.7186023127199598"
      ]
     },
     "execution_count": 171,
     "metadata": {},
     "output_type": "execute_result"
    }
   ],
   "source": [
    "svc = SVC(kernel=\"linear\",probability=True)\n",
    "# The \"accuracy\" scoring is proportional to the number of correct\n",
    "# classifications\n",
    "scores_svc = cross_val_score(svc,X,Y,cv=15,scoring = 'accuracy')\n",
    "svc.fit(X,Y)\n",
    "svc.predict_proba(X)\n",
    "scores_svc.mean()"
   ]
  },
  {
   "cell_type": "code",
   "execution_count": 172,
   "metadata": {
    "scrolled": true
   },
   "outputs": [
    {
     "data": {
      "text/html": [
       "<div>\n",
       "<style scoped>\n",
       "    .dataframe tbody tr th:only-of-type {\n",
       "        vertical-align: middle;\n",
       "    }\n",
       "\n",
       "    .dataframe tbody tr th {\n",
       "        vertical-align: top;\n",
       "    }\n",
       "\n",
       "    .dataframe thead th {\n",
       "        text-align: right;\n",
       "    }\n",
       "</style>\n",
       "<table border=\"1\" class=\"dataframe\">\n",
       "  <thead>\n",
       "    <tr style=\"text-align: right;\">\n",
       "      <th></th>\n",
       "      <th>seed_diff</th>\n",
       "      <th>diff_fg2pct</th>\n",
       "      <th>diff_blockpct</th>\n",
       "      <th>diff_oppfg2pct</th>\n",
       "      <th>diff_oppfg3pct</th>\n",
       "    </tr>\n",
       "  </thead>\n",
       "  <tbody>\n",
       "    <tr>\n",
       "      <th>0</th>\n",
       "      <td>-15</td>\n",
       "      <td>6.546000</td>\n",
       "      <td>8.032500</td>\n",
       "      <td>6.69250</td>\n",
       "      <td>1.868700</td>\n",
       "    </tr>\n",
       "    <tr>\n",
       "      <th>1</th>\n",
       "      <td>-3</td>\n",
       "      <td>-3.446540</td>\n",
       "      <td>0.555019</td>\n",
       "      <td>4.25917</td>\n",
       "      <td>-0.801245</td>\n",
       "    </tr>\n",
       "    <tr>\n",
       "      <th>2</th>\n",
       "      <td>9</td>\n",
       "      <td>-5.538000</td>\n",
       "      <td>-8.663700</td>\n",
       "      <td>-2.51840</td>\n",
       "      <td>0.229400</td>\n",
       "    </tr>\n",
       "    <tr>\n",
       "      <th>3</th>\n",
       "      <td>1</td>\n",
       "      <td>2.923700</td>\n",
       "      <td>-3.157700</td>\n",
       "      <td>-4.27000</td>\n",
       "      <td>-0.656700</td>\n",
       "    </tr>\n",
       "    <tr>\n",
       "      <th>4</th>\n",
       "      <td>15</td>\n",
       "      <td>5.797600</td>\n",
       "      <td>5.005700</td>\n",
       "      <td>8.02400</td>\n",
       "      <td>0.391600</td>\n",
       "    </tr>\n",
       "    <tr>\n",
       "      <th>...</th>\n",
       "      <td>...</td>\n",
       "      <td>...</td>\n",
       "      <td>...</td>\n",
       "      <td>...</td>\n",
       "      <td>...</td>\n",
       "    </tr>\n",
       "    <tr>\n",
       "      <th>773</th>\n",
       "      <td>-7</td>\n",
       "      <td>-5.897461</td>\n",
       "      <td>7.761397</td>\n",
       "      <td>1.63728</td>\n",
       "      <td>5.312340</td>\n",
       "    </tr>\n",
       "    <tr>\n",
       "      <th>774</th>\n",
       "      <td>5</td>\n",
       "      <td>2.547700</td>\n",
       "      <td>0.959200</td>\n",
       "      <td>4.86180</td>\n",
       "      <td>0.207600</td>\n",
       "    </tr>\n",
       "    <tr>\n",
       "      <th>775</th>\n",
       "      <td>5</td>\n",
       "      <td>-2.173400</td>\n",
       "      <td>0.887900</td>\n",
       "      <td>1.96220</td>\n",
       "      <td>4.818900</td>\n",
       "    </tr>\n",
       "    <tr>\n",
       "      <th>776</th>\n",
       "      <td>1</td>\n",
       "      <td>3.159900</td>\n",
       "      <td>4.667100</td>\n",
       "      <td>2.09680</td>\n",
       "      <td>3.416200</td>\n",
       "    </tr>\n",
       "    <tr>\n",
       "      <th>777</th>\n",
       "      <td>-8</td>\n",
       "      <td>-0.492700</td>\n",
       "      <td>-4.591600</td>\n",
       "      <td>3.78140</td>\n",
       "      <td>-1.005000</td>\n",
       "    </tr>\n",
       "  </tbody>\n",
       "</table>\n",
       "<p>778 rows × 5 columns</p>\n",
       "</div>"
      ],
      "text/plain": [
       "     seed_diff  diff_fg2pct  diff_blockpct  diff_oppfg2pct  diff_oppfg3pct\n",
       "0          -15     6.546000       8.032500         6.69250        1.868700\n",
       "1           -3    -3.446540       0.555019         4.25917       -0.801245\n",
       "2            9    -5.538000      -8.663700        -2.51840        0.229400\n",
       "3            1     2.923700      -3.157700        -4.27000       -0.656700\n",
       "4           15     5.797600       5.005700         8.02400        0.391600\n",
       "..         ...          ...            ...             ...             ...\n",
       "773         -7    -5.897461       7.761397         1.63728        5.312340\n",
       "774          5     2.547700       0.959200         4.86180        0.207600\n",
       "775          5    -2.173400       0.887900         1.96220        4.818900\n",
       "776          1     3.159900       4.667100         2.09680        3.416200\n",
       "777         -8    -0.492700      -4.591600         3.78140       -1.005000\n",
       "\n",
       "[778 rows x 5 columns]"
      ]
     },
     "execution_count": 172,
     "metadata": {},
     "output_type": "execute_result"
    }
   ],
   "source": [
    "X"
   ]
  },
  {
   "cell_type": "markdown",
   "metadata": {},
   "source": [
    "## Linear Support Vector Classifier + log5"
   ]
  },
  {
   "cell_type": "code",
   "execution_count": 198,
   "metadata": {},
   "outputs": [
    {
     "data": {
      "text/html": [
       "<div>\n",
       "<style scoped>\n",
       "    .dataframe tbody tr th:only-of-type {\n",
       "        vertical-align: middle;\n",
       "    }\n",
       "\n",
       "    .dataframe tbody tr th {\n",
       "        vertical-align: top;\n",
       "    }\n",
       "\n",
       "    .dataframe thead th {\n",
       "        text-align: right;\n",
       "    }\n",
       "</style>\n",
       "<table border=\"1\" class=\"dataframe\">\n",
       "  <thead>\n",
       "    <tr style=\"text-align: right;\">\n",
       "      <th></th>\n",
       "      <th>team1_log5</th>\n",
       "      <th>seed_diff</th>\n",
       "      <th>diff_fg2pct</th>\n",
       "      <th>diff_blockpct</th>\n",
       "      <th>diff_oppfg2pct</th>\n",
       "      <th>diff_oppfg3pct</th>\n",
       "    </tr>\n",
       "  </thead>\n",
       "  <tbody>\n",
       "    <tr>\n",
       "      <th>0</th>\n",
       "      <td>0.587740</td>\n",
       "      <td>1</td>\n",
       "      <td>1.029100</td>\n",
       "      <td>7.714900</td>\n",
       "      <td>4.68450</td>\n",
       "      <td>-0.850800</td>\n",
       "    </tr>\n",
       "    <tr>\n",
       "      <th>1</th>\n",
       "      <td>0.566220</td>\n",
       "      <td>-1</td>\n",
       "      <td>1.774100</td>\n",
       "      <td>-0.965000</td>\n",
       "      <td>-2.97630</td>\n",
       "      <td>1.117500</td>\n",
       "    </tr>\n",
       "    <tr>\n",
       "      <th>2</th>\n",
       "      <td>0.896025</td>\n",
       "      <td>-13</td>\n",
       "      <td>3.368400</td>\n",
       "      <td>-3.593200</td>\n",
       "      <td>-4.21030</td>\n",
       "      <td>-0.618600</td>\n",
       "    </tr>\n",
       "    <tr>\n",
       "      <th>3</th>\n",
       "      <td>0.340080</td>\n",
       "      <td>0</td>\n",
       "      <td>-6.023977</td>\n",
       "      <td>1.078783</td>\n",
       "      <td>-2.16657</td>\n",
       "      <td>-3.596157</td>\n",
       "    </tr>\n",
       "    <tr>\n",
       "      <th>4</th>\n",
       "      <td>0.982148</td>\n",
       "      <td>-15</td>\n",
       "      <td>9.790900</td>\n",
       "      <td>-4.405000</td>\n",
       "      <td>-0.62910</td>\n",
       "      <td>0.140100</td>\n",
       "    </tr>\n",
       "    <tr>\n",
       "      <th>...</th>\n",
       "      <td>...</td>\n",
       "      <td>...</td>\n",
       "      <td>...</td>\n",
       "      <td>...</td>\n",
       "      <td>...</td>\n",
       "      <td>...</td>\n",
       "    </tr>\n",
       "    <tr>\n",
       "      <th>717</th>\n",
       "      <td>0.154512</td>\n",
       "      <td>8</td>\n",
       "      <td>1.200100</td>\n",
       "      <td>-1.444800</td>\n",
       "      <td>0.27810</td>\n",
       "      <td>0.452800</td>\n",
       "    </tr>\n",
       "    <tr>\n",
       "      <th>718</th>\n",
       "      <td>0.640873</td>\n",
       "      <td>-7</td>\n",
       "      <td>-0.889900</td>\n",
       "      <td>-1.230100</td>\n",
       "      <td>-3.85380</td>\n",
       "      <td>3.178700</td>\n",
       "    </tr>\n",
       "    <tr>\n",
       "      <th>719</th>\n",
       "      <td>0.388442</td>\n",
       "      <td>3</td>\n",
       "      <td>3.255300</td>\n",
       "      <td>-2.516200</td>\n",
       "      <td>2.48910</td>\n",
       "      <td>-0.182400</td>\n",
       "    </tr>\n",
       "    <tr>\n",
       "      <th>720</th>\n",
       "      <td>0.799135</td>\n",
       "      <td>-7</td>\n",
       "      <td>4.313100</td>\n",
       "      <td>8.418100</td>\n",
       "      <td>7.45180</td>\n",
       "      <td>3.122900</td>\n",
       "    </tr>\n",
       "    <tr>\n",
       "      <th>721</th>\n",
       "      <td>0.562691</td>\n",
       "      <td>-4</td>\n",
       "      <td>6.331000</td>\n",
       "      <td>-6.392500</td>\n",
       "      <td>-5.32260</td>\n",
       "      <td>-4.861900</td>\n",
       "    </tr>\n",
       "  </tbody>\n",
       "</table>\n",
       "<p>722 rows × 6 columns</p>\n",
       "</div>"
      ],
      "text/plain": [
       "     team1_log5  seed_diff  diff_fg2pct  diff_blockpct  diff_oppfg2pct  \\\n",
       "0      0.587740          1     1.029100       7.714900         4.68450   \n",
       "1      0.566220         -1     1.774100      -0.965000        -2.97630   \n",
       "2      0.896025        -13     3.368400      -3.593200        -4.21030   \n",
       "3      0.340080          0    -6.023977       1.078783        -2.16657   \n",
       "4      0.982148        -15     9.790900      -4.405000        -0.62910   \n",
       "..          ...        ...          ...            ...             ...   \n",
       "717    0.154512          8     1.200100      -1.444800         0.27810   \n",
       "718    0.640873         -7    -0.889900      -1.230100        -3.85380   \n",
       "719    0.388442          3     3.255300      -2.516200         2.48910   \n",
       "720    0.799135         -7     4.313100       8.418100         7.45180   \n",
       "721    0.562691         -4     6.331000      -6.392500        -5.32260   \n",
       "\n",
       "     diff_oppfg3pct  \n",
       "0         -0.850800  \n",
       "1          1.117500  \n",
       "2         -0.618600  \n",
       "3         -3.596157  \n",
       "4          0.140100  \n",
       "..              ...  \n",
       "717        0.452800  \n",
       "718        3.178700  \n",
       "719       -0.182400  \n",
       "720        3.122900  \n",
       "721       -4.861900  \n",
       "\n",
       "[722 rows x 6 columns]"
      ]
     },
     "execution_count": 198,
     "metadata": {},
     "output_type": "execute_result"
    }
   ],
   "source": [
    "x2"
   ]
  },
  {
   "cell_type": "code",
   "execution_count": 231,
   "metadata": {},
   "outputs": [
    {
     "data": {
      "text/plain": [
       "0.6953494218200099"
      ]
     },
     "execution_count": 231,
     "metadata": {},
     "output_type": "execute_result"
    }
   ],
   "source": [
    "svc2 = SVC(kernel=\"linear\",probability=True)\n",
    "# The \"accuracy\" scoring is proportional to the number of correct\n",
    "# classifications\n",
    "scores_svc2 = cross_val_score(svc2,x2,y2,cv=15,scoring = 'accuracy')\n",
    "svc.fit(x2,y2)\n",
    "svc.predict_proba(x2)\n",
    "scores_svc2.mean()"
   ]
  },
  {
   "cell_type": "code",
   "execution_count": 232,
   "metadata": {},
   "outputs": [
    {
     "data": {
      "text/plain": [
       "-0.5670545762981589"
      ]
     },
     "execution_count": 232,
     "metadata": {},
     "output_type": "execute_result"
    }
   ],
   "source": [
    "scores_svc3 = cross_val_score(svc2,x2,y2,cv=15,scoring = 'neg_log_loss')\n",
    "scores_svc3.mean()"
   ]
  },
  {
   "cell_type": "markdown",
   "metadata": {},
   "source": [
    "## Ensemble Model"
   ]
  },
  {
   "cell_type": "code",
   "execution_count": 269,
   "metadata": {},
   "outputs": [],
   "source": [
    "from sklearn.ensemble import VotingClassifier\n",
    "from sklearn.model_selection import GridSearchCV\n",
    "clf1 = LogisticRegression()\n",
    "clf2 = GaussianNB()\n",
    "clf3 = SVC(C=1.0, kernel='rbf', degree=3, gamma='auto', coef0=0.0, shrinking=True, probability=True, tol=0.001, cache_size=200, class_weight=None, verbose=False, max_iter=-1, decision_function_shape='ovr', random_state=None)\n",
    "clf4 = GradientBoostingClassifier(n_estimators=1000, learning_rate=1.0,max_depth=1, random_state=0)\n",
    "eclf = VotingClassifier(estimators=[('Logit', clf1), ('gnb', clf2), ('SVC', clf3), ('GB', clf4)], voting='soft', weights=[0.9,0.888,0.883,0.875])\n",
    "\n",
    "params = {'SVC__degree': [1, 10],'GB__n_estimators':[1000,2000]}\n",
    "\n",
    "grid = GridSearchCV(estimator=eclf, param_grid=params, cv=5)\n",
    "grid = grid.fit(x2,y2)"
   ]
  },
  {
   "cell_type": "code",
   "execution_count": null,
   "metadata": {},
   "outputs": [],
   "source": []
  },
  {
   "cell_type": "code",
   "execution_count": null,
   "metadata": {},
   "outputs": [],
   "source": []
  },
  {
   "cell_type": "code",
   "execution_count": null,
   "metadata": {},
   "outputs": [],
   "source": []
  },
  {
   "cell_type": "code",
   "execution_count": null,
   "metadata": {},
   "outputs": [],
   "source": [
    "## text blob, lm, bingli"
   ]
  },
  {
   "cell_type": "code",
   "execution_count": 270,
   "metadata": {},
   "outputs": [
    {
     "data": {
      "text/plain": [
       "0.9113110539845758"
      ]
     },
     "execution_count": 270,
     "metadata": {},
     "output_type": "execute_result"
    }
   ],
   "source": [
    "grid.score(x2,y2)"
   ]
  },
  {
   "cell_type": "code",
   "execution_count": 271,
   "metadata": {},
   "outputs": [],
   "source": [
    "log_loss_grid = cross_val_score(grid,x2,y2,scoring = 'neg_log_loss')\n"
   ]
  },
  {
   "cell_type": "code",
   "execution_count": 278,
   "metadata": {},
   "outputs": [
    {
     "data": {
      "text/plain": [
       "-0.5748770122119365"
      ]
     },
     "execution_count": 278,
     "metadata": {},
     "output_type": "execute_result"
    }
   ],
   "source": [
    "log_loss_grid.mean()"
   ]
  },
  {
   "cell_type": "markdown",
   "metadata": {},
   "source": [
    "## Naive Bayes"
   ]
  },
  {
   "cell_type": "code",
   "execution_count": 273,
   "metadata": {},
   "outputs": [
    {
     "data": {
      "text/plain": [
       "GaussianNB(priors=None, var_smoothing=1e-09)"
      ]
     },
     "execution_count": 273,
     "metadata": {},
     "output_type": "execute_result"
    }
   ],
   "source": [
    "from sklearn.naive_bayes import GaussianNB\n",
    "gnb = GaussianNB()\n",
    "gnb.fit(x2, y2)"
   ]
  },
  {
   "cell_type": "code",
   "execution_count": 275,
   "metadata": {},
   "outputs": [
    {
     "data": {
      "text/plain": [
       "0.7095115681233933"
      ]
     },
     "execution_count": 275,
     "metadata": {},
     "output_type": "execute_result"
    }
   ],
   "source": [
    "gnb.predict(x2)\n",
    "#gnb.predict(test['team1_win'].values)\n",
    "gnb.score(x2,y2)"
   ]
  },
  {
   "cell_type": "code",
   "execution_count": 277,
   "metadata": {},
   "outputs": [
    {
     "data": {
      "text/plain": [
       "-0.6334241665668129"
      ]
     },
     "execution_count": 277,
     "metadata": {},
     "output_type": "execute_result"
    }
   ],
   "source": [
    "log_loss_naive = cross_val_score(gnb,x2,y2,scoring = 'neg_log_loss')\n",
    "log_loss_naive.mean()"
   ]
  }
 ],
 "metadata": {
  "kernelspec": {
   "display_name": "Python 3",
   "language": "python",
   "name": "python3"
  },
  "language_info": {
   "codemirror_mode": {
    "name": "ipython",
    "version": 3
   },
   "file_extension": ".py",
   "mimetype": "text/x-python",
   "name": "python",
   "nbconvert_exporter": "python",
   "pygments_lexer": "ipython3",
   "version": "3.7.6"
  }
 },
 "nbformat": 4,
 "nbformat_minor": 4
}
